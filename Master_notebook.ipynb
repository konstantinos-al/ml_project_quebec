{
 "cells": [
  {
   "cell_type": "markdown",
   "metadata": {},
   "source": [
    "#### Libraries"
   ]
  },
  {
   "cell_type": "code",
   "execution_count": 40,
   "metadata": {},
   "outputs": [
    {
     "name": "stdout",
     "output_type": "stream",
     "text": [
      "Collecting scikit-image\n",
      "  Downloading scikit_image-0.19.3-cp39-cp39-win_amd64.whl (12.1 MB)\n",
      "Collecting imageio>=2.4.1\n",
      "  Downloading imageio-2.21.0-py3-none-any.whl (3.4 MB)\n",
      "Requirement already satisfied: pillow!=7.1.0,!=7.1.1,!=8.3.0,>=6.1.0 in c:\\users\\kwnst\\anaconda3\\envs\\conda_env\\lib\\site-packages (from scikit-image) (9.2.0)\n",
      "Collecting tifffile>=2019.7.26\n",
      "  Downloading tifffile-2022.7.31-py3-none-any.whl (207 kB)\n",
      "Requirement already satisfied: packaging>=20.0 in c:\\users\\kwnst\\anaconda3\\envs\\conda_env\\lib\\site-packages (from scikit-image) (21.3)\n",
      "Collecting networkx>=2.2\n",
      "  Downloading networkx-2.8.5-py3-none-any.whl (2.0 MB)\n",
      "Requirement already satisfied: numpy>=1.17.0 in c:\\users\\kwnst\\anaconda3\\envs\\conda_env\\lib\\site-packages (from scikit-image) (1.23.1)\n",
      "Requirement already satisfied: scipy>=1.4.1 in c:\\users\\kwnst\\anaconda3\\envs\\conda_env\\lib\\site-packages (from scikit-image) (1.9.0)\n",
      "Collecting PyWavelets>=1.1.1\n",
      "  Downloading PyWavelets-1.3.0-cp39-cp39-win_amd64.whl (4.2 MB)\n",
      "Requirement already satisfied: pyparsing!=3.0.5,>=2.0.2 in c:\\users\\kwnst\\anaconda3\\envs\\conda_env\\lib\\site-packages (from packaging>=20.0->scikit-image) (3.0.4)\n",
      "Installing collected packages: tifffile, PyWavelets, networkx, imageio, scikit-image\n",
      "Successfully installed PyWavelets-1.3.0 imageio-2.21.0 networkx-2.8.5 scikit-image-0.19.3 tifffile-2022.7.31\n",
      "Note: you may need to restart the kernel to use updated packages.\n"
     ]
    }
   ],
   "source": [
    "pip install scikit-image"
   ]
  },
  {
   "cell_type": "code",
   "execution_count": 41,
   "metadata": {},
   "outputs": [],
   "source": [
    "from sklearn.preprocessing import LabelBinarizer\n",
    "from sklearn.model_selection import train_test_split\n",
    "from sklearn.metrics import classification_report\n",
    "from imutils import paths\n",
    "import matplotlib.pyplot as plt\n",
    "import numpy as np\n",
    "import argparse\n",
    "import os\n",
    "import glob\n",
    "import xmltodict\n",
    "from tensorflow.keras.utils import to_categorical\n",
    "import cv2\n",
    "import matplotlib.pyplot as plt\n",
    "from sklearn.model_selection import train_test_split\n",
    "from tensorflow.keras.preprocessing.image import ImageDataGenerator\n",
    "from tensorflow.keras.applications import MobileNetV2\n",
    "from tensorflow.keras.layers import AveragePooling2D\n",
    "from tensorflow.keras.layers import Dropout\n",
    "from tensorflow.keras.layers import Flatten\n",
    "from tensorflow.keras.layers import Dense\n",
    "from tensorflow.keras.layers import Input\n",
    "from tensorflow.keras.models import Model\n",
    "from tensorflow.keras.optimizers import Adam\n",
    "from tensorflow.keras.applications.mobilenet_v2 import preprocess_input\n",
    "from tensorflow.keras.preprocessing.image import img_to_array\n",
    "from tensorflow.keras.preprocessing.image import load_img\n",
    "from urllib.request import urlopen\n",
    "from xml.etree.ElementTree import parse\n",
    "from numpy import expand_dims\n",
    "from keras.utils.image_utils import load_img\n",
    "from keras.utils.image_utils import img_to_array\n",
    "from tensorflow.keras.preprocessing.image import ImageDataGenerator # load the image\n",
    "import xml.etree.ElementTree as ET\n",
    "import cv2\n",
    "import numpy as np\n",
    "from matplotlib.colors import LogNorm\n",
    "from skimage import io\n",
    "from scipy.signal import convolve2d\n",
    "from PIL import Image  \n",
    "import PIL \n",
    "from matplotlib import pyplot as plt\n",
    "import matplotlib.image as mpimg\n",
    "import urllib\n",
    "import xml.etree.ElementTree as ET # copy of xml\n"
   ]
  },
  {
   "cell_type": "code",
   "execution_count": 7,
   "metadata": {},
   "outputs": [],
   "source": [
    "from bs4 import BeautifulSoup\n",
    "from PIL import Image\n",
    "import requests\n",
    "from matplotlib import pyplot as plt\n",
    "from io import BytesIO"
   ]
  },
  {
   "cell_type": "code",
   "execution_count": 15,
   "metadata": {},
   "outputs": [],
   "source": [
    " def visualize(**images):\n",
    "     \"\"\"PLot images in one row.\"\"\"\n",
    "     n = len(images)\n",
    "     plt.figure(figsize=(16, 5))\n",
    "     for i, (name, image) in enumerate(images.items()):\n",
    "         plt.subplot(1, n, i + 1)\n",
    "         plt.xticks([])\n",
    "         plt.yticks([])\n",
    "         plt.title(' '.join(name.split('_')).title())\n",
    "         plt.imshow(image)\n",
    "     plt.show()"
   ]
  },
  {
   "cell_type": "markdown",
   "metadata": {},
   "source": [
    "#### Reading URLs for images and annotations"
   ]
  },
  {
   "cell_type": "code",
   "execution_count": 8,
   "metadata": {},
   "outputs": [],
   "source": [
    "prefix_url_imgs = \"https://raw.githubusercontent.com/konstantinos-al/ml_project_quebec/main/Kaggle_helmets/images/\"\n",
    "number_of_imgs = 766 # +1 to include last one (765)\n",
    "\n",
    "list_imgs = []\n",
    "\n",
    "for i in range(0, number_of_imgs):\n",
    "    i = str(i)\n",
    "    var_imgs = \"BikesHelmets\" + i + \".png\"\n",
    "    var_imgs_url = prefix_url_imgs + var_imgs\n",
    "    list_imgs.append(var_imgs_url)\n",
    "\n",
    "#for i in range(0, len(list_imgs)):\n",
    "#    response = requests.get(list_imgs[i])\n",
    "#    img = Image.open(BytesIO(response.content))\n",
    "#    plt.imshow(img)"
   ]
  },
  {
   "cell_type": "code",
   "execution_count": 9,
   "metadata": {},
   "outputs": [],
   "source": [
    "prefix_url_xml = \"https://raw.githubusercontent.com/konstantinos-al/ml_project_quebec/main/Kaggle_helmets/annotations/\"\n",
    "number_of_annt = 766 # +1 to include last one (765)\n",
    "\n",
    "list_annotations= []\n",
    "\n",
    "for i in range(0, number_of_annt):\n",
    "    i = str(i)\n",
    "    var_annt = \"BikesHelmets\" + i + \".xml\"\n",
    "    var_annt_url = prefix_url_xml + var_annt\n",
    "    list_annotations.append(var_annt_url)\n",
    "\n",
    "#for i in range(0, len(list_annotations)):\n",
    "#    response = requests.get(list_imgs[i])\n",
    "#    img = Image.open(BytesIO(response.content))\n",
    "#    plt.imshow(img)"
   ]
  },
  {
   "cell_type": "markdown",
   "metadata": {},
   "source": [
    "#### Labelling images from annotations XMLs"
   ]
  },
  {
   "cell_type": "code",
   "execution_count": 22,
   "metadata": {},
   "outputs": [],
   "source": [
    "# same code with below by removing cropping"
   ]
  },
  {
   "cell_type": "markdown",
   "metadata": {},
   "source": [
    "#### Augmentation of full images"
   ]
  },
  {
   "cell_type": "markdown",
   "metadata": {},
   "source": [
    "#### Cropping images with bounding box"
   ]
  },
  {
   "cell_type": "code",
   "execution_count": 92,
   "metadata": {},
   "outputs": [],
   "source": [
    "cropped_imgs = []\n",
    "\n",
    "for xml_path in list_annotations:\n",
    "    try:    \n",
    "        with urlopen(xml_path) as my_xml:\n",
    "        \n",
    "            xmld = xmltodict.parse(my_xml)\n",
    "            tags = xmld['annotation']\n",
    "\n",
    "            img_path = prefix_url_imgs + tags['filename']\n",
    "            img_url = requests.get(img_path)\n",
    "            img_temp = Image.open(BytesIO(img_url.content))\n",
    "            image = cv2.cvtColor(np.array(img_temp), cv2.COLOR_BGR2RGB)\n",
    "            mask = np.zeros(image.shape, dtype = 'int32')\n",
    "\n",
    "            if 'object' in tags:\n",
    "\n",
    "                if isinstance(tags['object'], list):\n",
    "                    for i in tags['object']:\n",
    "                        xmin = int(i['bndbox']['xmin'])\n",
    "                        ymin = int(i['bndbox']['ymin'])\n",
    "                        xmax = int(i['bndbox']['xmax'])\n",
    "                        ymax = int(i['bndbox']['ymax'])\n",
    "                        if i['name'] == 'With Helmet':\n",
    "                            mask = cv2.rectangle(mask, (xmin,ymin), (xmax,ymax), (0,255,0), -1)\n",
    "                            result = cv2.addWeighted(image, 1, mask, 0.9, 0.7, dtype = cv2.CV_8UC3)\n",
    "                            cropped_imgs.append([tags['filename'], image[ymin:ymax, xmin:xmax], 0, img_path])\n",
    "                            #visualize(image=image, result = result, head = image[ymin:ymax, xmin:xmax])\n",
    "                            \n",
    "                        else:\n",
    "                            cv2.rectangle(mask, (xmin,ymin), (xmax,ymax), (255,0,0), -1)\n",
    "                            result = cv2.addWeighted(image, 1, mask, 0.9, 0.7, dtype = cv2.CV_8UC3)\n",
    "                            cropped_imgs.append([tags['filename'], image[ymin:ymax, xmin:xmax], 1, img_path])\n",
    "                            \n",
    "                            #plt.imsave(os.path.join('results', tags['filename']), result)\n",
    "                    #visualize(image=image, result = result, head = image[ymin:ymax, xmin:xmax])\n",
    "                if isinstance(tags['object'], dict):\n",
    "                    xmin = int(tags['object']['bndbox']['xmin'])\n",
    "                    ymin = int(tags['object']['bndbox']['ymin'])\n",
    "                    xmax = int(tags['object']['bndbox']['xmax'])\n",
    "                    ymax = int(tags['object']['bndbox']['ymax'])\n",
    "                    if tags['object']['name'] == 'With Helmet':\n",
    "                        cv2.rectangle(mask, (xmin,ymin), (xmax,ymax), (0,255,0), -1)\n",
    "                        result = cv2.addWeighted(image, 1, mask, 0.9, 0.7, dtype = cv2.CV_8UC3)\n",
    "                        cropped_imgs.append([tags['filename'], image[ymin:ymax, xmin:xmax], 0, img_path])\n",
    "                        #visualize(image=image, result = result, head = image[ymin:ymax, xmin:xmax])\n",
    "                    else:\n",
    "                        cv2.rectangle(mask, (xmin,ymin), (xmax,ymax), (255,0,0), -1)\n",
    "                        result = cv2.addWeighted(image, 1, mask, 0.9, 0.7, dtype = cv2.CV_8UC3)\n",
    "                        cropped_imgs.append([tags['filename'], image[ymin:ymax, xmin:xmax], 1, img_path])\n",
    "                    # plt.imsave(os.path.join('results', tags['filename']), result)\n",
    "                    #visualize(image=image, result = result, head = image[ymin:ymax, xmin:xmax])\n",
    "            else:\n",
    "                pass\n",
    "    except:\n",
    "        pass"
   ]
  },
  {
   "cell_type": "code",
   "execution_count": 65,
   "metadata": {},
   "outputs": [],
   "source": [
    "# Υπάρχουν κάποιες φωτογρασφίες με λάθος τα annotations και για να μην σκάει προς το παρόν\n",
    "\n",
    "def checking_for_zero_shapes(list):\n",
    "    for i, label_image in enumerate(list):\n",
    "        image = np.array(label_image[1]).astype(np.int32)\n",
    "        if image.shape[0]==0 or image.shape[1]==0:\n",
    "            list.pop(i)\n",
    "\n",
    "    return list"
   ]
  },
  {
   "cell_type": "code",
   "execution_count": 71,
   "metadata": {},
   "outputs": [
    {
     "ename": "ValueError",
     "evalue": "invalid literal for int() with base 10: 'BikesHelmets0.png'",
     "output_type": "error",
     "traceback": [
      "\u001b[1;31m---------------------------------------------------------------------------\u001b[0m",
      "\u001b[1;31mValueError\u001b[0m                                Traceback (most recent call last)",
      "\u001b[1;32mc:\\Users\\kwnst\\OneDrive\\Υπολογιστής\\github\\ml_project_quebec\\Master_notebook.ipynb Cell 16\u001b[0m in \u001b[0;36m<cell line: 7>\u001b[1;34m()\u001b[0m\n\u001b[0;32m      <a href='vscode-notebook-cell:/c%3A/Users/kwnst/OneDrive/%CE%A5%CF%80%CE%BF%CE%BB%CE%BF%CE%B3%CE%B9%CF%83%CF%84%CE%AE%CF%82/github/ml_project_quebec/Master_notebook.ipynb#ch0000034?line=4'>5</a>\u001b[0m cropped_array \u001b[39m=\u001b[39m np\u001b[39m.\u001b[39marray(cropped_imgs_cleaned, dtype\u001b[39m=\u001b[39m\u001b[39m'\u001b[39m\u001b[39mobject\u001b[39m\u001b[39m'\u001b[39m)\u001b[39m.\u001b[39mreshape(\u001b[39m-\u001b[39m\u001b[39m1\u001b[39m,\u001b[39m2\u001b[39m,\u001b[39m1\u001b[39m)\n\u001b[0;32m      <a href='vscode-notebook-cell:/c%3A/Users/kwnst/OneDrive/%CE%A5%CF%80%CE%BF%CE%BB%CE%BF%CE%B3%CE%B9%CF%83%CF%84%CE%AE%CF%82/github/ml_project_quebec/Master_notebook.ipynb#ch0000034?line=5'>6</a>\u001b[0m \u001b[39m#imgs_labels = np.array(imgs_labels).reshape(-1,2,1)\u001b[39;00m\n\u001b[1;32m----> <a href='vscode-notebook-cell:/c%3A/Users/kwnst/OneDrive/%CE%A5%CF%80%CE%BF%CE%BB%CE%BF%CE%B3%CE%B9%CF%83%CF%84%CE%AE%CF%82/github/ml_project_quebec/Master_notebook.ipynb#ch0000034?line=6'>7</a>\u001b[0m cropped_array_reshaped \u001b[39m=\u001b[39m cropped_array[:,\u001b[39m0\u001b[39;49m]\u001b[39m.\u001b[39;49mreshape(\u001b[39m-\u001b[39;49m\u001b[39m1\u001b[39;49m,\u001b[39m1\u001b[39;49m)\u001b[39m.\u001b[39;49mastype(np\u001b[39m.\u001b[39;49mint32)\n\u001b[0;32m      <a href='vscode-notebook-cell:/c%3A/Users/kwnst/OneDrive/%CE%A5%CF%80%CE%BF%CE%BB%CE%BF%CE%B3%CE%B9%CF%83%CF%84%CE%AE%CF%82/github/ml_project_quebec/Master_notebook.ipynb#ch0000034?line=7'>8</a>\u001b[0m cropped_flatten \u001b[39m=\u001b[39m cropped_array_reshaped[:,\u001b[39m1\u001b[39m]\u001b[39m.\u001b[39mflatten()\n\u001b[0;32m      <a href='vscode-notebook-cell:/c%3A/Users/kwnst/OneDrive/%CE%A5%CF%80%CE%BF%CE%BB%CE%BF%CE%B3%CE%B9%CF%83%CF%84%CE%AE%CF%82/github/ml_project_quebec/Master_notebook.ipynb#ch0000034?line=8'>9</a>\u001b[0m cropped_normalized \u001b[39m=\u001b[39m cropped_flatten\u001b[39m/\u001b[39m\u001b[39m255\u001b[39m\n",
      "\u001b[1;31mValueError\u001b[0m: invalid literal for int() with base 10: 'BikesHelmets0.png'"
     ]
    }
   ],
   "source": [
    "# Κάνουμε visualize μία φωτό + reshape, flatten και 0-1\n",
    "\n",
    "cropped_imgs_cleaned = checking_for_zero_shapes(cropped_imgs)\n",
    "#imgs_labels.pop(1342) #H prohgoumenh sunarthsh de mporei na bgalei authn thn eikona, de kserw giati\n",
    "#cropped_array = np.array(cropped_imgs_cleaned, dtype='object').reshape(-1,2,1)\n",
    "    #imgs_labels = np.array(imgs_labels).reshape(-1,2,1)\n",
    "#cropped_array_reshaped = cropped_array[:,0].reshape(-1,1).astype(np.int32)\n",
    "cropped_flatten = cropped_array_reshaped[:,1].flatten()\n",
    "cropped_normalized = cropped_flatten/255\n",
    "imgs = np.array(cropped_normalized)\n",
    "#print(imgs)\n",
    "\n",
    "visualize(Sample_Image = imgs[0])"
   ]
  },
  {
   "cell_type": "markdown",
   "metadata": {},
   "source": [
    "#### Augmentantion functions"
   ]
  },
  {
   "cell_type": "code",
   "execution_count": 173,
   "metadata": {},
   "outputs": [],
   "source": [
    "def convert(img):\n",
    "    # convert to numpy array\n",
    "    #data = img_to_array(img)\n",
    "    # expand dimension to one sample\n",
    "    samples = expand_dims(img, 0)\n",
    "    return samples"
   ]
  },
  {
   "cell_type": "code",
   "execution_count": 191,
   "metadata": {},
   "outputs": [
    {
     "data": {
      "text/plain": [
       "array([[[[222, 231, 236, 255],\n",
       "         [216, 226, 233, 255],\n",
       "         [209, 221, 228, 255],\n",
       "         ...,\n",
       "         [169, 164, 156, 255],\n",
       "         [170, 165, 157, 255],\n",
       "         [170, 166, 158, 255]],\n",
       "\n",
       "        [[226, 233, 238, 255],\n",
       "         [222, 231, 236, 255],\n",
       "         [219, 228, 234, 255],\n",
       "         ...,\n",
       "         [170, 164, 156, 255],\n",
       "         [171, 165, 157, 255],\n",
       "         [171, 167, 159, 255]],\n",
       "\n",
       "        [[226, 234, 239, 255],\n",
       "         [223, 232, 237, 255],\n",
       "         [222, 231, 236, 255],\n",
       "         ...,\n",
       "         [169, 162, 154, 255],\n",
       "         [170, 163, 155, 255],\n",
       "         [170, 167, 160, 255]],\n",
       "\n",
       "        ...,\n",
       "\n",
       "        [[211, 160, 168, 255],\n",
       "         [220, 175, 181, 255],\n",
       "         [223, 174, 180, 255],\n",
       "         ...,\n",
       "         [174, 179, 168, 255],\n",
       "         [139, 158, 146, 255],\n",
       "         [118, 147, 138, 255]],\n",
       "\n",
       "        [[214, 163, 171, 255],\n",
       "         [221, 175, 180, 255],\n",
       "         [224, 174, 180, 255],\n",
       "         ...,\n",
       "         [206, 190, 183, 255],\n",
       "         [152, 156, 145, 255],\n",
       "         [103, 132, 120, 255]],\n",
       "\n",
       "        [[216, 164, 171, 255],\n",
       "         [220, 170, 176, 255],\n",
       "         [223, 172, 178, 255],\n",
       "         ...,\n",
       "         [232, 202, 198, 255],\n",
       "         [195, 176, 168, 255],\n",
       "         [117, 126, 111, 255]]]], dtype=uint8)"
      ]
     },
     "execution_count": 191,
     "metadata": {},
     "output_type": "execute_result"
    }
   ],
   "source": [
    "expand_dims(cropped_imgs[0][1],0)"
   ]
  },
  {
   "cell_type": "code",
   "execution_count": 180,
   "metadata": {},
   "outputs": [
    {
     "data": {
      "text/plain": [
       "array([[[[222, 231, 236, 255],\n",
       "         [216, 226, 233, 255],\n",
       "         [209, 221, 228, 255],\n",
       "         ...,\n",
       "         [169, 164, 156, 255],\n",
       "         [170, 165, 157, 255],\n",
       "         [170, 166, 158, 255]],\n",
       "\n",
       "        [[226, 233, 238, 255],\n",
       "         [222, 231, 236, 255],\n",
       "         [219, 228, 234, 255],\n",
       "         ...,\n",
       "         [170, 164, 156, 255],\n",
       "         [171, 165, 157, 255],\n",
       "         [171, 167, 159, 255]],\n",
       "\n",
       "        [[226, 234, 239, 255],\n",
       "         [223, 232, 237, 255],\n",
       "         [222, 231, 236, 255],\n",
       "         ...,\n",
       "         [169, 162, 154, 255],\n",
       "         [170, 163, 155, 255],\n",
       "         [170, 167, 160, 255]],\n",
       "\n",
       "        ...,\n",
       "\n",
       "        [[211, 160, 168, 255],\n",
       "         [220, 175, 181, 255],\n",
       "         [223, 174, 180, 255],\n",
       "         ...,\n",
       "         [174, 179, 168, 255],\n",
       "         [139, 158, 146, 255],\n",
       "         [118, 147, 138, 255]],\n",
       "\n",
       "        [[214, 163, 171, 255],\n",
       "         [221, 175, 180, 255],\n",
       "         [224, 174, 180, 255],\n",
       "         ...,\n",
       "         [206, 190, 183, 255],\n",
       "         [152, 156, 145, 255],\n",
       "         [103, 132, 120, 255]],\n",
       "\n",
       "        [[216, 164, 171, 255],\n",
       "         [220, 170, 176, 255],\n",
       "         [223, 172, 178, 255],\n",
       "         ...,\n",
       "         [232, 202, 198, 255],\n",
       "         [195, 176, 168, 255],\n",
       "         [117, 126, 111, 255]]]], dtype=uint8)"
      ]
     },
     "execution_count": 180,
     "metadata": {},
     "output_type": "execute_result"
    }
   ],
   "source": [
    "convert(cropped_imgs[0][1])"
   ]
  },
  {
   "cell_type": "code",
   "execution_count": 187,
   "metadata": {},
   "outputs": [],
   "source": [
    "def picture_zoom(image):\n",
    "   \n",
    "   # create image data augmentation generator\n",
    "    datagen_zoom= ImageDataGenerator(zoom_range=[0.8,1.5])\n",
    "\n",
    "    # prepare iterator\n",
    "    it_zoom = datagen_zoom.flow(image, batch_size=1)\n",
    "\n",
    "    # generate batch of images\n",
    "    batch_zoom = it_zoom.next()\n",
    "    \n",
    "    # convert to unsigned integers for viewing\n",
    "    image_zoom = batch_zoom[0].astype('uint64')\n",
    "    \n",
    "    # plot raw pixel \n",
    "    img_zoom=plt.imshow(image_zoom, interpolation ='None', filternorm=True) #spline36, antialiased\n",
    "\n",
    "    # appending to list\n",
    "    list = [image, image_zoom]\n",
    "    return list\n",
    "    #save new picture\n",
    "    #img_zoom.figure.savefig(\"C://Users//Eftixia//Desktop//dataset//Final Helmet datasets//Helmet Kaggle//Augmentation//Zoom\"+imagename+\".png\")"
   ]
  },
  {
   "cell_type": "code",
   "execution_count": 167,
   "metadata": {},
   "outputs": [
    {
     "data": {
      "text/plain": [
       "(55, 53, 4)"
      ]
     },
     "execution_count": 167,
     "metadata": {},
     "output_type": "execute_result"
    }
   ],
   "source": [
    "#plt.imshow(cropped_imgs[0][1], interpolation='nearest')\n",
    "#plt.show()\n",
    "cropped_imgs[0][1].shape#.reshape(-1,1,4)"
   ]
  },
  {
   "cell_type": "code",
   "execution_count": 195,
   "metadata": {},
   "outputs": [
    {
     "data": {
      "text/plain": [
       "[array([[[[ 92, 129, 148, 255],\n",
       "          [ 78, 111, 131, 255],\n",
       "          [ 98, 113, 133, 255],\n",
       "          ...,\n",
       "          [100, 133, 156, 255],\n",
       "          [113, 138, 158, 255],\n",
       "          [127, 153, 172, 255]],\n",
       " \n",
       "         [[106, 139, 159, 255],\n",
       "          [ 86, 118, 138, 255],\n",
       "          [ 87, 101, 121, 255],\n",
       "          ...,\n",
       "          [100, 132, 155, 255],\n",
       "          [111, 137, 157, 255],\n",
       "          [133, 160, 179, 255]],\n",
       " \n",
       "         [[105, 134, 154, 255],\n",
       "          [130, 159, 178, 255],\n",
       "          [105, 115, 134, 255],\n",
       "          ...,\n",
       "          [110, 142, 165, 255],\n",
       "          [113, 141, 160, 255],\n",
       "          [124, 152, 171, 255]],\n",
       " \n",
       "         ...,\n",
       " \n",
       "         [[ 20,  20,  26, 255],\n",
       "          [  8,   8,  15, 255],\n",
       "          [ 12,  12,  19, 255],\n",
       "          ...,\n",
       "          [148, 160, 171, 255],\n",
       "          [147, 159, 171, 255],\n",
       "          [148, 160, 172, 255]],\n",
       " \n",
       "         [[ 28,  28,  34, 255],\n",
       "          [ 11,  11,  18, 255],\n",
       "          [  8,   8,  16, 255],\n",
       "          ...,\n",
       "          [148, 159, 171, 255],\n",
       "          [146, 158, 170, 255],\n",
       "          [147, 159, 170, 255]],\n",
       " \n",
       "         [[ 31,  31,  40, 255],\n",
       "          [ 16,  15,  24, 255],\n",
       "          [  8,   6,  14, 255],\n",
       "          ...,\n",
       "          [146, 157, 169, 255],\n",
       "          [144, 156, 168, 255],\n",
       "          [144, 156, 167, 255]]]], dtype=uint8),\n",
       " array([[[ 92, 129, 148, 255],\n",
       "         [ 92, 129, 148, 255],\n",
       "         [ 92, 129, 148, 255],\n",
       "         ...,\n",
       "         [127, 153, 172, 255],\n",
       "         [127, 153, 172, 255],\n",
       "         [127, 153, 172, 255]],\n",
       " \n",
       "        [[ 92, 129, 148, 255],\n",
       "         [ 92, 129, 148, 255],\n",
       "         [ 92, 129, 148, 255],\n",
       "         ...,\n",
       "         [127, 153, 172, 255],\n",
       "         [127, 153, 172, 255],\n",
       "         [127, 153, 172, 255]],\n",
       " \n",
       "        [[ 92, 129, 148, 255],\n",
       "         [ 92, 129, 148, 255],\n",
       "         [ 92, 129, 148, 255],\n",
       "         ...,\n",
       "         [127, 153, 172, 255],\n",
       "         [127, 153, 172, 255],\n",
       "         [127, 153, 172, 255]],\n",
       " \n",
       "        ...,\n",
       " \n",
       "        [[ 31,  31,  40, 255],\n",
       "         [ 31,  31,  40, 255],\n",
       "         [ 31,  31,  40, 255],\n",
       "         ...,\n",
       "         [144, 156, 167, 255],\n",
       "         [144, 156, 167, 255],\n",
       "         [144, 156, 167, 255]],\n",
       " \n",
       "        [[ 31,  31,  40, 255],\n",
       "         [ 31,  31,  40, 255],\n",
       "         [ 31,  31,  40, 255],\n",
       "         ...,\n",
       "         [144, 156, 167, 255],\n",
       "         [144, 156, 167, 255],\n",
       "         [144, 156, 167, 255]],\n",
       " \n",
       "        [[ 31,  31,  40, 255],\n",
       "         [ 31,  31,  40, 255],\n",
       "         [ 31,  31,  40, 255],\n",
       "         ...,\n",
       "         [144, 156, 167, 255],\n",
       "         [144, 156, 167, 255],\n",
       "         [144, 156, 167, 255]]], dtype=uint64)]"
      ]
     },
     "execution_count": 195,
     "metadata": {},
     "output_type": "execute_result"
    },
    {
     "data": {
      "image/png": "[encoded data removed]",
      "text/plain": [
       "<Figure size 432x288 with 1 Axes>"
      ]
     },
     "metadata": {
      "needs_background": "light"
     },
     "output_type": "display_data"
    }
   ],
   "source": [
    "picture_zoom(convert(cropped_imgs[4][1]))"
   ]
  },
  {
   "cell_type": "code",
   "execution_count": 136,
   "metadata": {},
   "outputs": [
    {
     "ename": "ValueError",
     "evalue": "('Input data in `NumpyArrayIterator` should have rank 4. You passed an array with shape', (55, 53, 4))",
     "output_type": "error",
     "traceback": [
      "\u001b[1;31m---------------------------------------------------------------------------\u001b[0m",
      "\u001b[1;31mValueError\u001b[0m                                Traceback (most recent call last)",
      "\u001b[1;32mc:\\Users\\kwnst\\OneDrive\\Υπολογιστής\\github\\ml_project_quebec\\Master_notebook.ipynb Cell 20\u001b[0m in \u001b[0;36m<cell line: 3>\u001b[1;34m()\u001b[0m\n\u001b[0;32m      <a href='vscode-notebook-cell:/c%3A/Users/kwnst/OneDrive/%CE%A5%CF%80%CE%BF%CE%BB%CE%BF%CE%B3%CE%B9%CF%83%CF%84%CE%AE%CF%82/github/ml_project_quebec/Master_notebook.ipynb#ch0000030?line=1'>2</a>\u001b[0m test_list \u001b[39m=\u001b[39m []\n\u001b[0;32m      <a href='vscode-notebook-cell:/c%3A/Users/kwnst/OneDrive/%CE%A5%CF%80%CE%BF%CE%BB%CE%BF%CE%B3%CE%B9%CF%83%CF%84%CE%AE%CF%82/github/ml_project_quebec/Master_notebook.ipynb#ch0000030?line=2'>3</a>\u001b[0m \u001b[39mfor\u001b[39;00m i \u001b[39min\u001b[39;00m \u001b[39mrange\u001b[39m(\u001b[39m0\u001b[39m, \u001b[39mlen\u001b[39m(cropped_imgs)\u001b[39m+\u001b[39m\u001b[39m1\u001b[39m):\n\u001b[1;32m----> <a href='vscode-notebook-cell:/c%3A/Users/kwnst/OneDrive/%CE%A5%CF%80%CE%BF%CE%BB%CE%BF%CE%B3%CE%B9%CF%83%CF%84%CE%AE%CF%82/github/ml_project_quebec/Master_notebook.ipynb#ch0000030?line=3'>4</a>\u001b[0m     picture_zoom(cropped_imgs[i])\n",
      "\u001b[1;32mc:\\Users\\kwnst\\OneDrive\\Υπολογιστής\\github\\ml_project_quebec\\Master_notebook.ipynb Cell 20\u001b[0m in \u001b[0;36mpicture_zoom\u001b[1;34m(image)\u001b[0m\n\u001b[0;32m      <a href='vscode-notebook-cell:/c%3A/Users/kwnst/OneDrive/%CE%A5%CF%80%CE%BF%CE%BB%CE%BF%CE%B3%CE%B9%CF%83%CF%84%CE%AE%CF%82/github/ml_project_quebec/Master_notebook.ipynb#ch0000030?line=3'>4</a>\u001b[0m datagen_zoom\u001b[39m=\u001b[39m ImageDataGenerator(zoom_range\u001b[39m=\u001b[39m[\u001b[39m0.8\u001b[39m,\u001b[39m1.5\u001b[39m])\n\u001b[0;32m      <a href='vscode-notebook-cell:/c%3A/Users/kwnst/OneDrive/%CE%A5%CF%80%CE%BF%CE%BB%CE%BF%CE%B3%CE%B9%CF%83%CF%84%CE%AE%CF%82/github/ml_project_quebec/Master_notebook.ipynb#ch0000030?line=5'>6</a>\u001b[0m \u001b[39m# prepare iterator\u001b[39;00m\n\u001b[1;32m----> <a href='vscode-notebook-cell:/c%3A/Users/kwnst/OneDrive/%CE%A5%CF%80%CE%BF%CE%BB%CE%BF%CE%B3%CE%B9%CF%83%CF%84%CE%AE%CF%82/github/ml_project_quebec/Master_notebook.ipynb#ch0000030?line=6'>7</a>\u001b[0m it_zoom \u001b[39m=\u001b[39m datagen_zoom\u001b[39m.\u001b[39;49mflow(image[\u001b[39m1\u001b[39;49m], batch_size\u001b[39m=\u001b[39;49m\u001b[39m1\u001b[39;49m)\n\u001b[0;32m      <a href='vscode-notebook-cell:/c%3A/Users/kwnst/OneDrive/%CE%A5%CF%80%CE%BF%CE%BB%CE%BF%CE%B3%CE%B9%CF%83%CF%84%CE%AE%CF%82/github/ml_project_quebec/Master_notebook.ipynb#ch0000030?line=8'>9</a>\u001b[0m \u001b[39m# generate batch of images\u001b[39;00m\n\u001b[0;32m     <a href='vscode-notebook-cell:/c%3A/Users/kwnst/OneDrive/%CE%A5%CF%80%CE%BF%CE%BB%CE%BF%CE%B3%CE%B9%CF%83%CF%84%CE%AE%CF%82/github/ml_project_quebec/Master_notebook.ipynb#ch0000030?line=9'>10</a>\u001b[0m batch_zoom \u001b[39m=\u001b[39m it_zoom\u001b[39m.\u001b[39mnext()\n",
      "File \u001b[1;32mc:\\Users\\kwnst\\anaconda3\\envs\\conda_env\\lib\\site-packages\\keras\\preprocessing\\image.py:1370\u001b[0m, in \u001b[0;36mImageDataGenerator.flow\u001b[1;34m(self, x, y, batch_size, shuffle, sample_weight, seed, save_to_dir, save_prefix, save_format, ignore_class_split, subset)\u001b[0m\n\u001b[0;32m   1316\u001b[0m \u001b[39mdef\u001b[39;00m \u001b[39mflow\u001b[39m(\u001b[39mself\u001b[39m,\n\u001b[0;32m   1317\u001b[0m          x,\n\u001b[0;32m   1318\u001b[0m          y\u001b[39m=\u001b[39m\u001b[39mNone\u001b[39;00m,\n\u001b[1;32m   (...)\u001b[0m\n\u001b[0;32m   1326\u001b[0m          ignore_class_split\u001b[39m=\u001b[39m\u001b[39mFalse\u001b[39;00m,\n\u001b[0;32m   1327\u001b[0m          subset\u001b[39m=\u001b[39m\u001b[39mNone\u001b[39;00m):\n\u001b[0;32m   1328\u001b[0m   \u001b[39m\"\"\"Takes data & label arrays, generates batches of augmented data.\u001b[39;00m\n\u001b[0;32m   1329\u001b[0m \n\u001b[0;32m   1330\u001b[0m \u001b[39m  Args:\u001b[39;00m\n\u001b[1;32m   (...)\u001b[0m\n\u001b[0;32m   1368\u001b[0m \n\u001b[0;32m   1369\u001b[0m \u001b[39m  \"\"\"\u001b[39;00m\n\u001b[1;32m-> 1370\u001b[0m   \u001b[39mreturn\u001b[39;00m NumpyArrayIterator(\n\u001b[0;32m   1371\u001b[0m       x,\n\u001b[0;32m   1372\u001b[0m       y,\n\u001b[0;32m   1373\u001b[0m       \u001b[39mself\u001b[39;49m,\n\u001b[0;32m   1374\u001b[0m       batch_size\u001b[39m=\u001b[39;49mbatch_size,\n\u001b[0;32m   1375\u001b[0m       shuffle\u001b[39m=\u001b[39;49mshuffle,\n\u001b[0;32m   1376\u001b[0m       sample_weight\u001b[39m=\u001b[39;49msample_weight,\n\u001b[0;32m   1377\u001b[0m       seed\u001b[39m=\u001b[39;49mseed,\n\u001b[0;32m   1378\u001b[0m       data_format\u001b[39m=\u001b[39;49m\u001b[39mself\u001b[39;49m\u001b[39m.\u001b[39;49mdata_format,\n\u001b[0;32m   1379\u001b[0m       save_to_dir\u001b[39m=\u001b[39;49msave_to_dir,\n\u001b[0;32m   1380\u001b[0m       save_prefix\u001b[39m=\u001b[39;49msave_prefix,\n\u001b[0;32m   1381\u001b[0m       save_format\u001b[39m=\u001b[39;49msave_format,\n\u001b[0;32m   1382\u001b[0m       ignore_class_split\u001b[39m=\u001b[39;49mignore_class_split,\n\u001b[0;32m   1383\u001b[0m       subset\u001b[39m=\u001b[39;49msubset,\n\u001b[0;32m   1384\u001b[0m       dtype\u001b[39m=\u001b[39;49m\u001b[39mself\u001b[39;49m\u001b[39m.\u001b[39;49mdtype)\n",
      "File \u001b[1;32mc:\\Users\\kwnst\\anaconda3\\envs\\conda_env\\lib\\site-packages\\keras\\preprocessing\\image.py:674\u001b[0m, in \u001b[0;36mNumpyArrayIterator.__init__\u001b[1;34m(self, x, y, image_data_generator, batch_size, shuffle, sample_weight, seed, data_format, save_to_dir, save_prefix, save_format, subset, ignore_class_split, dtype)\u001b[0m\n\u001b[0;32m    672\u001b[0m \u001b[39mself\u001b[39m\u001b[39m.\u001b[39mx_misc \u001b[39m=\u001b[39m x_misc\n\u001b[0;32m    673\u001b[0m \u001b[39mif\u001b[39;00m \u001b[39mself\u001b[39m\u001b[39m.\u001b[39mx\u001b[39m.\u001b[39mndim \u001b[39m!=\u001b[39m \u001b[39m4\u001b[39m:\n\u001b[1;32m--> 674\u001b[0m   \u001b[39mraise\u001b[39;00m \u001b[39mValueError\u001b[39;00m(\n\u001b[0;32m    675\u001b[0m       \u001b[39m'\u001b[39m\u001b[39mInput data in `NumpyArrayIterator` \u001b[39m\u001b[39m'\u001b[39m\n\u001b[0;32m    676\u001b[0m       \u001b[39m'\u001b[39m\u001b[39mshould have rank 4. You passed an array \u001b[39m\u001b[39m'\u001b[39m\n\u001b[0;32m    677\u001b[0m       \u001b[39m'\u001b[39m\u001b[39mwith shape\u001b[39m\u001b[39m'\u001b[39m, \u001b[39mself\u001b[39m\u001b[39m.\u001b[39mx\u001b[39m.\u001b[39mshape)\n\u001b[0;32m    678\u001b[0m channels_axis \u001b[39m=\u001b[39m \u001b[39m3\u001b[39m \u001b[39mif\u001b[39;00m data_format \u001b[39m==\u001b[39m \u001b[39m'\u001b[39m\u001b[39mchannels_last\u001b[39m\u001b[39m'\u001b[39m \u001b[39melse\u001b[39;00m \u001b[39m1\u001b[39m\n\u001b[0;32m    679\u001b[0m \u001b[39mif\u001b[39;00m \u001b[39mself\u001b[39m\u001b[39m.\u001b[39mx\u001b[39m.\u001b[39mshape[channels_axis] \u001b[39mnot\u001b[39;00m \u001b[39min\u001b[39;00m {\u001b[39m1\u001b[39m, \u001b[39m3\u001b[39m, \u001b[39m4\u001b[39m}:\n",
      "\u001b[1;31mValueError\u001b[0m: ('Input data in `NumpyArrayIterator` should have rank 4. You passed an array with shape', (55, 53, 4))"
     ]
    }
   ],
   "source": [
    "#### Augmentantion of cropped images\n",
    "test_list = []\n",
    "for i in range(0, len(cropped_imgs)+1):\n",
    "    picture_zoom(cropped_imgs[i])"
   ]
  },
  {
   "cell_type": "code",
   "execution_count": 124,
   "metadata": {},
   "outputs": [
    {
     "data": {
      "image/png": "[encoded data removed]",
      "text/plain": [
       "<Figure size 432x288 with 1 Axes>"
      ]
     },
     "metadata": {
      "needs_background": "light"
     },
     "output_type": "display_data"
    }
   ],
   "source": [
    "plt.imshow(cropped_imgs[1342][1], interpolation='nearest')\n",
    "plt.show()"
   ]
  }
 ],
 "metadata": {
  "kernelspec": {
   "display_name": "Python 3.9.12 ('conda_env')",
   "language": "python",
   "name": "python3"
  },
  "language_info": {
   "codemirror_mode": {
    "name": "ipython",
    "version": 3
   },
   "file_extension": ".py",
   "mimetype": "text/x-python",
   "name": "python",
   "nbconvert_exporter": "python",
   "pygments_lexer": "ipython3",
   "version": "3.9.12"
  },
  "orig_nbformat": 4,
  "vscode": {
   "interpreter": {
    "hash": "c6fbfe1cc0f2d3ca02a185e6111bc80efb5ec2acf37b5c80bbc28d7908f2a194"
   }
  }
 },
 "nbformat": 4,
 "nbformat_minor": 2
}
