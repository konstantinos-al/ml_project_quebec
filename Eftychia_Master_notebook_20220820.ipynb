{
 "cells": [
  {
   "cell_type": "markdown",
   "metadata": {},
   "source": [
    "#### Libraries"
   ]
  },
  {
   "cell_type": "code",
   "execution_count": 1,
   "metadata": {},
   "outputs": [],
   "source": [
    "from sklearn.model_selection import train_test_split\n",
    "from sklearn.metrics import classification_report\n",
    "from imutils import paths\n",
    "from matplotlib import pyplot as plt\n",
    "from matplotlib.colors import LogNorm\n",
    "import matplotlib.image as mpimg\n",
    "import numpy as np\n",
    "from numpy import expand_dims\n",
    "import argparse\n",
    "import os\n",
    "import glob\n",
    "import xmltodict\n",
    "import xml.etree.ElementTree as ET\n",
    "import xml.etree.ElementTree as ET # copy of xml\n",
    "from xml.etree.ElementTree import parse\n",
    "import cv2\n",
    "from skimage import io\n",
    "from scipy.signal import convolve2d\n",
    "from PIL import Image  \n",
    "import PIL \n",
    "import urllib\n",
    "from urllib.request import urlopen\n",
    "from typing import Tuple, List, Dict\n",
    "from bs4 import BeautifulSoup\n",
    "import requests\n",
    "from io import BytesIO\n",
    "from keras.applications import MobileNetV2\n",
    "from keras import layers\n",
    "from keras.layers import AveragePooling2D\n",
    "from keras.layers import Dropout\n",
    "from keras.layers import Flatten\n",
    "from keras.layers import Dense\n",
    "from keras.layers import Input\n",
    "from keras import models\n",
    "from keras.models import Model\n",
    "from keras.optimizers import Adam\n",
    "from keras.applications.mobilenet_v2 import preprocess_input\n",
    "# from tensorflow.keras.preprocessing.image import img_to_array\n",
    "# from tensorflow.keras.preprocessing.image import array_to_img\n",
    "# from tensorflow.keras.preprocessing.image import load_img\n",
    "from keras.preprocessing.image import ImageDataGenerator # load the image\n",
    "from keras.utils.image_utils import load_img\n",
    "from keras.utils.image_utils import img_to_array\n",
    "from keras.utils import to_categorical\n",
    "from keras import backend as K\n",
    "import pandas as pd"
   ]
  },
  {
   "cell_type": "code",
   "execution_count": 2,
   "metadata": {},
   "outputs": [],
   "source": [
    "from sklearn.metrics import confusion_matrix, classification_report\n",
    "from sklearn.metrics import precision_score, recall_score, accuracy_score,f1_score, classification_report\n",
    "import seaborn as sns "
   ]
  },
  {
   "cell_type": "code",
   "execution_count": 3,
   "metadata": {},
   "outputs": [],
   "source": [
    "import warnings\n",
    "\n",
    "def fxn():\n",
    "    warnings.warn(\"deprecated\", DeprecationWarning)\n",
    "\n",
    "with warnings.catch_warnings():\n",
    "    warnings.simplefilter(\"ignore\")\n",
    "    fxn()"
   ]
  },
  {
   "cell_type": "markdown",
   "metadata": {},
   "source": [
    "## Load and transform images"
   ]
  },
  {
   "cell_type": "markdown",
   "metadata": {},
   "source": [
    "#### Creation of URLs for images and annotations"
   ]
  },
  {
   "cell_type": "code",
   "execution_count": 4,
   "metadata": {},
   "outputs": [],
   "source": [
    "prefix_url_imgs = \"https://raw.githubusercontent.com/konstantinos-al/ml_project_quebec/main/Kaggle_helmets/images/\"\n",
    "number_of_imgs = 766 # +1 to include last one (765)\n",
    "\n",
    "list_imgs = []\n",
    "\n",
    "for i in range(0, number_of_imgs):\n",
    "    i = str(i)\n",
    "    var_imgs = \"BikesHelmets\" + i + \".png\"\n",
    "    var_imgs_url = prefix_url_imgs + var_imgs\n",
    "    list_imgs.append(var_imgs_url)\n",
    "\n",
    "#for i in range(0, len(list_imgs)):\n",
    "#    response = requests.get(list_imgs[i])\n",
    "#    img = Image.open(BytesIO(response.content))\n",
    "#    plt.imshow(img)"
   ]
  },
  {
   "cell_type": "code",
   "execution_count": 5,
   "metadata": {},
   "outputs": [],
   "source": [
    "prefix_url_xml = \"https://raw.githubusercontent.com/konstantinos-al/ml_project_quebec/main/Kaggle_helmets/annotations/\"\n",
    "number_of_annt = 766 # +1 to include last one (765)\n",
    "\n",
    "list_annotations= []\n",
    "\n",
    "for i in range(0, number_of_annt):\n",
    "    i = str(i)\n",
    "    var_annt = \"BikesHelmets\" + i + \".xml\"\n",
    "    var_annt_url = prefix_url_xml + var_annt\n",
    "    list_annotations.append(var_annt_url)"
   ]
  },
  {
   "cell_type": "markdown",
   "metadata": {},
   "source": [
    "### Augmentantion functions"
   ]
  },
  {
   "cell_type": "code",
   "execution_count": 6,
   "metadata": {},
   "outputs": [],
   "source": [
    "def picture_zoom(image):\n",
    "   # to array\n",
    "   array = expand_dims(image[1], 0)\n",
    "   # create image data augmentation generator\n",
    "   datagen_zoom= ImageDataGenerator(zoom_range=[0.8,1.5])\n",
    "   # prepare iterator\n",
    "   it_zoom = datagen_zoom.flow(array, batch_size=1)\n",
    "   # generate batch of images\n",
    "   batch_zoom = it_zoom.next()\n",
    "   # convert to unsigned integers for viewing\n",
    "   image_zoom = batch_zoom[0].astype('uint64')\n",
    "   # returning list\n",
    "   list = [image[0], image_zoom, image[2], image[3]]\n",
    "   return list"
   ]
  },
  {
   "cell_type": "code",
   "execution_count": 7,
   "metadata": {},
   "outputs": [],
   "source": [
    "def picture_rotation(image):\n",
    "    # to array\n",
    "    array = expand_dims(image[1], 0)\n",
    "    # ImageDataGenerator rotation\n",
    "    datagen_rotation=ImageDataGenerator(rotation_range=45, fill_mode='nearest')\n",
    "    # prepare iterator\n",
    "    it_rotation = datagen_rotation.flow(array, batch_size=1)\n",
    "    # generate batch of images\n",
    "    batch_rotation = it_rotation.next()\n",
    "    # convert to unsigned integers for viewing\n",
    "    image_rotation = batch_rotation[0].astype('uint64')\n",
    "    # plot raw pixel \n",
    "    img_rotation=plt.imshow(image_rotation, interpolation ='None', filternorm=True) #spline36, antialiased\n",
    "    # returning list\n",
    "    list = [image[0], image_rotation, image[2], image[3]]\n",
    "    return list"
   ]
  },
  {
   "cell_type": "code",
   "execution_count": 8,
   "metadata": {},
   "outputs": [],
   "source": [
    "def picture_brightness(image):\n",
    "    # to array\n",
    "    array = expand_dims(image[1], 0)\n",
    "    # create image data augmentation generator\n",
    "    datagen_brightness = ImageDataGenerator(brightness_range=[0.2,1.0])\n",
    "    # prepare iterator\n",
    "    it_brightness = datagen_brightness.flow(array, batch_size=1)\n",
    "    # generate batch of images\n",
    "    batch_zoom = it_brightness.next()\n",
    "    # convert to unsigned integers for viewing\n",
    "    image_brightness = batch_zoom[0].astype('uint64')\n",
    "    # plot raw pixel \n",
    "    img_brightness=plt.imshow(image_brightness, interpolation ='None')\n",
    "    # returning list\n",
    "    list = [image[0], image_brightness, image[2], image[3]]\n",
    "    return list"
   ]
  },
  {
   "cell_type": "markdown",
   "metadata": {},
   "source": [
    "### Retrieving and labelling images from XML annotations"
   ]
  },
  {
   "cell_type": "markdown",
   "metadata": {},
   "source": [
    "#### Full images\n",
    "* no bounding box, multiple faces per image\n",
    "* for images with multiple people, if and only if all people wear helmet the label would be 1, otherwise label would be 0."
   ]
  },
  {
   "cell_type": "code",
   "execution_count": 9,
   "metadata": {},
   "outputs": [],
   "source": [
    "full_imgs = []\n",
    "\n",
    "for xml_path in list_annotations:\n",
    "    try:    \n",
    "        with urlopen(xml_path) as my_xml:\n",
    "        \n",
    "            xmld = xmltodict.parse(my_xml)\n",
    "            tags = xmld['annotation']\n",
    "\n",
    "            a = 0\n",
    "            img_path = prefix_url_imgs + tags['filename']\n",
    "            img_url = requests.get(img_path)\n",
    "            img_temp = Image.open(BytesIO(img_url.content))\n",
    "            resized = img_temp.resize((224,224)) # resize all images to 224x224\n",
    "            image = cv2.cvtColor(np.array(resized), cv2.INPAINT_TELEA)\n",
    "            \n",
    "            if 'object' in tags:\n",
    "\n",
    "                if isinstance(tags['object'], list):\n",
    "                    for i in tags['object']:\n",
    "                        if i['name'] == 'With Helmet':\n",
    "                            a =+1\n",
    "                        else:\n",
    "                            a =+0\n",
    "                    if a > 0 :\n",
    "                        full_imgs.append([tags['filename'], image, 1, img_path])\n",
    "                    else :\n",
    "                        full_imgs.append([tags['filename'], image, 0, img_path])\n",
    "                \n",
    "                if isinstance(tags['object'], dict):\n",
    "                    if tags['object']['name'] == 'With Helmet':\n",
    "                        full_imgs.append([tags['filename'], image, 1, img_path])\n",
    "                    else:\n",
    "                        full_imgs.append([tags['filename'], image, 0, img_path])\n",
    "            else:\n",
    "                pass\n",
    "    except:\n",
    "        pass"
   ]
  },
  {
   "cell_type": "markdown",
   "metadata": {},
   "source": [
    "* Augment full images"
   ]
  },
  {
   "cell_type": "code",
   "execution_count": 10,
   "metadata": {},
   "outputs": [
    {
     "data": {
      "image/png": "[encoded data removed]",
      "text/plain": [
       "<Figure size 432x288 with 1 Axes>"
      ]
     },
     "metadata": {
      "needs_background": "light"
     },
     "output_type": "display_data"
    }
   ],
   "source": [
    "# Augmentantion of full images\n",
    "augm_full_imgs = []\n",
    "for i in range(0, len(full_imgs)+1):\n",
    "    try:\n",
    "        augm_full_imgs.append(picture_zoom(full_imgs[i]))\n",
    "        augm_full_imgs.append(picture_rotation(full_imgs[i]))\n",
    "        augm_full_imgs.append(picture_brightness(full_imgs[i]))\n",
    "    except:\n",
    "        pass"
   ]
  },
  {
   "cell_type": "code",
   "execution_count": 11,
   "metadata": {},
   "outputs": [
    {
     "name": "stdout",
     "output_type": "stream",
     "text": [
      "Total full images: 3040\n",
      "of which initial images: 760\n",
      "of which augmented images: 2280\n"
     ]
    }
   ],
   "source": [
    "# consolidate initial with augmented images in one list\n",
    "final_full_imgs = full_imgs + augm_full_imgs\n",
    "\n",
    "print(\"Total full images:\", len(final_full_imgs))\n",
    "print(\"of which initial images:\", len(full_imgs))\n",
    "print(\"of which augmented images:\", len(augm_full_imgs))"
   ]
  },
  {
   "cell_type": "markdown",
   "metadata": {},
   "source": [
    "* Transform full images to model inputs"
   ]
  },
  {
   "cell_type": "code",
   "execution_count": 12,
   "metadata": {},
   "outputs": [],
   "source": [
    "# Transforming images in a proper array for model input\n",
    "full_imgs_array = []\n",
    "for i in range(0, len(final_full_imgs)+1):\n",
    "    try:\n",
    "        full_imgs_array.append(np.array(final_full_imgs[i][1]))\n",
    "    except:\n",
    "        pass\n",
    "full_imgs_array = np.array(full_imgs_array, dtype='int')"
   ]
  },
  {
   "cell_type": "code",
   "execution_count": 13,
   "metadata": {},
   "outputs": [
    {
     "data": {
      "text/plain": [
       "(3040, 224, 224, 3)"
      ]
     },
     "execution_count": 13,
     "metadata": {},
     "output_type": "execute_result"
    }
   ],
   "source": [
    "# shape of new array\n",
    "full_imgs_array.shape"
   ]
  },
  {
   "cell_type": "code",
   "execution_count": 14,
   "metadata": {},
   "outputs": [
    {
     "data": {
      "text/plain": [
       "<matplotlib.image.AxesImage at 0x293fb5c32b0>"
      ]
     },
     "execution_count": 14,
     "metadata": {},
     "output_type": "execute_result"
    },
    {
     "data": {
      "image/png": "[encoded data removed]",
      "text/plain": [
       "<Figure size 432x288 with 1 Axes>"
      ]
     },
     "metadata": {
      "needs_background": "light"
     },
     "output_type": "display_data"
    }
   ],
   "source": [
    "# testing that images appear correctly\n",
    "plt.imshow(full_imgs_array[714])"
   ]
  },
  {
   "cell_type": "code",
   "execution_count": 349,
   "metadata": {},
   "outputs": [],
   "source": [
    "#In Model2 does not need the reshape\n",
    "\n",
    "# # reshape of array\n",
    "# full_imgs_array_rshp = full_imgs_array.reshape(len(final_full_imgs), 224*224*3)"
   ]
  },
  {
   "cell_type": "code",
   "execution_count": 350,
   "metadata": {},
   "outputs": [],
   "source": [
    "#In Model2 does not need the reshape\n",
    "\n",
    "# # testing that images appear correctly\n",
    "# plt.imshow(full_imgs_array_rshp[1500].reshape(224, 224, 3))"
   ]
  },
  {
   "cell_type": "code",
   "execution_count": 351,
   "metadata": {},
   "outputs": [],
   "source": [
    "#In Model2 does not need the reshape\n",
    "\n",
    "# # normalize colors\n",
    "# full_imgs_array_final = full_imgs_array_rshp.astype('float32') / 255"
   ]
  },
  {
   "cell_type": "code",
   "execution_count": 352,
   "metadata": {},
   "outputs": [],
   "source": [
    "#In Model2 does not need the reshape\n",
    "\n",
    "# # final shape of input array\n",
    "# full_imgs_array_final.shape"
   ]
  },
  {
   "cell_type": "code",
   "execution_count": 15,
   "metadata": {},
   "outputs": [],
   "source": [
    "# Creating an array with labels\n",
    "labels_array = []\n",
    "for i in range(0, len(final_full_imgs)+1):\n",
    "    try:\n",
    "        labels_array.append(np.array(final_full_imgs[i][2]))\n",
    "    except:\n",
    "        pass\n",
    "labels_array = np.array(labels_array, dtype='int')"
   ]
  },
  {
   "cell_type": "code",
   "execution_count": 16,
   "metadata": {},
   "outputs": [],
   "source": [
    "# Categorically encode the labels\n",
    "full_imgs_labels = to_categorical(labels_array)"
   ]
  },
  {
   "cell_type": "markdown",
   "metadata": {},
   "source": [
    "#### Cropped images\n",
    "* bounding box on heads, creation of multiple images per image"
   ]
  },
  {
   "cell_type": "markdown",
   "metadata": {},
   "source": [
    "cropped_imgs = []\n",
    "\n",
    "for xml_path in list_annotations:\n",
    "    try:    \n",
    "        with urlopen(xml_path) as my_xml:\n",
    "        \n",
    "            xmld = xmltodict.parse(my_xml)\n",
    "            tags = xmld['annotation']\n",
    "\n",
    "            img_path = prefix_url_imgs + tags['filename']\n",
    "            img_url = requests.get(img_path)\n",
    "            img_temp = Image.open(BytesIO(img_url.content))\n",
    "            image = cv2.cvtColor(np.array(img_temp), cv2.INPAINT_TELEA)\n",
    "            helmet = np.zeros(image.shape, dtype = 'int32')\n",
    "\n",
    "            if 'object' in tags:\n",
    "\n",
    "                if isinstance(tags['object'], list):\n",
    "                    for i in tags['object']:\n",
    "                        xmin = int(i['bndbox']['xmin'])\n",
    "                        ymin = int(i['bndbox']['ymin'])\n",
    "                        xmax = int(i['bndbox']['xmax'])\n",
    "                        ymax = int(i['bndbox']['ymax'])\n",
    "                        if i['name'] == 'With Helmet':\n",
    "                            helmet = cv2.rectangle(helmet, (xmin,ymin), (xmax,ymax), (0,255,0), -1)\n",
    "                            result = cv2.addWeighted(image, 1, helmet, 0.9, 0.7, dtype = cv2.CV_8UC3) #with helmet -> 1\n",
    "                            cropped_imgs.append([tags['filename'], image[ymin:ymax, xmin:xmax], 1, img_path])\n",
    "                            #visualize(image=image, result = result, head = image[ymin:ymax, xmin:xmax])\n",
    "                            \n",
    "                        else:\n",
    "                            cv2.rectangle(helmet, (xmin,ymin), (xmax,ymax), (255,0,0), -1)\n",
    "                            result = cv2.addWeighted(image, 1, helmet, 0.9, 0.7, dtype = cv2.CV_8UC3)\n",
    "                            cropped_imgs.append([tags['filename'], image[ymin:ymax, xmin:xmax], 0, img_path]) #without helmet -> 0\n",
    "                            \n",
    "                            #plt.imsave(os.path.join('results', tags['filename']), result)\n",
    "                    #visualize(image=image, result = result, head = image[ymin:ymax, xmin:xmax])\n",
    "                if isinstance(tags['object'], dict):\n",
    "                    xmin = int(tags['object']['bndbox']['xmin'])\n",
    "                    ymin = int(tags['object']['bndbox']['ymin'])\n",
    "                    xmax = int(tags['object']['bndbox']['xmax'])\n",
    "                    ymax = int(tags['object']['bndbox']['ymax'])\n",
    "                    if tags['object']['name'] == 'With Helmet':\n",
    "                        cv2.rectangle(helmet, (xmin,ymin), (xmax,ymax), (0,255,0), -1)\n",
    "                        result = cv2.addWeighted(image, 1, helmet, 0.9, 0.7, dtype = cv2.CV_8UC3)\n",
    "                        cropped_imgs.append([tags['filename'], image[ymin:ymax, xmin:xmax], 1, img_path]) #with helmet -> 1\n",
    "                        #visualize(image=image, result = result, head = image[ymin:ymax, xmin:xmax])\n",
    "                    else:\n",
    "                        cv2.rectangle(helmet, (xmin,ymin), (xmax,ymax), (255,0,0), -1)\n",
    "                        result = cv2.addWeighted(image, 1, helmet, 0.9, 0.7, dtype = cv2.CV_8UC3)\n",
    "                        cropped_imgs.append([tags['filename'], image[ymin:ymax, xmin:xmax], 0, img_path]) #without helmet -> 0\n",
    "                    # plt.imsave(os.path.join('results', tags['filename']), result)\n",
    "                    #visualize(image=image, result = result, head = image[ymin:ymax, xmin:xmax])\n",
    "            else:\n",
    "                pass\n",
    "    except:\n",
    "        pass"
   ]
  },
  {
   "cell_type": "markdown",
   "metadata": {},
   "source": [
    "* Augment cropped images\n",
    "###### \n",
    "We will use data augmantation to artificially create more data samples.\n",
    "This allows us to create new  images by manipulating the existing ones ( rotating and brightness)."
   ]
  },
  {
   "cell_type": "markdown",
   "metadata": {},
   "source": [
    "# Augmentantion of cropped images\n",
    "augm_cropped_imgs = []\n",
    "for i in range(0, len(cropped_imgs)):\n",
    "    try:\n",
    "        #augm_cropped_imgs.append(picture_zoom(cropped_imgs[i]))\n",
    "        augm_cropped_imgs.append(picture_rotation(cropped_imgs[i]))\n",
    "        augm_cropped_imgs.append(picture_brightness(cropped_imgs[i]))\n",
    "    except:\n",
    "        pass"
   ]
  },
  {
   "cell_type": "markdown",
   "metadata": {},
   "source": [
    "# consolidate initial cropped images with augmented in one list\n",
    "all_cropped_imgs = cropped_imgs + augm_cropped_imgs"
   ]
  },
  {
   "cell_type": "markdown",
   "metadata": {},
   "source": [
    "# checking average height and width of images\n",
    "x = 0\n",
    "y = 0\n",
    "itt = len(all_cropped_imgs)\n",
    "for i in range(0, len(all_cropped_imgs)+1):\n",
    "    try:\n",
    "        tmp_shape = all_cropped_imgs[i][1].shape\n",
    "        x += tmp_shape[0]\n",
    "        y += tmp_shape[1]\n",
    "    except:\n",
    "        itt -=1\n",
    "        pass\n",
    "\n",
    "print(round(x/itt,0))\n",
    "print(round(y/itt,0))"
   ]
  },
  {
   "cell_type": "markdown",
   "metadata": {},
   "source": [
    "# all images must have the same size\n",
    "# as we cannot resize the images during the load of them because this maybe \n",
    "# would have a negative effect on bounding box coordinates, the resize is happening hear\n",
    "all_cropped_imgs_v2 = []\n",
    "for i in range(1, len(all_cropped_imgs)):\n",
    "    try:\n",
    "        img_temp =array_to_img(all_cropped_imgs[i][1])\n",
    "        resized = img_temp.resize((40,40)) # resize all images to 40x40\n",
    "        image = cv2.cvtColor(np.array(resized), cv2.INPAINT_TELEA)\n",
    "        all_cropped_imgs_v2.append([all_cropped_imgs[i][0], image, all_cropped_imgs[i][2], all_cropped_imgs[i][3]])\n",
    "    except:\n",
    "        pass"
   ]
  },
  {
   "cell_type": "markdown",
   "metadata": {},
   "source": [
    "plt.imshow(all_cropped_imgs_v2[4300][1], interpolation='nearest')"
   ]
  },
  {
   "cell_type": "markdown",
   "metadata": {},
   "source": [
    "print(\"Total cropped images:\", len(all_cropped_imgs_v2))\n",
    "print(\"of which initial cropped images:\", len(cropped_imgs))\n",
    "print(\"of which augmented cropped images:\", (len(all_cropped_imgs_v2)-len(cropped_imgs)))"
   ]
  },
  {
   "cell_type": "markdown",
   "metadata": {},
   "source": [
    "* Transform cropped images to model inputs"
   ]
  },
  {
   "cell_type": "markdown",
   "metadata": {},
   "source": [
    "# Transforming images in a proper array for model input\n",
    "cropped_imgs_array = []\n",
    "for i in range(0, len(all_cropped_imgs_v2)):\n",
    "    cropped_imgs_array.append(np.array(all_cropped_imgs_v2[i][1]))\n",
    "    \n",
    "cropped_imgs_array = np.array(cropped_imgs_array, dtype='int')"
   ]
  },
  {
   "cell_type": "markdown",
   "metadata": {},
   "source": [
    "# shape of new array\n",
    "cropped_imgs_array.shape"
   ]
  },
  {
   "cell_type": "markdown",
   "metadata": {},
   "source": [
    "# testing that images appear correctly\n",
    "plt.imshow(cropped_imgs_array[1500])"
   ]
  },
  {
   "cell_type": "markdown",
   "metadata": {},
   "source": [
    "# Creating an array with labels\n",
    "labels_array_cropped = []\n",
    "for i in range(0, len(all_cropped_imgs_v2)):\n",
    "    labels_array_cropped.append(np.array(all_cropped_imgs_v2[i][2]))\n",
    "    \n",
    "labels_array_cropped = np.array(labels_array_cropped, dtype='int')\n"
   ]
  },
  {
   "cell_type": "markdown",
   "metadata": {},
   "source": [
    "# Categorically encode the labels\n",
    "cropped_imgs_labels = to_categorical(labels_array_cropped)"
   ]
  },
  {
   "cell_type": "markdown",
   "metadata": {},
   "source": [
    "#### Model 2 -- Eftychia Gkini 2022/08/18"
   ]
  },
  {
   "cell_type": "code",
   "execution_count": 355,
   "metadata": {},
   "outputs": [],
   "source": [
    "import warnings\n",
    "\n",
    "def fxn():\n",
    "    warnings.warn(\"deprecated\", DeprecationWarning)\n",
    "\n",
    "with warnings.catch_warnings():\n",
    "    warnings.simplefilter(\"ignore\")\n",
    "    fxn()"
   ]
  },
  {
   "cell_type": "markdown",
   "metadata": {},
   "source": [
    "* Split imbalanced dataset into train and test sets with stratification\n"
   ]
  },
  {
   "cell_type": "markdown",
   "metadata": {},
   "source": [
    "##### \n",
    "We now split the full data set into train (75%) and test (25%) sets. The test set is split again to test (25%) and validation (75%) sets.\n",
    "#####\n",
    "Random sampling is a very bad option for splitting. So, we try stratified sampling. \n",
    "This splits your class proportionally between training and test set. \n",
    "Run oversampling, undersampling or hybrid techniques on training set. \n",
    "\n"
   ]
  },
  {
   "cell_type": "code",
   "execution_count": 63,
   "metadata": {},
   "outputs": [],
   "source": [
    "#https://machinelearningmastery.com/train-test-split-for-evaluating-machine-learning-algorithms/\n",
    "from collections import Counter\n",
    "from sklearn.datasets import make_classification\n",
    "from sklearn.model_selection import train_test_split\n",
    "\n",
    "# split into train test sets\n",
    "from sklearn.model_selection import train_test_split\n",
    "X_train,X_test_1 , y_train, y_test_1 = train_test_split(full_imgs_array, full_imgs_labels,\n",
    "                                                    stratify=full_imgs_labels, \n",
    "                                                    test_size=0.25, random_state=5)\n",
    "\n",
    "X_test,X_val , y_test, y_val = train_test_split(X_test_1, y_test_1,\n",
    "                                                    stratify=y_test_1, \n",
    "                                                    test_size=0.25, random_state=5)"
   ]
  },
  {
   "cell_type": "markdown",
   "metadata": {},
   "source": [
    "### --------------------------------------------- MODEL 1 --------------------------------------------- "
   ]
  },
  {
   "cell_type": "markdown",
   "metadata": {},
   "source": [
    "* Model Building - CNN\n",
    "#####\n",
    "We are doing Detection Classsifier using CNN.\n"
   ]
  },
  {
   "cell_type": "code",
   "execution_count": 137,
   "metadata": {},
   "outputs": [
    {
     "name": "stdout",
     "output_type": "stream",
     "text": [
      "Model: \"sequential_20\"\n",
      "_________________________________________________________________\n",
      " Layer (type)                Output Shape              Param #   \n",
      "=================================================================\n",
      " conv2d_27 (Conv2D)          (None, 224, 224, 16)      448       \n",
      "                                                                 \n",
      " max_pooling2d_27 (MaxPoolin  (None, 112, 112, 16)     0         \n",
      " g2D)                                                            \n",
      "                                                                 \n",
      " conv2d_28 (Conv2D)          (None, 112, 112, 32)      4640      \n",
      "                                                                 \n",
      " max_pooling2d_28 (MaxPoolin  (None, 56, 56, 32)       0         \n",
      " g2D)                                                            \n",
      "                                                                 \n",
      " conv2d_29 (Conv2D)          (None, 56, 56, 64)        18496     \n",
      "                                                                 \n",
      " max_pooling2d_29 (MaxPoolin  (None, 28, 28, 64)       0         \n",
      " g2D)                                                            \n",
      "                                                                 \n",
      " dropout_10 (Dropout)        (None, 28, 28, 64)        0         \n",
      "                                                                 \n",
      " flatten_20 (Flatten)        (None, 50176)             0         \n",
      "                                                                 \n",
      " dense_39 (Dense)            (None, 500)               25088500  \n",
      "                                                                 \n",
      " dropout_11 (Dropout)        (None, 500)               0         \n",
      "                                                                 \n",
      " dense_40 (Dense)            (None, 2)                 1002      \n",
      "                                                                 \n",
      "=================================================================\n",
      "Total params: 25,113,086\n",
      "Trainable params: 25,113,086\n",
      "Non-trainable params: 0\n",
      "_________________________________________________________________\n"
     ]
    }
   ],
   "source": [
    "from keras.models import Sequential\n",
    "from keras.layers import Conv2D, MaxPooling2D, Flatten, Dense, Dropout\n",
    "\n",
    "model = Sequential()\n",
    "model.add(Conv2D(filters = 16, kernel_size = 3,  padding='same', activation = 'relu', input_shape = (224, 224, 3))) #224, 224\n",
    "model.add(MaxPooling2D(pool_size = 2))\n",
    "model.add(Conv2D(filters = 32, kernel_size = 3,  padding='same', activation = 'relu'))\n",
    "model.add(MaxPooling2D(pool_size = 2))\n",
    "model.add(Conv2D(filters = 64, kernel_size = 3,  padding='same', activation = 'relu'))\n",
    "model.add(MaxPooling2D(pool_size = 2))\n",
    "model.add(Dropout(0.3))\n",
    "model.add(Flatten())\n",
    "model.add(Dense(units = 500, activation = 'relu'))\n",
    "model.add(Dropout(0.4)) #model.add(Dropout(0.3))\n",
    "model.add(Dense(units = 2, activation = 'softmax')) #Check if the last Dense Layer(output) has same number of classes as the number of target classes in the training dataset.\n",
    "model.summary()"
   ]
  },
  {
   "cell_type": "code",
   "execution_count": 138,
   "metadata": {},
   "outputs": [],
   "source": [
    "batch_size = 8 #The number of training examples utilized in one iteration.\n",
    "epochs = 30"
   ]
  },
  {
   "cell_type": "code",
   "execution_count": 139,
   "metadata": {},
   "outputs": [],
   "source": [
    "# Compiling the model\n",
    "model.compile(\n",
    "    optimizer=\"adam\",\n",
    "    loss=\"categorical_crossentropy\",\n",
    "    #metrics=\"accuracy\"\n",
    "    metrics=['accuracy', 'Recall', 'Precision', 'AUC']\n",
    ")\n",
    "#model.optimizer.lr=0.001"
   ]
  },
  {
   "cell_type": "markdown",
   "metadata": {},
   "source": [
    "* Early Stopping\n",
    "###### \n",
    "Before training the network, we define an early stopping criterion, to avoid redundent epochs once the model has already converged.\n"
   ]
  },
  {
   "cell_type": "code",
   "execution_count": 140,
   "metadata": {},
   "outputs": [],
   "source": [
    "from tensorflow.keras.callbacks import EarlyStopping\n",
    "\n",
    "early_stopping = EarlyStopping(monitor='val_loss', patience=8, restore_best_weights=True)"
   ]
  },
  {
   "cell_type": "markdown",
   "metadata": {},
   "source": [
    "* Reduce Learning Rate On Plateau\n",
    "###### \n",
    "We define a ReduceLROnPlateau callback to reduce the learning rate when the metric we chose (val_loss) has stopped improving."
   ]
  },
  {
   "cell_type": "code",
   "execution_count": 141,
   "metadata": {},
   "outputs": [],
   "source": [
    "from tensorflow.keras.callbacks import ReduceLROnPlateau\n",
    "\n",
    "lrr = ReduceLROnPlateau(monitor='val_loss',patience=8,verbose=1,factor=0.5, min_lr=0.00001)"
   ]
  },
  {
   "cell_type": "markdown",
   "metadata": {},
   "source": [
    "* Fit the model on train data\n"
   ]
  },
  {
   "cell_type": "code",
   "execution_count": 24,
   "metadata": {},
   "outputs": [
    {
     "name": "stdout",
     "output_type": "stream",
     "text": [
      "steps_per_epoch: 285\n"
     ]
    }
   ],
   "source": [
    "data_size = len(X_train) \n",
    "steps_per_epoch = int(data_size / batch_size)\n",
    "print(f\"steps_per_epoch: {steps_per_epoch}\")\n",
    "\n",
    "# val_steps = int(len(val_generator) // batch_size)\n",
    "# print(f\"val_steps: {val_steps}\")"
   ]
  },
  {
   "cell_type": "code",
   "execution_count": 195,
   "metadata": {},
   "outputs": [],
   "source": [
    "# Fit the model on train data\n",
    "model_history = model.fit(\n",
    "    x=X_train,\n",
    "    y=y_train,\n",
    "    steps_per_epoch=steps_per_epoch,\n",
    "    epochs=epochs,\n",
    "    shuffle=True,\n",
    "    #verbose=2, #will just mention the number of epoch like this \n",
    "    # verbose=0 will show you nothing (silent)\n",
    "    validation_data=(X_val,y_val),\n",
    "    # validation_steps=val_steps,\n",
    "    callbacks=[early_stopping, lrr]\n",
    ")"
   ]
  },
  {
   "cell_type": "markdown",
   "metadata": {},
   "source": [
    "* Model Evaluation\n",
    "###### Evaluation is a process during development of the model to check whether the model is best fit for the given problem and corresponding data. Keras model provides a function, evaluate which does the evaluation of the model. It has three main arguments,"
   ]
  },
  {
   "cell_type": "code",
   "execution_count": null,
   "metadata": {},
   "outputs": [],
   "source": [
    "# Evaluate model performance on test data\n",
    "model_loss, model_acc, recall, precision, auc = model.evaluate(X_train,y_train,verbose = 0)\n",
    "print(\"Model has a loss of %.2f and accuracy %.2f%%\" % (model_loss, model_acc*100))\n",
    "print(\"Model has a recall of %.2f%%, precision of %.2f%% and auc of %.2f%%\" % (recall*100, precision*100, auc*100))"
   ]
  },
  {
   "cell_type": "code",
   "execution_count": null,
   "metadata": {},
   "outputs": [],
   "source": [
    "# pred=model.predict(X_test) \n",
    "# pred = np.argmax(pred, axis = 1)[:] \n",
    "# label = np.argmax(y_test,axis = 1)[:] \n",
    "\n",
    "#second way\n",
    "predictions = model.predict(X_test)\n",
    "print(\"predictions shape:\", predictions.shape)"
   ]
  },
  {
   "cell_type": "code",
   "execution_count": null,
   "metadata": {},
   "outputs": [],
   "source": [
    "def plot_loss_and_accuracy(history):\n",
    "    history_df = pd.DataFrame(history)\n",
    "    fig, ax = plt.subplots(1,2, figsize=(12, 6))\n",
    "    \n",
    "    history_df.loc[0:, ['loss', 'val_loss']].plot(ax=ax[0])\n",
    "    ax[0].set(xlabel = 'epoch number', ylabel = 'loss')\n",
    "\n",
    "    history_df.loc[0:, ['accuracy', 'val_accuracy']].plot(ax=ax[1])\n",
    "    ax[1].set(xlabel = 'epoch number', ylabel = 'accuracy')"
   ]
  },
  {
   "cell_type": "code",
   "execution_count": null,
   "metadata": {},
   "outputs": [],
   "source": [
    "plot_loss_and_accuracy(model_history.history)"
   ]
  },
  {
   "cell_type": "code",
   "execution_count": 25,
   "metadata": {},
   "outputs": [],
   "source": [
    "def evaluation(y, y_hat, title = 'Confusion Matrix'):\n",
    "    \n",
    "    \"\"\"Evaluation function\n",
    "    Prints Classification reports and confusion matrix\n",
    "    \"\"\"\n",
    "    cm = confusion_matrix(y, y_hat)\n",
    "#     precision = precision_score(y, y_hat)\n",
    "#     recall = recall_score(y, y_hat)\n",
    "#     accuracy = accuracy_score(y,y_hat)\n",
    "#     f1 = f1_score(y,y_hat)\n",
    "#     report = classification_report(y,y_hat)\n",
    "#     print(report)\n",
    "#     print('Recall: ', recall)\n",
    "#     print('Accuracy: ', accuracy)\n",
    "#     print('Precision: ', precision)\n",
    "#     print('F1: ', f1)\n",
    "    sns.heatmap(cm,  cmap= 'PuBu', annot=True, fmt='g', annot_kws={'size':20})\n",
    "    plt.xlabel('predicted', fontsize=18)\n",
    "    plt.ylabel('actual', fontsize=18)\n",
    "    plt.title(title, fontsize=18)\n",
    "    \n",
    "    plt.show()"
   ]
  },
  {
   "cell_type": "markdown",
   "metadata": {},
   "source": [
    "* A clear idea of the actual and predicted values"
   ]
  },
  {
   "cell_type": "code",
   "execution_count": 198,
   "metadata": {},
   "outputs": [
    {
     "name": "stdout",
     "output_type": "stream",
     "text": [
      "18/18 [==============================] - 4s 230ms/step\n"
     ]
    },
    {
     "data": {
      "image/png": "[encoded data removed]",
      "text/plain": [
       "<Figure size 432x288 with 2 Axes>"
      ]
     },
     "metadata": {
      "needs_background": "light"
     },
     "output_type": "display_data"
    }
   ],
   "source": [
    "y_true = np.argmax(y_test,axis = 1)[:]\n",
    "# y_true = y_test\n",
    "\n",
    "pred = model.predict(X_test) # Predict prob and get Class Indices\n",
    "y_pred= np.argmax(pred, axis = 1)[:]\n",
    "\n",
    "evaluation(y_true, y_pred) #Confusion Matrix"
   ]
  },
  {
   "cell_type": "markdown",
   "metadata": {},
   "source": [
    "* A general idea of the occurrences of each class"
   ]
  },
  {
   "cell_type": "code",
   "execution_count": 199,
   "metadata": {},
   "outputs": [
    {
     "data": {
      "text/plain": [
       "array([188, 382], dtype=int64)"
      ]
     },
     "execution_count": 199,
     "metadata": {},
     "output_type": "execute_result"
    }
   ],
   "source": [
    "np.bincount(y_pred) # Use bincount() to count occurrences of each class in a predictions NumPy array"
   ]
  },
  {
   "cell_type": "markdown",
   "metadata": {},
   "source": [
    "### --------------------------------------------- MODEL 2 --------------------------------------------- "
   ]
  },
  {
   "cell_type": "markdown",
   "metadata": {},
   "source": [
    "###### Creating the mask detection deep learning model¶\n",
    "###### We will now look into building a Deep Learning model to predict (detect) if a person is violating the rules by not wearing a mask in public spaces."
   ]
  },
  {
   "cell_type": "code",
   "execution_count": 135,
   "metadata": {},
   "outputs": [],
   "source": [
    "# keras\n",
    "from keras import Sequential\n",
    "from keras.layers import Flatten, Dense\n",
    "from keras.applications.vgg19 import VGG19\n",
    "from keras.applications.vgg19 import preprocess_input\n",
    "from keras.preprocessing.image import ImageDataGenerator"
   ]
  },
  {
   "cell_type": "code",
   "execution_count": 136,
   "metadata": {},
   "outputs": [
    {
     "name": "stdout",
     "output_type": "stream",
     "text": [
      "Model: \"sequential_19\"\n",
      "_________________________________________________________________\n",
      " Layer (type)                Output Shape              Param #   \n",
      "=================================================================\n",
      " vgg19 (Functional)          (None, 7, 7, 512)         20024384  \n",
      "                                                                 \n",
      " flatten_19 (Flatten)        (None, 25088)             0         \n",
      "                                                                 \n",
      " dense_38 (Dense)            (None, 2)                 50178     \n",
      "                                                                 \n",
      "=================================================================\n",
      "Total params: 20,074,562\n",
      "Trainable params: 50,178\n",
      "Non-trainable params: 20,024,384\n",
      "_________________________________________________________________\n"
     ]
    }
   ],
   "source": [
    "# Initializing the VGG19 model\n",
    "vgg19_model = VGG19(weights=\"imagenet\", include_top=False, input_shape=(224, 224, 3))\n",
    "\n",
    "for layer in vgg19_model.layers:\n",
    "    layer.trainable = False\n",
    "\n",
    "# Initialize a sequential model\n",
    "model_vgg19 = Sequential()\n",
    "model_vgg19.add(vgg19_model)\n",
    "model_vgg19.add(Flatten())\n",
    "model_vgg19.add(Dense(2, activation=\"sigmoid\"))\n",
    "model_vgg19.summary()\n",
    "\n",
    "# Compiling the model\n",
    "model_vgg19.compile(optimizer=\"adam\", loss=\"categorical_crossentropy\", metrics=['accuracy', 'Recall', 'Precision', 'AUC'])"
   ]
  },
  {
   "cell_type": "markdown",
   "metadata": {},
   "source": [
    "##### Train the model\n",
    "###### We will now train our neural network model for 20 epochs."
   ]
  },
  {
   "cell_type": "code",
   "execution_count": null,
   "metadata": {},
   "outputs": [],
   "source": [
    "model_history = model_vgg19.fit(\n",
    "    x=X_train,\n",
    "    y=y_train,\n",
    "    steps_per_epoch=len(X_train) // 32,\n",
    "    epochs=20,\n",
    "    validation_data=(X_val,y_val),\n",
    "    validation_steps=len(X_val) // 32,\n",
    "    callbacks=[early_stopping, lrr]\n",
    ")"
   ]
  },
  {
   "cell_type": "markdown",
   "metadata": {},
   "source": [
    "#### Evaluate the model performance on test set"
   ]
  },
  {
   "cell_type": "code",
   "execution_count": null,
   "metadata": {},
   "outputs": [],
   "source": [
    "model_vgg19_loss, model_vgg19_acc, model_vgg19_recall, model_vgg19_precision, model_vgg19_auc = model_vgg19.evaluate(X_train,y_train,verbose = 0)\n",
    "print(\"Model has a loss of %.2f and accuracy %.2f%%\" % (model_vgg19_loss, model_vgg19_acc*100))\n",
    "print(\"Model has a recall of %.2f%%, precision of %.2f%% and auc of %.2f%%\" % (model_vgg19_recall*100, model_vgg19_precision*100, model_vgg19_auc*100))"
   ]
  },
  {
   "cell_type": "code",
   "execution_count": 344,
   "metadata": {},
   "outputs": [
    {
     "name": "stdout",
     "output_type": "stream",
     "text": [
      "18/18 [==============================] - 254s 14s/step\n"
     ]
    },
    {
     "data": {
      "image/png": "[encoded data removed]",
      "text/plain": [
       "<Figure size 432x288 with 2 Axes>"
      ]
     },
     "metadata": {},
     "output_type": "display_data"
    }
   ],
   "source": [
    "y_true = np.argmax(y_test,axis = 1)[:]\n",
    "# y_true = y_test\n",
    "\n",
    "pred = model_vgg19.predict(X_test) # Predict prob and get Class Indices\n",
    "y_pred= np.argmax(pred, axis = 1)[:]\n",
    "\n",
    "evaluation(y_true, y_pred)"
   ]
  },
  {
   "cell_type": "markdown",
   "metadata": {},
   "source": [
    "### --------------------------------------------- MODEL 3 --------------------------------------------- \n",
    "###### https://www.kaggle.com/code/aman10kr/face-mask-detection-using-ssd"
   ]
  },
  {
   "cell_type": "code",
   "execution_count": 142,
   "metadata": {},
   "outputs": [],
   "source": [
    "model_SSD = Sequential()\n",
    "model_SSD.add(Conv2D(32, (3, 3), padding = \"same\", activation='relu', input_shape=(224, 224,3)))\n",
    "model_SSD.add(Conv2D(64, (3, 3), activation='relu'))\n",
    "model_SSD.add(Conv2D(128, (3, 3), activation='relu'))\n",
    "model_SSD.add(MaxPooling2D(pool_size=(2,2)))\n",
    "model_SSD.add(Dropout(0.25))\n",
    "model_SSD.add(Flatten())\n",
    "model_SSD.add(Dropout(0.5))\n",
    "model_SSD.add(Dense(50, activation='relu'))\n",
    "model_SSD.add(Dropout(0.5))\n",
    "model_SSD.add(Dense(2, activation='sigmoid'))\n",
    "# model_SSD.summary()"
   ]
  },
  {
   "cell_type": "code",
   "execution_count": 143,
   "metadata": {},
   "outputs": [],
   "source": [
    "model_SSD.compile(loss='binary_crossentropy', optimizer='adam' ,metrics=['accuracy', 'Recall', 'Precision', 'AUC'])"
   ]
  },
  {
   "cell_type": "code",
   "execution_count": null,
   "metadata": {},
   "outputs": [
    {
     "name": "stdout",
     "output_type": "stream",
     "text": [
      "Epoch 1/10\n"
     ]
    },
    {
     "ename": "",
     "evalue": "",
     "output_type": "error",
     "traceback": [
      "\u001b[1;31mCanceled future for execute_request message before replies were done"
     ]
    },
    {
     "ename": "",
     "evalue": "",
     "output_type": "error",
     "traceback": [
      "The Kernel crashed while executing code in the the current cell or a previous cell. Please review the code in the cell(s) to identify a possible cause of the failure. Click <a href='https://aka.ms/vscodeJupyterKernelCrash'>here</a> for more info. View Jupyter <a href='command:jupyter.viewOutput'>log</a> for further details."
     ]
    }
   ],
   "source": [
    "history = model_SSD.fit(\n",
    "            x=X_train,\n",
    "            y=y_train,\n",
    "            steps_per_epoch=5,#len(X_train) // 32,\n",
    "            epochs=10,\n",
    "            verbose=1,\n",
    "            validation_data=(X_val,y_val),\n",
    "            validation_steps=len(X_val) // 32,\n",
    "            callbacks=[early_stopping, lrr]\n",
    "            )"
   ]
  },
  {
   "cell_type": "code",
   "execution_count": null,
   "metadata": {},
   "outputs": [],
   "source": [
    "plt.plot(history.history['accuracy'],'g')\n",
    "plt.plot(history.history['val_accuracy'],'b')\n",
    "plt.title('Training Accuracy vs Validation Accuracy')\n",
    "plt.ylabel('Accuracy')\n",
    "plt.xlabel('Epoch')\n",
    "plt.legend(['Train', 'Validation'], loc='upper left')\n",
    "plt.show()"
   ]
  },
  {
   "cell_type": "code",
   "execution_count": null,
   "metadata": {},
   "outputs": [],
   "source": [
    "plt.plot(history.history['loss'],'g')\n",
    "plt.plot(history.history['val_loss'],'b')\n",
    "plt.title('Training Loss vs Validation Loss')\n",
    "plt.ylabel('Loss')\n",
    "plt.xlabel('Epoch')\n",
    "plt.legend(['Train', 'Validation'], loc='upper left')\n",
    "plt.show()"
   ]
  },
  {
   "cell_type": "code",
   "execution_count": null,
   "metadata": {},
   "outputs": [],
   "source": [
    "y_true = np.argmax(y_test,axis = 1)[:]\n",
    "# y_true = y_test\n",
    "\n",
    "pred = model_SSD.predict(X_test) # Predict prob and get Class Indices\n",
    "y_pred= np.argmax(pred, axis = 1)[:]\n",
    "evaluation(y_true, y_pred)"
   ]
  },
  {
   "cell_type": "markdown",
   "metadata": {},
   "source": [
    "#### --------------------------------------------- Αχρηστο χαλια --------------------------------------------- \n"
   ]
  },
  {
   "cell_type": "markdown",
   "metadata": {},
   "source": [
    "* Model 5 -- Eftychia Gkini 2022/08/18\n",
    "######\n",
    "https://www.kaggle.com/code/ayushimishra2809/face-mask-detection"
   ]
  },
  {
   "cell_type": "markdown",
   "metadata": {},
   "source": [
    "from keras.layers import LSTM\n",
    "\n",
    "model2=Sequential()\n",
    "model2.add(Conv2D(100,(3,3),input_shape=X_train.shape[1:],activation='relu',strides=2))\n",
    "model2.add(MaxPooling2D(pool_size=(2,2)))\n",
    "model2.add(Conv2D(64,(3,3),activation='relu'))\n",
    "model2.add(MaxPooling2D(pool_size=(2,2)))\n",
    "model2.add(Flatten())\n",
    "model2.add(Dense(50, activation='relu'))\n",
    "model2.add(Dropout(0.2)) # fropout is one way to regularize neural network and avoid overfitting\n",
    "model2.add(Dense(2, activation='softmax'))"
   ]
  },
  {
   "cell_type": "markdown",
   "metadata": {},
   "source": [
    "import tensorflow as tf\n",
    "\n",
    "opt = tf.keras.optimizers.Adam(lr=1e-3, decay=1e-5)\n",
    "model2.compile(optimizer=opt, loss='categorical_crossentropy', metrics=['accuracy', 'Recall', 'Precision', 'AUC']) "
   ]
  },
  {
   "cell_type": "markdown",
   "metadata": {},
   "source": [
    "model2.fit( x=X_train,\n",
    "            y=y_train,\n",
    "            epochs=8, #30,\n",
    "            steps_per_epoch=50, #len(X_train) // 32\n",
    "            batch_size=5,\n",
    "            verbose=1,\n",
    "            callbacks=[early_stopping, lrr])"
   ]
  },
  {
   "cell_type": "markdown",
   "metadata": {},
   "source": [
    "model2_loss, model2_acc, model2_recall, model2_precision, model2_auc = model2.evaluate(X_train,y_train,verbose = 0)\n",
    "print(\"Model has a loss of %.2f and accuracy %.2f%%\" % (model2_loss, model2_acc*100))\n",
    "print(\"Model has a recall of %.2f%%, precision of %.2f%% and auc of %.2f%%\" % (model2_recall*100, model2_precision*100, model2_auc*100))"
   ]
  },
  {
   "cell_type": "markdown",
   "metadata": {},
   "source": [
    "y_true = np.argmax(y_test,axis = 1)[:]\n",
    "# y_true = y_test\n",
    "\n",
    "pred = model2.predict(X_test) # Predict prob and get Class Indices\n",
    "y_pred= np.argmax(pred, axis = 1)[:]\n",
    "evaluation(y_true, y_pred)"
   ]
  },
  {
   "cell_type": "markdown",
   "metadata": {},
   "source": [
    "### --------------------------------------------- MODEL 4 --------------------------------------------- \n",
    "###### https://github.com/mohandandamudi/FaceMaskDetection/blob/master/Face%20Mask%20Detection.ipynb"
   ]
  },
  {
   "cell_type": "code",
   "execution_count": 144,
   "metadata": {},
   "outputs": [],
   "source": [
    "from tensorflow.keras.layers import Conv2D, Input, ZeroPadding2D, BatchNormalization, Activation, MaxPooling2D, Flatten, Dense\n",
    "from tensorflow.keras import optimizers\n",
    "import tensorflow as tf\n",
    "from keras.models import Sequential\n",
    "from collections import Counter\n",
    "from sklearn.datasets import make_classification\n",
    "from sklearn.model_selection import train_test_split"
   ]
  },
  {
   "cell_type": "markdown",
   "metadata": {},
   "source": [
    "* Buliding Initial Model "
   ]
  },
  {
   "cell_type": "code",
   "execution_count": 126,
   "metadata": {},
   "outputs": [],
   "source": [
    "# split into train test sets\n",
    "from sklearn.model_selection import train_test_split\n",
    "X_train,X_test_1 , y_train, y_test_1 = train_test_split(full_imgs_array, full_imgs_labels,\n",
    "                                                    stratify=full_imgs_labels, \n",
    "                                                    test_size=0.25, random_state=5)\n",
    "\n",
    "X_test,X_val , y_test, y_val = train_test_split(X_test_1, y_test_1,\n",
    "                                                    stratify=y_test_1, \n",
    "                                                    test_size=0.25, random_state=5)"
   ]
  },
  {
   "cell_type": "code",
   "execution_count": 145,
   "metadata": {},
   "outputs": [
    {
     "name": "stdout",
     "output_type": "stream",
     "text": [
      "Model: \"sequential_22\"\n",
      "_________________________________________________________________\n",
      " Layer (type)                Output Shape              Param #   \n",
      "=================================================================\n",
      " conv2d_33 (Conv2D)          (None, 222, 222, 32)      896       \n",
      "                                                                 \n",
      " max_pooling2d_31 (MaxPoolin  (None, 111, 111, 32)     0         \n",
      " g2D)                                                            \n",
      "                                                                 \n",
      " flatten_22 (Flatten)        (None, 394272)            0         \n",
      "                                                                 \n",
      " dense_43 (Dense)            (None, 2)                 788546    \n",
      "                                                                 \n",
      "=================================================================\n",
      "Total params: 789,442\n",
      "Trainable params: 789,442\n",
      "Non-trainable params: 0\n",
      "_________________________________________________________________\n"
     ]
    }
   ],
   "source": [
    "model_few_Layers = tf.keras.models.Sequential([\n",
    "    \n",
    "    tf.keras.layers.Conv2D(32, (3,3), activation='relu', input_shape=(224, 224, 3)),\n",
    "    tf.keras.layers.MaxPooling2D(2,2),\n",
    "    tf.keras.layers.Flatten(),  \n",
    "    tf.keras.layers.Dense(2, activation='softmax')\n",
    "])\n",
    "\n",
    "opt = optimizers.Adam(learning_rate=0.001)\n",
    "model_few_Layers.compile(optimizer=opt, loss='categorical_crossentropy', metrics=['acc'])\n",
    "model_few_Layers.summary()"
   ]
  },
  {
   "cell_type": "code",
   "execution_count": 128,
   "metadata": {},
   "outputs": [
    {
     "name": "stdout",
     "output_type": "stream",
     "text": [
      "Epoch 1/30\n",
      "100/100 [==============================] - 21s 185ms/step - loss: 582.3679 - acc: 0.5800 - val_loss: 7.1448 - val_acc: 0.5632 - lr: 0.0010\n",
      "Epoch 2/30\n",
      "100/100 [==============================] - 17s 167ms/step - loss: 5.6025 - acc: 0.6440 - val_loss: 4.0875 - val_acc: 0.6263 - lr: 0.0010\n",
      "Epoch 3/30\n",
      "100/100 [==============================] - 16s 158ms/step - loss: 4.5216 - acc: 0.6680 - val_loss: 3.2972 - val_acc: 0.6895 - lr: 0.0010\n",
      "Epoch 4/30\n",
      "100/100 [==============================] - 16s 163ms/step - loss: 2.8891 - acc: 0.7260 - val_loss: 2.5335 - val_acc: 0.7632 - lr: 0.0010\n",
      "Epoch 5/30\n",
      "100/100 [==============================] - 16s 162ms/step - loss: 1.7834 - acc: 0.7920 - val_loss: 2.7911 - val_acc: 0.7684 - lr: 0.0010\n",
      "Epoch 6/30\n",
      "100/100 [==============================] - 13s 134ms/step - loss: 0.6118 - acc: 0.9260 - val_loss: 1.7785 - val_acc: 0.7474 - lr: 0.0010\n",
      "Epoch 7/30\n",
      "100/100 [==============================] - 21s 209ms/step - loss: 1.3208 - acc: 0.9240 - val_loss: 1.7675 - val_acc: 0.7789 - lr: 0.0010\n",
      "Epoch 8/30\n",
      "100/100 [==============================] - 16s 164ms/step - loss: 0.7737 - acc: 0.9320 - val_loss: 1.5712 - val_acc: 0.8053 - lr: 0.0010\n",
      "Epoch 9/30\n",
      "100/100 [==============================] - 16s 161ms/step - loss: 0.5246 - acc: 0.9100 - val_loss: 1.6605 - val_acc: 0.7947 - lr: 0.0010\n",
      "Epoch 10/30\n",
      "100/100 [==============================] - 16s 163ms/step - loss: 0.4308 - acc: 0.9720 - val_loss: 1.5258 - val_acc: 0.7842 - lr: 0.0010\n",
      "Epoch 11/30\n",
      "100/100 [==============================] - 18s 185ms/step - loss: 0.3278 - acc: 0.9760 - val_loss: 1.6221 - val_acc: 0.7842 - lr: 0.0010\n",
      "Epoch 12/30\n",
      "100/100 [==============================] - 18s 176ms/step - loss: 0.0895 - acc: 0.9760 - val_loss: 1.5091 - val_acc: 0.7842 - lr: 0.0010\n",
      "Epoch 13/30\n",
      "100/100 [==============================] - 17s 171ms/step - loss: 1.0308 - acc: 0.9600 - val_loss: 1.2055 - val_acc: 0.7737 - lr: 0.0010\n",
      "Epoch 14/30\n",
      "100/100 [==============================] - 17s 166ms/step - loss: 0.2267 - acc: 0.9740 - val_loss: 1.3298 - val_acc: 0.7895 - lr: 0.0010\n",
      "Epoch 15/30\n",
      "100/100 [==============================] - 16s 163ms/step - loss: 0.0643 - acc: 0.9900 - val_loss: 1.3215 - val_acc: 0.7842 - lr: 0.0010\n",
      "Epoch 16/30\n",
      "100/100 [==============================] - 16s 164ms/step - loss: 0.3023 - acc: 0.9840 - val_loss: 1.4128 - val_acc: 0.8000 - lr: 0.0010\n",
      "Epoch 17/30\n",
      "100/100 [==============================] - 17s 166ms/step - loss: 0.9529 - acc: 0.9760 - val_loss: 1.0283 - val_acc: 0.7842 - lr: 0.0010\n",
      "Epoch 18/30\n",
      "100/100 [==============================] - 16s 163ms/step - loss: 0.2632 - acc: 0.9840 - val_loss: 1.3686 - val_acc: 0.7895 - lr: 0.0010\n",
      "Epoch 19/30\n",
      "100/100 [==============================] - 16s 163ms/step - loss: 0.1586 - acc: 0.9780 - val_loss: 1.7859 - val_acc: 0.7789 - lr: 0.0010\n",
      "Epoch 20/30\n",
      "100/100 [==============================] - 16s 162ms/step - loss: 0.3976 - acc: 0.9840 - val_loss: 1.0795 - val_acc: 0.8158 - lr: 0.0010\n",
      "Epoch 21/30\n",
      "100/100 [==============================] - 16s 162ms/step - loss: 0.5337 - acc: 0.9700 - val_loss: 1.3689 - val_acc: 0.8053 - lr: 0.0010\n",
      "Epoch 22/30\n",
      "100/100 [==============================] - 16s 164ms/step - loss: 0.6604 - acc: 0.9860 - val_loss: 1.5292 - val_acc: 0.7895 - lr: 0.0010\n",
      "Epoch 23/30\n",
      "100/100 [==============================] - 16s 162ms/step - loss: 0.2178 - acc: 0.9860 - val_loss: 1.3824 - val_acc: 0.7947 - lr: 0.0010\n",
      "Epoch 24/30\n",
      "100/100 [==============================] - 16s 162ms/step - loss: 0.4258 - acc: 0.9840 - val_loss: 1.0626 - val_acc: 0.8053 - lr: 0.0010\n",
      "Epoch 25/30\n",
      "100/100 [==============================] - ETA: 0s - loss: 0.1811 - acc: 0.9880\n",
      "Epoch 25: ReduceLROnPlateau reducing learning rate to 0.0005000000237487257.\n",
      "100/100 [==============================] - 16s 164ms/step - loss: 0.1811 - acc: 0.9880 - val_loss: 1.5004 - val_acc: 0.7737 - lr: 0.0010\n"
     ]
    }
   ],
   "source": [
    "history = model_few_Layers.fit(\n",
    "                    x=X_train,\n",
    "                    y=y_train,\n",
    "                    epochs=30, #30,\n",
    "                    steps_per_epoch=100, #len(X_train) // 32\n",
    "                    batch_size=5,\n",
    "                    verbose=1,\n",
    "                    callbacks=[early_stopping, lrr],\n",
    "                    validation_data=(X_val,y_val)\n",
    "                    # ,callbacks=[checkpoint]\n",
    "                    )"
   ]
  },
  {
   "cell_type": "code",
   "execution_count": null,
   "metadata": {},
   "outputs": [],
   "source": [
    "# from tensorflow.keras.callbacks import TensorBoard, ModelCheckpoint\n",
    "# checkpoint = ModelCheckpoint('model-{epoch:03d}.model',monitor='val_loss',verbose=0,save_best_only=True,mode='auto')"
   ]
  },
  {
   "cell_type": "code",
   "execution_count": 129,
   "metadata": {},
   "outputs": [
    {
     "name": "stdout",
     "output_type": "stream",
     "text": [
      "18/18 [==============================] - 5s 287ms/step\n"
     ]
    },
    {
     "data": {
      "image/png": "[encoded data removed]",
      "text/plain": [
       "<Figure size 432x288 with 2 Axes>"
      ]
     },
     "metadata": {
      "needs_background": "light"
     },
     "output_type": "display_data"
    }
   ],
   "source": [
    "y_true = np.argmax(y_test,axis = 1)[:]\n",
    "# y_true = y_test \n",
    "\n",
    "pred = model_few_Layers.predict(X_test) # Predict prob and get Class Indices\n",
    "y_pred= np.argmax(pred, axis = 1)[:]\n",
    "\n",
    "evaluation(y_true, y_pred)"
   ]
  },
  {
   "cell_type": "markdown",
   "metadata": {},
   "source": [
    "* Plotting the model accuracy and loss"
   ]
  },
  {
   "cell_type": "code",
   "execution_count": 123,
   "metadata": {},
   "outputs": [
    {
     "data": {
      "image/png": "[encoded data removed]",
      "text/plain": [
       "<Figure size 432x288 with 1 Axes>"
      ]
     },
     "metadata": {
      "needs_background": "light"
     },
     "output_type": "display_data"
    },
    {
     "data": {
      "image/png": "[encoded data removed]",
      "text/plain": [
       "<Figure size 432x288 with 1 Axes>"
      ]
     },
     "metadata": {
      "needs_background": "light"
     },
     "output_type": "display_data"
    }
   ],
   "source": [
    "loss = history.history['loss']\n",
    "val_loss = history.history['val_loss']\n",
    "acc = history.history['acc']\n",
    "val_acc = history.history['val_acc']\n",
    "epochs = range(1, len(loss) + 1)\n",
    "\n",
    "# plotting accuracy \n",
    "\n",
    "plt.plot(epochs, acc, color='blue', label='Training')\n",
    "plt.plot(epochs, val_acc, color='green', label='Validation')\n",
    "plt.title('Training and Validation accuracy')\n",
    "plt.xlabel('Epochs')\n",
    "plt.ylabel('Accuracy')\n",
    "plt.legend()\n",
    "plt.show()\n",
    "\n",
    "# plotting loss\n",
    "plt.plot(epochs, loss, color='orange', label='Training')\n",
    "plt.plot(epochs, val_loss, color='red', label='Validation')\n",
    "plt.title('Training and Validation loss')\n",
    "plt.xlabel('Epochs')\n",
    "plt.ylabel('Loss')\n",
    "plt.legend()\n",
    "plt.show()"
   ]
  },
  {
   "cell_type": "markdown",
   "metadata": {},
   "source": [
    "### --------------------------------------------- MODEL 5 --------------------------------------------- \n",
    "###### Αποτελέι συνέχεια του προηγούμενου μοντέλου"
   ]
  },
  {
   "cell_type": "markdown",
   "metadata": {},
   "source": [
    "* Creating Improved model\n",
    "#####\n",
    "We are going to use VGG16 model here"
   ]
  },
  {
   "cell_type": "code",
   "execution_count": 146,
   "metadata": {},
   "outputs": [],
   "source": [
    "vgg16_model=tf.keras.applications.vgg16.VGG16()\n",
    "# vgg16_model.summary() #lets look at summary."
   ]
  },
  {
   "cell_type": "code",
   "execution_count": 147,
   "metadata": {},
   "outputs": [
    {
     "data": {
      "text/plain": [
       "keras.engine.functional.Functional"
      ]
     },
     "execution_count": 147,
     "metadata": {},
     "output_type": "execute_result"
    }
   ],
   "source": [
    "# Checking the type of model\n",
    "type(vgg16_model)"
   ]
  },
  {
   "cell_type": "markdown",
   "metadata": {},
   "source": [
    "* Couple of things that need to be changes.\n",
    "1. We need a sequential model unlike VGG16\n",
    "2. The last Dense layer in VGG16 has 1000 ouputs but we need only two"
   ]
  },
  {
   "cell_type": "code",
   "execution_count": 148,
   "metadata": {},
   "outputs": [
    {
     "name": "stdout",
     "output_type": "stream",
     "text": [
      "Model: \"sequential_23\"\n",
      "_________________________________________________________________\n",
      " Layer (type)                Output Shape              Param #   \n",
      "=================================================================\n",
      " block1_conv1 (Conv2D)       (None, 224, 224, 64)      1792      \n",
      "                                                                 \n",
      " block1_conv2 (Conv2D)       (None, 224, 224, 64)      36928     \n",
      "                                                                 \n",
      " block1_pool (MaxPooling2D)  (None, 112, 112, 64)      0         \n",
      "                                                                 \n",
      " block2_conv1 (Conv2D)       (None, 112, 112, 128)     73856     \n",
      "                                                                 \n",
      " block2_conv2 (Conv2D)       (None, 112, 112, 128)     147584    \n",
      "                                                                 \n",
      " block2_pool (MaxPooling2D)  (None, 56, 56, 128)       0         \n",
      "                                                                 \n",
      " block3_conv1 (Conv2D)       (None, 56, 56, 256)       295168    \n",
      "                                                                 \n",
      " block3_conv2 (Conv2D)       (None, 56, 56, 256)       590080    \n",
      "                                                                 \n",
      " block3_conv3 (Conv2D)       (None, 56, 56, 256)       590080    \n",
      "                                                                 \n",
      " block3_pool (MaxPooling2D)  (None, 28, 28, 256)       0         \n",
      "                                                                 \n",
      " block4_conv1 (Conv2D)       (None, 28, 28, 512)       1180160   \n",
      "                                                                 \n",
      " block4_conv2 (Conv2D)       (None, 28, 28, 512)       2359808   \n",
      "                                                                 \n",
      " block4_conv3 (Conv2D)       (None, 28, 28, 512)       2359808   \n",
      "                                                                 \n",
      " block4_pool (MaxPooling2D)  (None, 14, 14, 512)       0         \n",
      "                                                                 \n",
      " block5_conv1 (Conv2D)       (None, 14, 14, 512)       2359808   \n",
      "                                                                 \n",
      " block5_conv2 (Conv2D)       (None, 14, 14, 512)       2359808   \n",
      "                                                                 \n",
      " block5_conv3 (Conv2D)       (None, 14, 14, 512)       2359808   \n",
      "                                                                 \n",
      " block5_pool (MaxPooling2D)  (None, 7, 7, 512)         0         \n",
      "                                                                 \n",
      " flatten (Flatten)           (None, 25088)             0         \n",
      "                                                                 \n",
      " fc1 (Dense)                 (None, 4096)              102764544 \n",
      "                                                                 \n",
      " fc2 (Dense)                 (None, 4096)              16781312  \n",
      "                                                                 \n",
      "=================================================================\n",
      "Total params: 134,260,544\n",
      "Trainable params: 134,260,544\n",
      "Non-trainable params: 0\n",
      "_________________________________________________________________\n"
     ]
    }
   ],
   "source": [
    "# So we will create a blank sequential model and then add layers from VGG16 except last one\n",
    "improved_model =tf.keras.models.Sequential()\n",
    "\n",
    "for layer in vgg16_model.layers[:-1]:\n",
    "    improved_model.add(layer)\n",
    "\n",
    "improved_model.summary()"
   ]
  },
  {
   "cell_type": "code",
   "execution_count": 149,
   "metadata": {},
   "outputs": [],
   "source": [
    "# By Default the VGG16 layers are well trained for image classification so no need to update the weights at each layer.\n",
    "for layer in improved_model.layers:\n",
    "    layer.trainable=False"
   ]
  },
  {
   "cell_type": "code",
   "execution_count": 150,
   "metadata": {},
   "outputs": [],
   "source": [
    "# Adding dense layer with 2 outputs\n",
    "improved_model.add(tf.keras.layers.Dense(2, activation='softmax'))\n",
    "\n",
    "opt = optimizers.Adam(learning_rate=0.001)\n",
    "improved_model.compile(optimizer=opt, loss='categorical_crossentropy', metrics=['acc']) \n",
    "\n",
    "#Lets look at the final model summary.\n",
    "improved_model.summary()"
   ]
  },
  {
   "cell_type": "code",
   "execution_count": 45,
   "metadata": {},
   "outputs": [
    {
     "name": "stdout",
     "output_type": "stream",
     "text": [
      "Epoch 1/5\n",
      "10/10 [==============================] - 112s 12s/step - loss: 0.3078 - acc: 0.8800 - val_loss: 0.5249 - val_acc: 0.8000 - lr: 0.0010\n",
      "Epoch 2/5\n",
      "10/10 [==============================] - 110s 12s/step - loss: 0.3480 - acc: 0.8800 - val_loss: 0.5101 - val_acc: 0.8053 - lr: 0.0010\n",
      "Epoch 3/5\n",
      "10/10 [==============================] - 118s 13s/step - loss: 0.3068 - acc: 0.9200 - val_loss: 0.5890 - val_acc: 0.7842 - lr: 0.0010\n",
      "Epoch 4/5\n",
      "10/10 [==============================] - 116s 13s/step - loss: 0.3960 - acc: 0.8200 - val_loss: 0.4997 - val_acc: 0.8053 - lr: 0.0010\n",
      "Epoch 5/5\n",
      "10/10 [==============================] - 94s 10s/step - loss: 0.2707 - acc: 0.9400 - val_loss: 0.4972 - val_acc: 0.8368 - lr: 0.0010\n"
     ]
    }
   ],
   "source": [
    "history2 = improved_model.fit(x=X_train,\n",
    "                            y=y_train,\n",
    "                            epochs=5, #30,\n",
    "                            steps_per_epoch=10, #len(X_train) // 32\n",
    "                            batch_size=5,\n",
    "                            verbose=1,\n",
    "                            validation_data=(X_val,y_val),\n",
    "                            callbacks=[early_stopping, lrr],\n",
    "                            #  ,callbacks=[checkpoint]\n",
    "                            )"
   ]
  },
  {
   "cell_type": "code",
   "execution_count": 46,
   "metadata": {},
   "outputs": [
    {
     "data": {
      "image/png": "[encoded data removed]",
      "text/plain": [
       "<Figure size 432x288 with 1 Axes>"
      ]
     },
     "metadata": {
      "needs_background": "light"
     },
     "output_type": "display_data"
    },
    {
     "data": {
      "image/png": "[encoded data removed]",
      "text/plain": [
       "<Figure size 432x288 with 1 Axes>"
      ]
     },
     "metadata": {
      "needs_background": "light"
     },
     "output_type": "display_data"
    }
   ],
   "source": [
    "loss = history2.history['loss']\n",
    "val_loss = history2.history['val_loss']\n",
    "acc = history2.history['acc']\n",
    "val_acc = history2.history['val_acc']\n",
    "epochs = range(1, len(loss) + 1)\n",
    "\n",
    "# plotting accuracy \n",
    "plt.plot(epochs, acc, color='blue', label='Training')\n",
    "plt.plot(epochs, val_acc, color='green', label='Validation')\n",
    "plt.title('Training and Validation accuracy')\n",
    "plt.xlabel('Epochs')\n",
    "plt.ylabel('Accuracy')\n",
    "plt.legend()\n",
    "plt.show()\n",
    "\n",
    "# plotting loss\n",
    "plt.plot(epochs, loss, color='orange', label='Training')\n",
    "plt.plot(epochs, val_loss, color='red', label='Validation')\n",
    "plt.title('Training and Validation loss')\n",
    "plt.xlabel('Epochs')\n",
    "plt.ylabel('Loss')\n",
    "plt.legend()\n",
    "plt.show()"
   ]
  },
  {
   "cell_type": "markdown",
   "metadata": {},
   "source": [
    "### --------------------------------------------- MODEL 6 --------------------------------------------- \n",
    "#####\n",
    "https://github.com/hrithikppawar/Face-Mask-Detection-Using-VGG16/blob/main/Face_Mask_Detection_VGG16.ipynb"
   ]
  },
  {
   "cell_type": "code",
   "execution_count": 151,
   "metadata": {},
   "outputs": [],
   "source": [
    "from tensorflow.keras.layers import Input, Lambda, Dense, Flatten\n",
    "from tensorflow.keras.models import Model, Sequential\n",
    "from tensorflow.keras.applications.vgg16 import VGG16\n",
    "from tensorflow.keras.applications.vgg16 import preprocess_input"
   ]
  },
  {
   "cell_type": "code",
   "execution_count": 86,
   "metadata": {},
   "outputs": [],
   "source": [
    "# Important variables \n",
    "INPUT_SIZE = [224, 224]\n",
    "BATCH = 32"
   ]
  },
  {
   "cell_type": "code",
   "execution_count": 152,
   "metadata": {},
   "outputs": [],
   "source": [
    "vgg16 = VGG16(input_shape=INPUT_SIZE + [3], weights='imagenet', include_top=False)"
   ]
  },
  {
   "cell_type": "code",
   "execution_count": 153,
   "metadata": {},
   "outputs": [],
   "source": [
    "for layer in vgg16.layers:\n",
    "    layer.trainable = False\n",
    "# vgg16.summary()"
   ]
  },
  {
   "cell_type": "code",
   "execution_count": 154,
   "metadata": {},
   "outputs": [],
   "source": [
    "flatten = Flatten()(vgg16.output)\n",
    "dense_1 = Dense(units=500, activation='relu')(flatten)\n",
    "dense_2 = Dense(units=500, activation='relu')(dense_1)\n",
    "dense_3 = Dense(units=100, activation='relu')(dense_2)\n",
    "dense_4 = Dense(units=100, activation='relu')(dense_3)\n",
    "dense_output = Dense(units=2, activation='sigmoid')(dense_4)"
   ]
  },
  {
   "cell_type": "code",
   "execution_count": 155,
   "metadata": {},
   "outputs": [],
   "source": [
    "model_NEW = Model(inputs=vgg16.input, outputs=dense_output)\n",
    "# model_NEW.summary()"
   ]
  },
  {
   "cell_type": "code",
   "execution_count": 156,
   "metadata": {},
   "outputs": [],
   "source": [
    "model_NEW.compile(\n",
    "  loss='binary_crossentropy',\n",
    "  optimizer='adam',\n",
    "  metrics=['accuracy']\n",
    ")"
   ]
  },
  {
   "cell_type": "code",
   "execution_count": 100,
   "metadata": {},
   "outputs": [
    {
     "name": "stdout",
     "output_type": "stream",
     "text": [
      "Epoch 1/5\n",
      "10/10 [==============================] - 163s 17s/step - loss: 9.6026 - accuracy: 0.6400 - val_loss: 4.8404 - val_accuracy: 0.6368 - lr: 0.0010\n",
      "Epoch 2/5\n",
      "10/10 [==============================] - 123s 13s/step - loss: 4.6287 - accuracy: 0.7200 - val_loss: 2.8298 - val_accuracy: 0.5684 - lr: 0.0010\n",
      "Epoch 3/5\n",
      "10/10 [==============================] - 102s 11s/step - loss: 3.7535 - accuracy: 0.4000 - val_loss: 2.4103 - val_accuracy: 0.6842 - lr: 0.0010\n",
      "Epoch 4/5\n",
      "10/10 [==============================] - 126s 14s/step - loss: 2.2691 - accuracy: 0.5800 - val_loss: 2.7322 - val_accuracy: 0.6842 - lr: 0.0010\n",
      "Epoch 5/5\n",
      "10/10 [==============================] - 102s 11s/step - loss: 3.4503 - accuracy: 0.6600 - val_loss: 1.7349 - val_accuracy: 0.6526 - lr: 0.0010\n"
     ]
    }
   ],
   "source": [
    "history2 = model_NEW.fit(x=X_train,\n",
    "                            y=y_train,\n",
    "                            epochs=5, #epochs=60,\n",
    "                            steps_per_epoch=10, #len(X_train) // 32\n",
    "                            batch_size=5,\n",
    "                            verbose=1,\n",
    "                            validation_data=(X_val,y_val),\n",
    "                            callbacks=[early_stopping, lrr],\n",
    "                            #  ,callbacks=[checkpoint]\n",
    "                            )"
   ]
  },
  {
   "cell_type": "markdown",
   "metadata": {},
   "source": [
    "### --------------------------------------------- Comparison --------------------------------------------- \n"
   ]
  },
  {
   "cell_type": "markdown",
   "metadata": {},
   "source": [
    "Compare Machine Learning Models Carefully\n",
    "#####\n",
    "When you have a new dataset, it is a good idea to visualize the data using different techniques in order to look at the data from different perspectives."
   ]
  },
  {
   "cell_type": "code",
   "execution_count": 130,
   "metadata": {},
   "outputs": [],
   "source": [
    "# Compare Algorithms\n",
    "import pandas\n",
    "import matplotlib.pyplot as plt\n",
    "from sklearn.metrics import roc_curve\n",
    "from sklearn.metrics import roc_auc_score\n",
    "from sklearn.metrics import precision_score, recall_score, f1_score, accuracy_score, log_loss\n",
    "from sklearn.datasets import make_classification\n",
    "from sklearn import model_selection"
   ]
  },
  {
   "cell_type": "markdown",
   "metadata": {},
   "source": [
    "* Precision: The model precision score measures the proportion of positively predicted labels that are actually correct. Precision is also known as the positive predictive value. Precision Score = TP / (FP + TP)\n",
    "* Accuracy: Tells us how often we can expect our machine learning model will correctly predict an outcome out of the total number of times it made predictions.  Accuracy Score = (TP + TN)/ (TP + FN + TN + FP)\n",
    "* Recall score is used to measure the model performance in terms of measuring the count of true positives in a correct manner out of all the actual positive values.\n",
    "* F1-score is harmonic mean of precision and recall score and is used as a metrics in the scenarios where choosing either of precision or recall score can result in compromise in terms of model giving high false positives and false negatives respectively. \n",
    "    F1 Score = 2* Precision Score * Recall Score/ (Precision Score + Recall Score/)\n",
    "\n"
   ]
  },
  {
   "cell_type": "code",
   "execution_count": 160,
   "metadata": {},
   "outputs": [],
   "source": [
    "classifiers = [\n",
    "    # model,\n",
    "    # model_vgg19,\n",
    "    # model_SSD,\n",
    "    # model_few_Layers,\n",
    "    # vgg16_model,\n",
    "    improved_model,\n",
    "    model_NEW\n",
    "    ]\n",
    "name_of_model = [\n",
    "    # \"model\",\n",
    "    # \"model_vgg19\",\n",
    "    # \"model_SSD\",\n",
    "    # \"model_few_Layers\",\n",
    "    # \"vgg16_model\"\n",
    "    # \"improved_model\",\n",
    "    \"model_NEW\"\n",
    "  \n",
    "    ]\n",
    "    "
   ]
  },
  {
   "cell_type": "code",
   "execution_count": 164,
   "metadata": {},
   "outputs": [],
   "source": [
    "# Logging for Visual Comparison\n",
    "log_cols=[\"Classifier\", \"Accuracy\", \"Precision\", \"Recall\", \"F1\", \"AUC\"]\n",
    "\n",
    "log = pd.DataFrame(columns=log_cols)\n",
    "i=0\n",
    "\n",
    "for clf in classifiers:\n",
    "\n",
    "    name=name_of_model[i]\n",
    "    i+=1    \n",
    "\n",
    "    #Fit the model\n",
    "    # clf.fit(x=X_train,\n",
    "    #                         y=y_train,\n",
    "    #                         epochs=5, #epochs=60,\n",
    "    #                         steps_per_epoch=10, #len(X_train) // 32\n",
    "    #                         batch_size=5,\n",
    "    #                         verbose=0 ,  # Verbosity mode. 0 = silent\n",
    "    #                         validation_data=(X_val,y_val),\n",
    "    #                         callbacks=[early_stopping, lrr],\n",
    "    #                         #  ,callbacks=[checkpoint]\n",
    "    #                         )\n",
    "\n",
    "    # calculate y_pred\n",
    "    y_true = np.argmax(y_test, axis = 1)[:]\n",
    "    pred = clf.predict(X_test,verbose = 0) # Predict prob and get Class Indices\n",
    "    y_pred= np.argmax(pred, axis = 1)[:]\n",
    "\n",
    "    # calcualte accuracy\n",
    "    acc=accuracy_score(y_pred[:],y_true[:])\n",
    "    \n",
    "    # calcualte precision\t\n",
    "    pre=precision_score(y_pred[:],y_true[:])\n",
    "\n",
    "    # calcualte Recall\t\n",
    "    rec=recall_score(y_pred[:],y_true[:])\n",
    "\n",
    "    # calcualte F1-score\n",
    "    f1= f1_score(y_pred[:],y_true[:])\n",
    "\n",
    "    ## calculate scores\n",
    "    auc = roc_auc_score(y_true, y_pred)\n",
    "    \n",
    "    #entry them in a dataframe for visualization\n",
    "    log_entry = pd.DataFrame([[name, acc*100, pre*100, rec*100, f1*100, auc*100]], columns=log_cols)\n",
    "    log = log.append(log_entry)\n",
    "    \n",
    "    # Print the results\n",
    "    # print(\"=\"*30)   \n",
    "    # print('**** Results ' + name + '****')\n",
    "    # print(\"Accuracy: {:.4%}\".format(acc))\n",
    "    # print(\"Precision: {:.4%}\".format(pre) )\n",
    "    # print(\"Recall: {:.4%}\".format(rec) )\n",
    "    # print(\"F1-score: {:.4%}\".format(f1) )\n",
    "    # print( name + \": ROC AUC: {:.4%}\".format(auc))\n",
    "\n",
    "# print(\"=\"*15 + \" End \" + \"=\"*15)"
   ]
  },
  {
   "cell_type": "code",
   "execution_count": 159,
   "metadata": {},
   "outputs": [
    {
     "data": {
      "text/html": [
       "<div>\n",
       "<style scoped>\n",
       "    .dataframe tbody tr th:only-of-type {\n",
       "        vertical-align: middle;\n",
       "    }\n",
       "\n",
       "    .dataframe tbody tr th {\n",
       "        vertical-align: top;\n",
       "    }\n",
       "\n",
       "    .dataframe thead th {\n",
       "        text-align: right;\n",
       "    }\n",
       "</style>\n",
       "<table border=\"1\" class=\"dataframe\">\n",
       "  <thead>\n",
       "    <tr style=\"text-align: right;\">\n",
       "      <th></th>\n",
       "      <th>Classifier</th>\n",
       "      <th>Accuracy</th>\n",
       "      <th>Precision</th>\n",
       "      <th>Recall</th>\n",
       "      <th>F1</th>\n",
       "      <th>AUC</th>\n",
       "    </tr>\n",
       "  </thead>\n",
       "  <tbody>\n",
       "    <tr>\n",
       "      <th>0</th>\n",
       "      <td>model</td>\n",
       "      <td>56.666667</td>\n",
       "      <td>64.675325</td>\n",
       "      <td>69.166667</td>\n",
       "      <td>66.845638</td>\n",
       "      <td>52.337662</td>\n",
       "    </tr>\n",
       "    <tr>\n",
       "      <th>0</th>\n",
       "      <td>model_vgg19</td>\n",
       "      <td>54.210526</td>\n",
       "      <td>57.922078</td>\n",
       "      <td>69.254658</td>\n",
       "      <td>63.083451</td>\n",
       "      <td>52.204282</td>\n",
       "    </tr>\n",
       "    <tr>\n",
       "      <th>0</th>\n",
       "      <td>model_SSD</td>\n",
       "      <td>65.087719</td>\n",
       "      <td>93.766234</td>\n",
       "      <td>67.350746</td>\n",
       "      <td>78.393051</td>\n",
       "      <td>49.585820</td>\n",
       "    </tr>\n",
       "    <tr>\n",
       "      <th>0</th>\n",
       "      <td>model_few_Layers</td>\n",
       "      <td>67.543860</td>\n",
       "      <td>100.000000</td>\n",
       "      <td>67.543860</td>\n",
       "      <td>80.628272</td>\n",
       "      <td>50.000000</td>\n",
       "    </tr>\n",
       "  </tbody>\n",
       "</table>\n",
       "</div>"
      ],
      "text/plain": [
       "         Classifier   Accuracy   Precision     Recall         F1        AUC\n",
       "0             model  56.666667   64.675325  69.166667  66.845638  52.337662\n",
       "0       model_vgg19  54.210526   57.922078  69.254658  63.083451  52.204282\n",
       "0         model_SSD  65.087719   93.766234  67.350746  78.393051  49.585820\n",
       "0  model_few_Layers  67.543860  100.000000  67.543860  80.628272  50.000000"
      ]
     },
     "execution_count": 159,
     "metadata": {},
     "output_type": "execute_result"
    }
   ],
   "source": [
    "log"
   ]
  },
  {
   "cell_type": "markdown",
   "metadata": {},
   "source": [
    "* Plot"
   ]
  },
  {
   "cell_type": "code",
   "execution_count": null,
   "metadata": {},
   "outputs": [],
   "source": [
    "######################################## Accuracy ###########################################################\n",
    "# Figure Size\n",
    "fig, ax = plt.subplots(figsize =(10, 5))\n",
    "\n",
    "# Add x, y gridlines\n",
    "ax.grid(b = True, color ='dimgrey',\n",
    "        linestyle = '--', linewidth = 1,\n",
    "        alpha = 0.2)\n",
    "\n",
    "\n",
    "sns.set_color_codes(\"muted\")\n",
    "sns.barplot(x='Accuracy', y='Classifier', data=log, color=\"b\")\n",
    "\n",
    "# Add annotation to bars\n",
    "for i in ax.patches:\n",
    "    plt.text(i.get_width(), i.get_y()+0.2,\n",
    "             str(round((i.get_width()), 2)),\n",
    "             fontsize = 8, fontweight ='bold',\n",
    "             color ='dimgrey')\n",
    "\n",
    "plt.xlabel('Accuracy %')\n",
    "plt.title('Classifier Accuracy')\n",
    "plt.show()\n",
    "\n",
    "############################################# Precision ###########################################################\n",
    "\n",
    "# Figure Size\n",
    "fig, ax = plt.subplots(figsize =(10, 5))\n",
    "\n",
    "# Add x, y gridlines\n",
    "ax.grid(b = True, color ='dimgrey',\n",
    "        linestyle = '--', linewidth = 1,\n",
    "        alpha = 0.2)\n",
    "\n",
    "sns.set_color_codes(\"muted\")\n",
    "sns.barplot(x='Precision', y='Classifier', data=log, color=\"g\")\n",
    "\n",
    "# Add annotation to bars\n",
    "for i in ax.patches:\n",
    "    plt.text(i.get_width(), i.get_y()+0.2,\n",
    "             str(round((i.get_width()), 2)),\n",
    "             fontsize = 8, fontweight ='bold',\n",
    "             color ='dimgrey')\n",
    "\n",
    "\n",
    "plt.xlabel('Precision %')\n",
    "plt.title('Classifier Precision')\n",
    "plt.show()\n",
    "\n",
    "############################################# Recall ###########################################################\n",
    "\n",
    "# Figure Size\n",
    "fig, ax = plt.subplots(figsize =(10, 5))\n",
    "\n",
    "# Add x, y gridlines\n",
    "ax.grid(b = True, color ='dimgrey',\n",
    "        linestyle = '--', linewidth = 1,\n",
    "        alpha = 0.2)\n",
    "\n",
    "sns.set_color_codes(\"muted\")\n",
    "sns.barplot(x='Recall', y='Classifier', data=log, color='c')\n",
    "\n",
    "# Add annotation to bars\n",
    "for i in ax.patches:\n",
    "    plt.text(i.get_width(), i.get_y(),\n",
    "             str(round((i.get_width()), 2)),\n",
    "             fontsize = 8, fontweight ='bold',\n",
    "             color ='dimgrey')\n",
    "\n",
    "\n",
    "plt.xlabel('Recall %')\n",
    "plt.title('Classifier Recall')\n",
    "plt.show()\n",
    "\n",
    "############################################# F1 ###########################################################\n",
    "\n",
    "# Figure Size\n",
    "fig, ax = plt.subplots(figsize =(10, 5))\n",
    "\n",
    "# Add x, y gridlines\n",
    "ax.grid(b = True, color ='dimgrey',\n",
    "        linestyle = '--', linewidth = 1,\n",
    "        alpha = 0.2)\n",
    "\n",
    "sns.set_color_codes(\"muted\")\n",
    "sns.barplot(x='F1', y='Classifier', data=log, color=\"y\")\n",
    "\n",
    "# Add annotation to bars\n",
    "for i in ax.patches:\n",
    "    plt.text(i.get_width(), i.get_y()+0.2,\n",
    "             str(round((i.get_width()), 2)),\n",
    "             fontsize = 8, fontweight ='bold',\n",
    "             color ='dimgrey')\n",
    "\n",
    "\n",
    "plt.xlabel('F1-score %')\n",
    "plt.title('Classifier F1-score')\n",
    "plt.show()\n",
    "\n",
    "############################################# AUC ###########################################################\n",
    "# Figure Size\n",
    "fig, ax = plt.subplots(figsize =(10, 5))\n",
    "\n",
    "# Add x, y gridlines\n",
    "ax.grid(b = True, color ='dimgrey',\n",
    "        linestyle = '--', linewidth = 1,\n",
    "        alpha = 0.2)\n",
    "\n",
    "sns.set_color_codes(\"muted\")\n",
    "sns.barplot(x='AUC', y='Classifier', data=log, color=\"r\")\n",
    "\n",
    "# Add annotation to bars\n",
    "for i in ax.patches:\n",
    "    plt.text(i.get_width(), i.get_y()+0.2,\n",
    "             str(round((i.get_width()), 2)),\n",
    "             fontsize = 8, fontweight ='bold',\n",
    "             color ='dimgrey')\n",
    "\n",
    "plt.xlabel('Area Under Curve')\n",
    "plt.title('Classifier AUC')\n",
    "plt.show()"
   ]
  },
  {
   "cell_type": "code",
   "execution_count": null,
   "metadata": {},
   "outputs": [
    {
     "name": "stderr",
     "output_type": "stream",
     "text": [
      "c:\\Users\\Eftixia\\AppData\\Local\\Programs\\Python\\Python310\\lib\\site-packages\\seaborn\\categorical.py:3717: UserWarning: The `factorplot` function has been renamed to `catplot`. The original name will be removed in a future release. Please update your code. Note that the default `kind` in `factorplot` (`'point'`) has changed `'strip'` in `catplot`.\n",
      "  warnings.warn(msg)\n"
     ]
    },
    {
     "data": {
      "image/png": "[encoded data removed]",
      "text/plain": [
       "<Figure size 1080x720 with 5 Axes>"
      ]
     },
     "metadata": {},
     "output_type": "display_data"
    }
   ],
   "source": [
    "\n",
    "#ΔΕΝ ΜΠΟΡΩ ΝΑ ΒΑΛΨ ΤΙΣ ΑΤΟΜΙΚΕΣ ΤΙΜΕΣ ΑΝΑ column\n",
    "def fxn():\n",
    "    warnings.warn(\"deprecated\", DeprecationWarning)\n",
    "\n",
    "with warnings.catch_warnings():\n",
    "    warnings.simplefilter(\"ignore\")\n",
    "    fxn()\n",
    "\n",
    "df2 = pd.melt(log, value_vars=[ \"Accuracy\", \"Precision\", \"Recall\", \"F1\", \"AUC\"], id_vars=\"Classifier\")\n",
    "\n",
    "sns.set(style=\"ticks\")\n",
    "\n",
    "g = sns.factorplot(data=df2,\n",
    "                   kind=\"bar\",\n",
    "                   col=\"variable\", # we have 1 plot per variable, forming 1 line and 5 columns (5 different variables)\n",
    "                   x=\"Classifier\", # in each plot the x-axis will be the name\n",
    "                   y=\"value\", # the height of the bar\n",
    "                   col_wrap=3,# we actually want your line of plots to contain 3 plots maximum \n",
    "                   palette=\"mako\", #Set2,Paired\n",
    "                  ) \n",
    "g.set_xticklabels(rotation=45) # rotate the labels so they don't overlap\n",
    "plt.tight_layout() # fit everything into the figure\n",
    "\n"
   ]
  },
  {
   "cell_type": "markdown",
   "metadata": {},
   "source": [
    "* Plot Area Under Curve"
   ]
  },
  {
   "cell_type": "code",
   "execution_count": 131,
   "metadata": {},
   "outputs": [
    {
     "name": "stderr",
     "output_type": "stream",
     "text": [
      "C:\\Users\\Eftixia\\AppData\\Local\\Temp\\ipykernel_17644\\588644489.py:9: MatplotlibDeprecationWarning: The 'b' parameter of grid() has been renamed 'visible' since Matplotlib 3.5; support for the old name will be dropped two minor releases later.\n",
      "  plt.grid(b = True, color ='dimgrey',\n"
     ]
    },
    {
     "ename": "KeyboardInterrupt",
     "evalue": "",
     "output_type": "error",
     "traceback": [
      "\u001b[1;31m---------------------------------------------------------------------------\u001b[0m",
      "\u001b[1;31mKeyboardInterrupt\u001b[0m                         Traceback (most recent call last)",
      "\u001b[1;32mc:\\Users\\Eftixia\\Desktop\\Eftychia_Master_notebook_20220819.ipynb Cell 133\u001b[0m in \u001b[0;36m<cell line: 14>\u001b[1;34m()\u001b[0m\n\u001b[0;32m     <a href='vscode-notebook-cell:/c%3A/Users/Eftixia/Desktop/Eftychia_Master_notebook_20220819.ipynb#Y401sZmlsZQ%3D%3D?line=17'>18</a>\u001b[0m i\u001b[39m+\u001b[39m\u001b[39m=\u001b[39m\u001b[39m1\u001b[39m    \n\u001b[0;32m     <a href='vscode-notebook-cell:/c%3A/Users/Eftixia/Desktop/Eftychia_Master_notebook_20220819.ipynb#Y401sZmlsZQ%3D%3D?line=19'>20</a>\u001b[0m y_true \u001b[39m=\u001b[39m np\u001b[39m.\u001b[39margmax(y_test, axis \u001b[39m=\u001b[39m \u001b[39m1\u001b[39m)[:]\n\u001b[1;32m---> <a href='vscode-notebook-cell:/c%3A/Users/Eftixia/Desktop/Eftychia_Master_notebook_20220819.ipynb#Y401sZmlsZQ%3D%3D?line=21'>22</a>\u001b[0m pred \u001b[39m=\u001b[39m clf\u001b[39m.\u001b[39;49mpredict(X_test,verbose \u001b[39m=\u001b[39;49m \u001b[39m0\u001b[39;49m) \u001b[39m# Predict prob and get Class Indices\u001b[39;00m\n\u001b[0;32m     <a href='vscode-notebook-cell:/c%3A/Users/Eftixia/Desktop/Eftychia_Master_notebook_20220819.ipynb#Y401sZmlsZQ%3D%3D?line=22'>23</a>\u001b[0m y_pred\u001b[39m=\u001b[39m np\u001b[39m.\u001b[39margmax(pred, axis \u001b[39m=\u001b[39m \u001b[39m1\u001b[39m)[:]\n\u001b[0;32m     <a href='vscode-notebook-cell:/c%3A/Users/Eftixia/Desktop/Eftychia_Master_notebook_20220819.ipynb#Y401sZmlsZQ%3D%3D?line=24'>25</a>\u001b[0m  \u001b[39m# calculate roc curves\u001b[39;00m\n",
      "File \u001b[1;32mc:\\Users\\Eftixia\\AppData\\Local\\Programs\\Python\\Python310\\lib\\site-packages\\keras\\utils\\traceback_utils.py:64\u001b[0m, in \u001b[0;36mfilter_traceback.<locals>.error_handler\u001b[1;34m(*args, **kwargs)\u001b[0m\n\u001b[0;32m     62\u001b[0m filtered_tb \u001b[39m=\u001b[39m \u001b[39mNone\u001b[39;00m\n\u001b[0;32m     63\u001b[0m \u001b[39mtry\u001b[39;00m:\n\u001b[1;32m---> 64\u001b[0m   \u001b[39mreturn\u001b[39;00m fn(\u001b[39m*\u001b[39margs, \u001b[39m*\u001b[39m\u001b[39m*\u001b[39mkwargs)\n\u001b[0;32m     65\u001b[0m \u001b[39mexcept\u001b[39;00m \u001b[39mException\u001b[39;00m \u001b[39mas\u001b[39;00m e:  \u001b[39m# pylint: disable=broad-except\u001b[39;00m\n\u001b[0;32m     66\u001b[0m   filtered_tb \u001b[39m=\u001b[39m _process_traceback_frames(e\u001b[39m.\u001b[39m__traceback__)\n",
      "File \u001b[1;32mc:\\Users\\Eftixia\\AppData\\Local\\Programs\\Python\\Python310\\lib\\site-packages\\keras\\engine\\training.py:2033\u001b[0m, in \u001b[0;36mModel.predict\u001b[1;34m(self, x, batch_size, verbose, steps, callbacks, max_queue_size, workers, use_multiprocessing)\u001b[0m\n\u001b[0;32m   2031\u001b[0m \u001b[39mfor\u001b[39;00m step \u001b[39min\u001b[39;00m data_handler\u001b[39m.\u001b[39msteps():\n\u001b[0;32m   2032\u001b[0m   callbacks\u001b[39m.\u001b[39mon_predict_batch_begin(step)\n\u001b[1;32m-> 2033\u001b[0m   tmp_batch_outputs \u001b[39m=\u001b[39m \u001b[39mself\u001b[39;49m\u001b[39m.\u001b[39;49mpredict_function(iterator)\n\u001b[0;32m   2034\u001b[0m   \u001b[39mif\u001b[39;00m data_handler\u001b[39m.\u001b[39mshould_sync:\n\u001b[0;32m   2035\u001b[0m     context\u001b[39m.\u001b[39masync_wait()\n",
      "File \u001b[1;32mc:\\Users\\Eftixia\\AppData\\Local\\Programs\\Python\\Python310\\lib\\site-packages\\tensorflow\\python\\util\\traceback_utils.py:150\u001b[0m, in \u001b[0;36mfilter_traceback.<locals>.error_handler\u001b[1;34m(*args, **kwargs)\u001b[0m\n\u001b[0;32m    148\u001b[0m filtered_tb \u001b[39m=\u001b[39m \u001b[39mNone\u001b[39;00m\n\u001b[0;32m    149\u001b[0m \u001b[39mtry\u001b[39;00m:\n\u001b[1;32m--> 150\u001b[0m   \u001b[39mreturn\u001b[39;00m fn(\u001b[39m*\u001b[39margs, \u001b[39m*\u001b[39m\u001b[39m*\u001b[39mkwargs)\n\u001b[0;32m    151\u001b[0m \u001b[39mexcept\u001b[39;00m \u001b[39mException\u001b[39;00m \u001b[39mas\u001b[39;00m e:\n\u001b[0;32m    152\u001b[0m   filtered_tb \u001b[39m=\u001b[39m _process_traceback_frames(e\u001b[39m.\u001b[39m__traceback__)\n",
      "File \u001b[1;32mc:\\Users\\Eftixia\\AppData\\Local\\Programs\\Python\\Python310\\lib\\site-packages\\tensorflow\\python\\eager\\def_function.py:915\u001b[0m, in \u001b[0;36mFunction.__call__\u001b[1;34m(self, *args, **kwds)\u001b[0m\n\u001b[0;32m    912\u001b[0m compiler \u001b[39m=\u001b[39m \u001b[39m\"\u001b[39m\u001b[39mxla\u001b[39m\u001b[39m\"\u001b[39m \u001b[39mif\u001b[39;00m \u001b[39mself\u001b[39m\u001b[39m.\u001b[39m_jit_compile \u001b[39melse\u001b[39;00m \u001b[39m\"\u001b[39m\u001b[39mnonXla\u001b[39m\u001b[39m\"\u001b[39m\n\u001b[0;32m    914\u001b[0m \u001b[39mwith\u001b[39;00m OptionalXlaContext(\u001b[39mself\u001b[39m\u001b[39m.\u001b[39m_jit_compile):\n\u001b[1;32m--> 915\u001b[0m   result \u001b[39m=\u001b[39m \u001b[39mself\u001b[39m\u001b[39m.\u001b[39m_call(\u001b[39m*\u001b[39margs, \u001b[39m*\u001b[39m\u001b[39m*\u001b[39mkwds)\n\u001b[0;32m    917\u001b[0m new_tracing_count \u001b[39m=\u001b[39m \u001b[39mself\u001b[39m\u001b[39m.\u001b[39mexperimental_get_tracing_count()\n\u001b[0;32m    918\u001b[0m without_tracing \u001b[39m=\u001b[39m (tracing_count \u001b[39m==\u001b[39m new_tracing_count)\n",
      "File \u001b[1;32mc:\\Users\\Eftixia\\AppData\\Local\\Programs\\Python\\Python310\\lib\\site-packages\\tensorflow\\python\\eager\\def_function.py:954\u001b[0m, in \u001b[0;36mFunction._call\u001b[1;34m(self, *args, **kwds)\u001b[0m\n\u001b[0;32m    951\u001b[0m \u001b[39mself\u001b[39m\u001b[39m.\u001b[39m_lock\u001b[39m.\u001b[39mrelease()\n\u001b[0;32m    952\u001b[0m \u001b[39m# In this case we have not created variables on the first call. So we can\u001b[39;00m\n\u001b[0;32m    953\u001b[0m \u001b[39m# run the first trace but we should fail if variables are created.\u001b[39;00m\n\u001b[1;32m--> 954\u001b[0m results \u001b[39m=\u001b[39m \u001b[39mself\u001b[39m\u001b[39m.\u001b[39m_stateful_fn(\u001b[39m*\u001b[39margs, \u001b[39m*\u001b[39m\u001b[39m*\u001b[39mkwds)\n\u001b[0;32m    955\u001b[0m \u001b[39mif\u001b[39;00m \u001b[39mself\u001b[39m\u001b[39m.\u001b[39m_created_variables \u001b[39mand\u001b[39;00m \u001b[39mnot\u001b[39;00m ALLOW_DYNAMIC_VARIABLE_CREATION:\n\u001b[0;32m    956\u001b[0m   \u001b[39mraise\u001b[39;00m \u001b[39mValueError\u001b[39;00m(\u001b[39m\"\u001b[39m\u001b[39mCreating variables on a non-first call to a function\u001b[39m\u001b[39m\"\u001b[39m\n\u001b[0;32m    957\u001b[0m                    \u001b[39m\"\u001b[39m\u001b[39m decorated with tf.function.\u001b[39m\u001b[39m\"\u001b[39m)\n",
      "File \u001b[1;32mc:\\Users\\Eftixia\\AppData\\Local\\Programs\\Python\\Python310\\lib\\site-packages\\tensorflow\\python\\eager\\function.py:2453\u001b[0m, in \u001b[0;36mFunction.__call__\u001b[1;34m(self, *args, **kwargs)\u001b[0m\n\u001b[0;32m   2450\u001b[0m \u001b[39mwith\u001b[39;00m \u001b[39mself\u001b[39m\u001b[39m.\u001b[39m_lock:\n\u001b[0;32m   2451\u001b[0m   (graph_function,\n\u001b[0;32m   2452\u001b[0m    filtered_flat_args) \u001b[39m=\u001b[39m \u001b[39mself\u001b[39m\u001b[39m.\u001b[39m_maybe_define_function(args, kwargs)\n\u001b[1;32m-> 2453\u001b[0m \u001b[39mreturn\u001b[39;00m graph_function\u001b[39m.\u001b[39;49m_call_flat(\n\u001b[0;32m   2454\u001b[0m     filtered_flat_args, captured_inputs\u001b[39m=\u001b[39;49mgraph_function\u001b[39m.\u001b[39;49mcaptured_inputs)\n",
      "File \u001b[1;32mc:\\Users\\Eftixia\\AppData\\Local\\Programs\\Python\\Python310\\lib\\site-packages\\tensorflow\\python\\eager\\function.py:1860\u001b[0m, in \u001b[0;36mConcreteFunction._call_flat\u001b[1;34m(self, args, captured_inputs, cancellation_manager)\u001b[0m\n\u001b[0;32m   1856\u001b[0m possible_gradient_type \u001b[39m=\u001b[39m gradients_util\u001b[39m.\u001b[39mPossibleTapeGradientTypes(args)\n\u001b[0;32m   1857\u001b[0m \u001b[39mif\u001b[39;00m (possible_gradient_type \u001b[39m==\u001b[39m gradients_util\u001b[39m.\u001b[39mPOSSIBLE_GRADIENT_TYPES_NONE\n\u001b[0;32m   1858\u001b[0m     \u001b[39mand\u001b[39;00m executing_eagerly):\n\u001b[0;32m   1859\u001b[0m   \u001b[39m# No tape is watching; skip to running the function.\u001b[39;00m\n\u001b[1;32m-> 1860\u001b[0m   \u001b[39mreturn\u001b[39;00m \u001b[39mself\u001b[39m\u001b[39m.\u001b[39m_build_call_outputs(\u001b[39mself\u001b[39;49m\u001b[39m.\u001b[39;49m_inference_function\u001b[39m.\u001b[39;49mcall(\n\u001b[0;32m   1861\u001b[0m       ctx, args, cancellation_manager\u001b[39m=\u001b[39;49mcancellation_manager))\n\u001b[0;32m   1862\u001b[0m forward_backward \u001b[39m=\u001b[39m \u001b[39mself\u001b[39m\u001b[39m.\u001b[39m_select_forward_and_backward_functions(\n\u001b[0;32m   1863\u001b[0m     args,\n\u001b[0;32m   1864\u001b[0m     possible_gradient_type,\n\u001b[0;32m   1865\u001b[0m     executing_eagerly)\n\u001b[0;32m   1866\u001b[0m forward_function, args_with_tangents \u001b[39m=\u001b[39m forward_backward\u001b[39m.\u001b[39mforward()\n",
      "File \u001b[1;32mc:\\Users\\Eftixia\\AppData\\Local\\Programs\\Python\\Python310\\lib\\site-packages\\tensorflow\\python\\eager\\function.py:497\u001b[0m, in \u001b[0;36m_EagerDefinedFunction.call\u001b[1;34m(self, ctx, args, cancellation_manager)\u001b[0m\n\u001b[0;32m    495\u001b[0m \u001b[39mwith\u001b[39;00m _InterpolateFunctionError(\u001b[39mself\u001b[39m):\n\u001b[0;32m    496\u001b[0m   \u001b[39mif\u001b[39;00m cancellation_manager \u001b[39mis\u001b[39;00m \u001b[39mNone\u001b[39;00m:\n\u001b[1;32m--> 497\u001b[0m     outputs \u001b[39m=\u001b[39m execute\u001b[39m.\u001b[39;49mexecute(\n\u001b[0;32m    498\u001b[0m         \u001b[39mstr\u001b[39;49m(\u001b[39mself\u001b[39;49m\u001b[39m.\u001b[39;49msignature\u001b[39m.\u001b[39;49mname),\n\u001b[0;32m    499\u001b[0m         num_outputs\u001b[39m=\u001b[39;49m\u001b[39mself\u001b[39;49m\u001b[39m.\u001b[39;49m_num_outputs,\n\u001b[0;32m    500\u001b[0m         inputs\u001b[39m=\u001b[39;49margs,\n\u001b[0;32m    501\u001b[0m         attrs\u001b[39m=\u001b[39;49mattrs,\n\u001b[0;32m    502\u001b[0m         ctx\u001b[39m=\u001b[39;49mctx)\n\u001b[0;32m    503\u001b[0m   \u001b[39melse\u001b[39;00m:\n\u001b[0;32m    504\u001b[0m     outputs \u001b[39m=\u001b[39m execute\u001b[39m.\u001b[39mexecute_with_cancellation(\n\u001b[0;32m    505\u001b[0m         \u001b[39mstr\u001b[39m(\u001b[39mself\u001b[39m\u001b[39m.\u001b[39msignature\u001b[39m.\u001b[39mname),\n\u001b[0;32m    506\u001b[0m         num_outputs\u001b[39m=\u001b[39m\u001b[39mself\u001b[39m\u001b[39m.\u001b[39m_num_outputs,\n\u001b[1;32m   (...)\u001b[0m\n\u001b[0;32m    509\u001b[0m         ctx\u001b[39m=\u001b[39mctx,\n\u001b[0;32m    510\u001b[0m         cancellation_manager\u001b[39m=\u001b[39mcancellation_manager)\n",
      "File \u001b[1;32mc:\\Users\\Eftixia\\AppData\\Local\\Programs\\Python\\Python310\\lib\\site-packages\\tensorflow\\python\\eager\\execute.py:54\u001b[0m, in \u001b[0;36mquick_execute\u001b[1;34m(op_name, num_outputs, inputs, attrs, ctx, name)\u001b[0m\n\u001b[0;32m     52\u001b[0m \u001b[39mtry\u001b[39;00m:\n\u001b[0;32m     53\u001b[0m   ctx\u001b[39m.\u001b[39mensure_initialized()\n\u001b[1;32m---> 54\u001b[0m   tensors \u001b[39m=\u001b[39m pywrap_tfe\u001b[39m.\u001b[39;49mTFE_Py_Execute(ctx\u001b[39m.\u001b[39;49m_handle, device_name, op_name,\n\u001b[0;32m     55\u001b[0m                                       inputs, attrs, num_outputs)\n\u001b[0;32m     56\u001b[0m \u001b[39mexcept\u001b[39;00m core\u001b[39m.\u001b[39m_NotOkStatusException \u001b[39mas\u001b[39;00m e:\n\u001b[0;32m     57\u001b[0m   \u001b[39mif\u001b[39;00m name \u001b[39mis\u001b[39;00m \u001b[39mnot\u001b[39;00m \u001b[39mNone\u001b[39;00m:\n",
      "\u001b[1;31mKeyboardInterrupt\u001b[0m: "
     ]
    },
    {
     "data": {
      "image/png": "[encoded data removed]",
      "text/plain": [
       "<Figure size 720x360 with 1 Axes>"
      ]
     },
     "metadata": {
      "needs_background": "light"
     },
     "output_type": "display_data"
    }
   ],
   "source": [
    "i=0\n",
    "labels=[]\n",
    "\n",
    "# Figure Size\n",
    "plt.subplots(figsize =(10, 5))\n",
    "\n",
    "\n",
    "# Add x, y gridlines\n",
    "plt.grid(b = True, color ='dimgrey',\n",
    "        linestyle = '--', linewidth = 1,\n",
    "        alpha = 0.2)\n",
    "\n",
    "# Plot several different AUC\n",
    "for clf in classifiers:\n",
    "\n",
    "  name=name_of_model[i]\n",
    "   \n",
    "  i+=1    \n",
    " \n",
    "  y_true = np.argmax(y_test, axis = 1)[:]\n",
    "\n",
    "  pred = clf.predict(X_test,verbose = 0) # Predict prob and get Class Indices\n",
    "  y_pred= np.argmax(pred, axis = 1)[:]\n",
    "\n",
    "   # calculate roc curves\n",
    "  ns_fpr, ns_tpr, _ = roc_curve(y_true, y_pred)\n",
    "\n",
    "   # plot the roc curve for the model\n",
    "  plt.plot(ns_fpr, ns_tpr, marker='.', linestyle='--', label=name)\n",
    "  labels.append(name)\n",
    "\n",
    "# axis labels\n",
    "plt.xlabel('False Positive Rate')\n",
    "plt.ylabel('True Positive Rate')\n",
    "plt.legend(labels, \n",
    "          columnspacing=1.0, \n",
    "          labelspacing=0.0,\n",
    "          handletextpad=0.0, \n",
    "          handlelength=1.5,\n",
    "          fancybox=True,\n",
    "          shadow=True)\n",
    "   \n",
    "# show the plot\n",
    "plt.show()"
   ]
  },
  {
   "cell_type": "code",
   "execution_count": null,
   "metadata": {},
   "outputs": [],
   "source": []
  },
  {
   "cell_type": "code",
   "execution_count": null,
   "metadata": {},
   "outputs": [],
   "source": [
    "from keras.models import Sequential\n",
    "\n",
    "from keras.layers import Conv2D, MaxPooling2D, Flatten, Dense, Dropout\n",
    "\n",
    "\n",
    "\n",
    "model = Sequential()\n",
    "\n",
    "model.add(Conv2D(filters = 16, kernel_size = 3,  padding='same', activation = 'relu', input_shape = (224, 224, 3))) #224, 224\n",
    "\n",
    "model.add(MaxPooling2D(pool_size = 2))\n",
    "\n",
    "model.add(Conv2D(filters = 32, kernel_size = 3,  padding='same', activation = 'relu'))\n",
    "\n",
    "model.add(MaxPooling2D(pool_size = 2))\n",
    "\n",
    "model.add(Conv2D(filters = 64, kernel_size = 3,  padding='same', activation = 'relu'))\n",
    "\n",
    "model.add(MaxPooling2D(pool_size = 2))\n",
    "\n",
    "model.add(Flatten())\n",
    "\n",
    "model.add(Dense(units = 500, activation = 'relu'))\n",
    "\n",
    "model.add(Dropout(0.2)) #model.add(Dropout(0.3))\n",
    "\n",
    "model.add(Dense(units = 50, activation = 'relu'))\n",
    "\n",
    "model.add(Dense(units = 2, activation = 'sigmoid'))\n",
    "\n",
    "model.summary()"
   ]
  },
  {
   "cell_type": "code",
   "execution_count": null,
   "metadata": {},
   "outputs": [],
   "source": [
    "batch_size = 16 #The number of training examples utilized in one iteration.\n",
    "\n",
    "epochs = 50\n",
    "\n",
    "# Compiling the model\n",
    "\n",
    "model.compile(\n",
    "\n",
    "    optimizer=\"adam\",\n",
    "    loss=\"categorical_crossentropy\",\n",
    "    #metrics=\"accuracy\"\n",
    "    metrics=['accuracy', 'Recall', 'Precision', 'AUC']\n",
    "\n",
    ")\n",
    "\n",
    "#model.optimizer.lr=0.001\n",
    "\n",
    "from tensorflow.keras.callbacks import EarlyStopping\n",
    "early_stopping = EarlyStopping(monitor='val_loss', patience=8, restore_best_weights=True)\n",
    "\n",
    "\n",
    "from tensorflow.keras.callbacks import ReduceLROnPlateau\n",
    "lrr = ReduceLROnPlateau(monitor='val_loss',patience=8,verbose=1,factor=0.5, min_lr=0.00001)\n",
    "\n",
    "\n",
    "data_size = len(X_train) \n",
    "\n",
    "steps_per_epoch = int(data_size / batch_size)"
   ]
  },
  {
   "cell_type": "code",
   "execution_count": null,
   "metadata": {},
   "outputs": [],
   "source": [
    "model_history = model.fit(\n",
    "\n",
    "    x=X_train,\n",
    "\n",
    "    y=y_train,\n",
    "\n",
    "    steps_per_epoch=steps_per_epoch,\n",
    "\n",
    "    epochs=epochs,\n",
    "\n",
    "    shuffle=True,\n",
    "\n",
    "    validation_data=(X_val,y_val),\n",
    "\n",
    "    callbacks=[early_stopping, lrr]\n",
    "\n",
    ")"
   ]
  }
 ],
 "metadata": {
  "kernelspec": {
   "display_name": "Python 3.10.6 64-bit",
   "language": "python",
   "name": "python3"
  },
  "language_info": {
   "codemirror_mode": {
    "name": "ipython",
    "version": 3
   },
   "file_extension": ".py",
   "mimetype": "text/x-python",
   "name": "python",
   "nbconvert_exporter": "python",
   "pygments_lexer": "ipython3",
   "version": "3.10.6"
  },
  "orig_nbformat": 4,
  "vscode": {
   "interpreter": {
    "hash": "2e58c5a8403c8da273cdea0cfc93dc63f2bf22fe40fbfcaebf6cf40fb9d89270"
   }
  }
 },
 "nbformat": 4,
 "nbformat_minor": 2
}
