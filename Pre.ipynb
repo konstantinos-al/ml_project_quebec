{
  "nbformat": 4,
  "nbformat_minor": 0,
  "metadata": {
    "colab": {
      "name": "Pre.ipynb",
      "provenance": [],
      "collapsed_sections": [],
      "mount_file_id": "1OoCfRJLR8_tMeHWL5xY7ezWvCr4mxkl3",
      "authorship_tag": "ABX9TyMxd2t3QsH1USgiVJvI+gP1",
      "include_colab_link": true
    },
    "kernelspec": {
      "name": "python3",
      "display_name": "Python 3"
    },
    "language_info": {
      "name": "python"
    }
  },
  "cells": [
    {
      "cell_type": "markdown",
      "metadata": {
        "id": "view-in-github",
        "colab_type": "text"
      },
      "source": [
        "<a href=\"https://colab.research.google.com/github/konstantinos-al/ml_project_quebec/blob/main/Pre.ipynb\" target=\"_parent\"><img src=\"https://colab.research.google.com/assets/colab-badge.svg\" alt=\"Open In Colab\"/></a>"
      ]
    },
    {
      "cell_type": "code",
      "source": [
        "from google.colab import drive\n",
        "\n",
        "drive.mount('/content/gdrive')"
      ],
      "metadata": {
        "colab": {
          "base_uri": "https://localhost:8080/"
        },
        "id": "tXHxwoXhpQQV",
        "outputId": "918fc4b2-8cb1-453e-8055-d5bc079ae6d9"
      },
      "execution_count": null,
      "outputs": [
        {
          "output_type": "stream",
          "name": "stdout",
          "text": [
            "Mounted at /content/gdrive\n"
          ]
        }
      ]
    },
    {
      "cell_type": "code",
      "source": [
        "pip install xmltodict"
      ],
      "metadata": {
        "colab": {
          "base_uri": "https://localhost:8080/"
        },
        "id": "hh7uBhT_nF-h",
        "outputId": "cbb8229f-2285-4db3-e01d-2f10b2ca9826"
      },
      "execution_count": null,
      "outputs": [
        {
          "output_type": "stream",
          "name": "stdout",
          "text": [
            "Looking in indexes: https://pypi.org/simple, https://us-python.pkg.dev/colab-wheels/public/simple/\n",
            "Requirement already satisfied: xmltodict in /usr/local/lib/python3.7/dist-packages (0.13.0)\n"
          ]
        }
      ]
    },
    {
      "cell_type": "code",
      "execution_count": null,
      "metadata": {
        "id": "m3Qj5bJMm0bs"
      },
      "outputs": [],
      "source": [
        "from sklearn.preprocessing import LabelBinarizer\n",
        "from sklearn.model_selection import train_test_split\n",
        "from sklearn.metrics import classification_report\n",
        "from imutils import paths\n",
        "import matplotlib.pyplot as plt\n",
        "import numpy as np\n",
        "import argparse\n",
        "import os\n",
        "import glob\n",
        "import xmltodict\n",
        "from tensorflow.keras.utils import to_categorical\n",
        "import cv2\n",
        "import matplotlib.pyplot as plt\n",
        "from sklearn.model_selection import train_test_split\n",
        "from tensorflow.keras.preprocessing.image import ImageDataGenerator\n",
        "from tensorflow.keras.applications import MobileNetV2\n",
        "from tensorflow.keras.layers import AveragePooling2D\n",
        "from tensorflow.keras.layers import Dropout\n",
        "from tensorflow.keras.layers import Flatten\n",
        "from tensorflow.keras.layers import Dense\n",
        "from tensorflow.keras.layers import Input\n",
        "from tensorflow.keras.models import Model\n",
        "from tensorflow.keras.optimizers import Adam\n",
        "from tensorflow.keras.applications.mobilenet_v2 import preprocess_input\n",
        "from tensorflow.keras.preprocessing.image import img_to_array\n",
        "from tensorflow.keras.preprocessing.image import load_img\n",
        "\n",
        "#$gbhmgvbhjg\n",
        "\n",
        "xmls_dir = os.path.join(\"/content/drive/MyDrive/Untitled_folder/anot\")\n",
        "\n",
        "imgs_dir = r\"/content/drive/MyDrive/Untitled_folder/ima\"\n",
        "\n",
        "heads = os.makedirs('heads', exist_ok=True)"
      ]
    },
    {
      "cell_type": "code",
      "source": [
        "def visualize(**images):\n",
        "    \"\"\"PLot images in one row.\"\"\"\n",
        "    n = len(images)\n",
        "    plt.figure(figsize=(16, 5))\n",
        "    for i, (name, image) in enumerate(images.items()):\n",
        "        plt.subplot(1, n, i + 1)\n",
        "        plt.xticks([])\n",
        "        plt.yticks([])\n",
        "        plt.title(' '.join(name.split('_')).title())\n",
        "        plt.imshow(image)\n",
        "    plt.show()"
      ],
      "metadata": {
        "id": "18l3TZxunHkO"
      },
      "execution_count": null,
      "outputs": []
    },
    {
      "cell_type": "code",
      "source": [
        "imgs_labels = []\n",
        "\n",
        "for dir_path in glob.glob(xmls_dir):\n",
        "    for xml_path in glob.glob(os.path.join(dir_path, '*.xml')):\n",
        "        with open (xml_path, 'rb') as my_xml:\n",
        "            xmld = xmltodict.parse(my_xml)\n",
        "            tags = xmld['annotation']\n",
        "\n",
        "            image = cv2.cvtColor(cv2.imread(os.path.join(imgs_dir, tags['filename']), 1), cv2.COLOR_BGR2RGB)\n",
        "            mask = np.zeros(image.shape, dtype = 'int32')\n",
        "\n",
        "            if 'object' in tags:\n",
        "\n",
        "                if isinstance(tags['object'], list):\n",
        "                    for i in tags['object']:\n",
        "                        xmin = int(i['bndbox']['xmin'])\n",
        "                        ymin = int(i['bndbox']['ymin'])\n",
        "                        xmax = int(i['bndbox']['xmax'])\n",
        "                        ymax = int(i['bndbox']['ymax'])\n",
        "                        if i['name'] == 'With Helmet':\n",
        "                            mask = cv2.rectangle(mask, (xmin,ymin), (xmax,ymax), (0,255,0), -1)\n",
        "                            result = cv2.addWeighted(image, 1, mask, 0.9, 0.7, dtype = cv2.CV_8UC3)\n",
        "                            imgs_labels.append([0, image[ymin:ymax, xmin:xmax]])\n",
        "                            #visualize(image=image, result = result, head = image[ymin:ymax, xmin:xmax])\n",
        "                           \n",
        "                        else:\n",
        "                            cv2.rectangle(mask, (xmin,ymin), (xmax,ymax), (255,0,0), -1)\n",
        "                            result = cv2.addWeighted(image, 1, mask, 0.9, 0.7, dtype = cv2.CV_8UC3)\n",
        "                            imgs_labels.append([1, image[ymin:ymax, xmin:xmax]])\n",
        "                          \n",
        "                            #plt.imsave(os.path.join('results', tags['filename']), result)\n",
        "                    #visualize(image=image, result = result, head = image[ymin:ymax, xmin:xmax])\n",
        "                if isinstance(tags['object'], dict):\n",
        "                    xmin = int(tags['object']['bndbox']['xmin'])\n",
        "                    ymin = int(tags['object']['bndbox']['ymin'])\n",
        "                    xmax = int(tags['object']['bndbox']['xmax'])\n",
        "                    ymax = int(tags['object']['bndbox']['ymax'])\n",
        "                    if tags['object']['name'] == 'With Helmet':\n",
        "                        cv2.rectangle(mask, (xmin,ymin), (xmax,ymax), (0,255,0), -1)\n",
        "                        result = cv2.addWeighted(image, 1, mask, 0.9, 0.7, dtype = cv2.CV_8UC3)\n",
        "                        imgs_labels.append([0, image[ymin:ymax, xmin:xmax]])\n",
        "                        #visualize(image=image, result = result, head = image[ymin:ymax, xmin:xmax])\n",
        "                    else:\n",
        "                        cv2.rectangle(mask, (xmin,ymin), (xmax,ymax), (255,0,0), -1)\n",
        "                        result = cv2.addWeighted(image, 1, mask, 0.9, 0.7, dtype = cv2.CV_8UC3)\n",
        "                        imgs_labels.append([1, image[ymin:ymax, xmin:xmax]])\n",
        "                    # plt.imsave(os.path.join('results', tags['filename']), result)\n",
        "                    #visualize(image=image, result = result, head = image[ymin:ymax, xmin:xmax])\n",
        "            else:\n",
        "                pass\n",
        "\n"
      ],
      "metadata": {
        "id": "w5uU9A8In1gp"
      },
      "execution_count": null,
      "outputs": []
    },
    {
      "cell_type": "code",
      "source": [
        "def checking_for_zero_shapes(list):\n",
        "    for i, label_image in enumerate(list):\n",
        "        image = np.array(label_image[1]).astype(np.int32)\n",
        "        if image.shape[0]==0 or image.shape[1]==0:\n",
        "            list.pop(i)\n",
        "\n",
        "    return list"
      ],
      "metadata": {
        "id": "K-i8h8dNsDUx"
      },
      "execution_count": null,
      "outputs": []
    },
    {
      "cell_type": "code",
      "source": [
        "imgs_labels = checking_for_zero_shapes(imgs_labels)\n",
        "#imgs_labels.pop(1342) #H prohgoumenh sunarthsh de mporei na bgalei authn thn eikona, de kserw giati\n",
        "imgs_labels = np.array(imgs_labels, dtype='object').reshape(-1,2,1)\n",
        "\n",
        "\n",
        "#imgs_labels = np.array(imgs_labels).reshape(-1,2,1)\n",
        "labels = imgs_labels[:,0].reshape(-1,1).astype(np.int32)\n",
        "data = imgs_labels[:,1].flatten()\n",
        "imgs = data/255\n",
        "imgs = np.array(imgs)\n",
        "#print(imgs)"
      ],
      "metadata": {
        "id": "85Jf1b_lsQOr"
      },
      "execution_count": null,
      "outputs": []
    },
    {
      "cell_type": "code",
      "source": [
        "# labels = imgs_labels[:,0].reshape(-1,1).astype(np.int32)\n",
        "# images = imgs_labels[:,1].flatten() # lista me to rgb kefalia \n",
        "\n",
        "# lb = LabelBinarizer()\n",
        "# labels = lb.fit_transform(labels)\n",
        "# labels = to_categorical(labels)\n"
      ],
      "metadata": {
        "id": "DKuXkvjwtHJN"
      },
      "execution_count": null,
      "outputs": []
    },
    {
      "cell_type": "code",
      "source": [
        "visualize(MALAKAS_AL = imgs[0])"
      ],
      "metadata": {
        "colab": {
          "base_uri": "https://localhost:8080/",
          "height": 322
        },
        "id": "oGk5hC8Pv0tA",
        "outputId": "fe586447-82dd-4e6c-9bfa-1b24549ddecd"
      },
      "execution_count": null,
      "outputs": [
        {
          "output_type": "display_data",
          "data": {
            "text/plain": [
              "<Figure size 1152x360 with 1 Axes>"
            ],
            "image/png": "[encoded data removed]"
          },
          "metadata": {}
        }
      ]
    },
    {
      "cell_type": "code",
      "source": [
        "with open('imgs_labels.csv', 'w') as file:\n",
        "    for i, image_label in enumerate(zip(images, labels)):\n",
        "        plt.imsave(os.path.join('heads', str(i)+'.png'), image_label[0])\n",
        "        file.write('Label: {0} | Image: {1}.png\\n'.format(image_label[1],i))\n",
        "       \n",
        "    file.close()"
      ],
      "metadata": {
        "id": "cRvkMoiSoEpn"
      },
      "execution_count": null,
      "outputs": []
    },
    {
      "cell_type": "code",
      "source": [
        "shapes = []\n",
        "for image in imgs:\n",
        "    shapes.append([image.shape[0], image.shape[1]])\n",
        "\n",
        "shapes = np.array(shapes)\n",
        "\n",
        "xmin, ymin = shapes.min(axis=0)\n",
        "xmax, ymax = shapes.max(axis=0)"
      ],
      "metadata": {
        "id": "fgjF7ZEBryW9"
      },
      "execution_count": null,
      "outputs": []
    },
    {
      "cell_type": "code",
      "source": [
        "images = np.array(imgs)\n",
        "print(images.shape)\n",
        "\n",
        "\n",
        "trainX, testX, trainY, testY = train_test_split(images, labels, test_size=0.20, stratify=labels, random_state=42)\n",
        "print(trainX.shape, testX.shape, trainY.shape, testY.shape)\n",
        "print(trainX.dtype, testX.dtype, trainY.dtype, testY.dtype)"
      ],
      "metadata": {
        "colab": {
          "base_uri": "https://localhost:8080/"
        },
        "id": "0fNDDZPkvdpk",
        "outputId": "c5d8e5f2-848c-4ec9-9e87-daa09514b2f5"
      },
      "execution_count": null,
      "outputs": [
        {
          "output_type": "stream",
          "name": "stdout",
          "text": [
            "(16,)\n",
            "(12,) (4,) (12, 1) (4, 1)\n",
            "object object int32 int32\n"
          ]
        }
      ]
    },
    {
      "cell_type": "code",
      "source": [
        "for i in trainX:\n",
        "    print(a.shape)"
      ],
      "metadata": {
        "colab": {
          "base_uri": "https://localhost:8080/"
        },
        "id": "xnleURKO1OVm",
        "outputId": "3294ffae-3734-4b11-d6c7-a12ee3622dd6"
      },
      "execution_count": null,
      "outputs": [
        {
          "output_type": "stream",
          "name": "stdout",
          "text": [
            "(73, 67, 3)\n",
            "(37, 25, 3)\n",
            "(55, 53, 3)\n",
            "(20, 17, 3)\n",
            "(21, 12, 3)\n",
            "(55, 45, 3)\n",
            "(88, 71, 3)\n",
            "(89, 81, 3)\n",
            "(31, 22, 3)\n",
            "(41, 30, 3)\n",
            "(50, 58, 3)\n",
            "(69, 55, 3)\n"
          ]
        }
      ]
    },
    {
      "cell_type": "code",
      "source": [
        "from PIL import Image\n",
        "import os, sys\n",
        "\n",
        "ls = []\n",
        "\n",
        "image = r\"/content/drive/MyDrive/Image\"\n",
        "for imagename in os.listdir(image):\n",
        "    \n",
        "    a = Image.open(image + '/' + imagename)\n",
        "    a = a.resize((200,200),Image.ANTIALIAS)\n",
        "    a.save(fp = r\"/content/drive/MyDrive/resize/\" + imagename)\n"
      ],
      "metadata": {
        "id": "zMse77NqMgTb"
      },
      "execution_count": null,
      "outputs": []
    },
    {
      "cell_type": "code",
      "source": [
        "pip install keras-utils"
      ],
      "metadata": {
        "colab": {
          "base_uri": "https://localhost:8080/"
        },
        "id": "UAATR9xaZZ8k",
        "outputId": "7aff61b5-ce44-43b2-9907-b042e165d99b"
      },
      "execution_count": null,
      "outputs": [
        {
          "output_type": "stream",
          "name": "stdout",
          "text": [
            "Looking in indexes: https://pypi.org/simple, https://us-python.pkg.dev/colab-wheels/public/simple/\n",
            "Requirement already satisfied: keras-utils in /usr/local/lib/python3.7/dist-packages (1.0.13)\n",
            "Requirement already satisfied: Keras>=2.1.5 in /usr/local/lib/python3.7/dist-packages (from keras-utils) (2.8.0)\n"
          ]
        }
      ]
    },
    {
      "cell_type": "code",
      "source": [
        "\n",
        "from numpy import expand_dims\n",
        "from tensorflow.keras.utils import load_img\n",
        "from tensorflow.keras.utils import img_to_array\n",
        "from tensorflow.keras.preprocessing.image import ImageDataGenerator # load the image\n",
        "import xml.etree.ElementTree as ET\n",
        "import cv2\n",
        "import matplotlib.pyplot as plt\n",
        "import numpy as np\n",
        "from matplotlib.colors import LogNorm\n",
        "import glob\n",
        "from skimage import io\n",
        "import os\n",
        "from scipy.signal import convolve2d\n",
        "from PIL import Image  \n",
        "import PIL \n",
        "from matplotlib import pyplot as plt\n",
        "import matplotlib.pyplot as plt\n",
        "import matplotlib.image as mpimg\n",
        "import urllib\n",
        "import xml.etree.ElementTree as ET # copy of xml\n",
        "import cv2\n",
        "import os"
      ],
      "metadata": {
        "id": "VibxEmqtRvqV"
      },
      "execution_count": null,
      "outputs": []
    },
    {
      "cell_type": "code",
      "source": [
        "def convert(img):\n",
        "    # convert to numpy array\n",
        "    data = img_to_array(img)\n",
        "    # expand dimension to one sample\n",
        "    samples = expand_dims(data, 0)\n",
        "    return samples"
      ],
      "metadata": {
        "id": "UzxZPAQidR6c"
      },
      "execution_count": null,
      "outputs": []
    },
    {
      "cell_type": "code",
      "source": [
        "def picture_zoom(image,imagename):\n",
        "   # create image data augmentation generator\n",
        "    datagen_zoom= ImageDataGenerator(zoom_range=[0.8,1.5])\n",
        "\n",
        "    # prepare iterator\n",
        "    it_zoom = datagen_zoom.flow(image, batch_size=1)\n",
        "\n",
        "    # generate batch of images\n",
        "    batch_zoom = it_zoom.next()\n",
        "    \n",
        "    # convert to unsigned integers for viewing\n",
        "    image_zoom = batch_zoom[0].astype('uint64')\n",
        "    \n",
        "    # plot raw pixel \n",
        "    img_zoom=plt.imshow(image_zoom, interpolation ='None', filternorm=True) #spline36, antialiased\n",
        "\n",
        "    #save new picture\n",
        "    img_zoom.figure.savefig(r\"/content/drive/MyDrive/Image//Zoom\"+imagename, bbox_inches='tight',transparent=True, pad_inches=0)\n",
        "    \n",
        "# def file_zoom(file,filename):\n",
        "    \n",
        "#     # create of Zoom xml file\n",
        "#      file.write(\"C://Users//Eftixia//Desktop//dataset//Final Helmet datasets//Helmet Kaggle//annotations//Zoom\"+filename+\".xml\")"
      ],
      "metadata": {
        "id": "7mAs5nNSZXXX"
      },
      "execution_count": null,
      "outputs": []
    },
    {
      "cell_type": "code",
      "source": [
        "def load_images_from_folder(folder_image):\n",
        "    for imagename in os.listdir(folder_image):\n",
        "        \n",
        "         #read the image       \n",
        "        image = cv2.imread(os.path.join(folder_image,imagename))\n",
        "        image_true_color = cv2.cvtColor(image, cv2.COLOR_RGBA2BGRA)\n",
        "        \n",
        "        img= convert(image_true_color)\n",
        "        \n",
        "        #call each seperate function\n",
        "        picture_zoom(img,imagename)\n",
        "        #picture_brightness(img,imagename)\n",
        "        #picture_rotation(img,imagename)\n",
        "           \n",
        "        #Destroyed all window we created earlier.\n",
        "        cv2.destroyAllWindows()\n",
        "        \n",
        "# def load_files_from_folder(folder_file):\n",
        "#     for filename in os.listdir(folder_file):\n",
        "        \n",
        "#         #read the file\n",
        "#         file = ET.parse(os.path.join(folder_file,filename))\n",
        "\n",
        "#          #call each seperate function\n",
        "#         file_zoom(file,filename)    \n",
        "#         file_brightness(file,filename)\n",
        "#         file_rotation(file,filename)"
      ],
      "metadata": {
        "id": "8IS2uwQub-8G"
      },
      "execution_count": null,
      "outputs": []
    },
    {
      "cell_type": "code",
      "source": [
        "folder_image= r\"/content/drive/MyDrive/Image\"\n",
        "#folder_file=r\"C://Users//Eftixia//Desktop//dataset//Final Helmet datasets//Helmet Kaggle//annotations\"\n",
        " \n",
        "load_images_from_folder(folder_image)\n",
        "#load_files_from_folder(folder_file)"
      ],
      "metadata": {
        "colab": {
          "base_uri": "https://localhost:8080/",
          "height": 269
        },
        "id": "lKLPjH7pde-C",
        "outputId": "a31489ee-8ea7-4174-f9c4-f7119e96742f"
      },
      "execution_count": null,
      "outputs": [
        {
          "output_type": "display_data",
          "data": {
            "text/plain": [
              "<Figure size 432x288 with 1 Axes>"
            ],
            "image/png": "[encoded data removed]"
          },
          "metadata": {
            "needs_background": "light"
          }
        }
      ]
    },
    {
      "cell_type": "code",
      "source": [
        ""
      ],
      "metadata": {
        "id": "4wyfAhpudufH"
      },
      "execution_count": null,
      "outputs": []
    }
  ]
}