{
  "nbformat": 4,
  "nbformat_minor": 0,
  "metadata": {
    "colab": {
      "name": "Untitled7.ipynb",
      "provenance": [],
      "collapsed_sections": [],
      "authorship_tag": "ABX9TyMqodxVbVKp/nZaFzMsGtjw",
      "include_colab_link": true
    },
    "kernelspec": {
      "name": "python3",
      "display_name": "Python 3"
    },
    "language_info": {
      "name": "python"
    }
  },
  "cells": [
    {
      "cell_type": "markdown",
      "metadata": {
        "id": "view-in-github",
        "colab_type": "text"
      },
      "source": [
        "<a href=\"https://colab.research.google.com/github/konstantinos-al/ml_project_quebec/blob/main/Bounting_box.ipynb\" target=\"_parent\"><img src=\"https://colab.research.google.com/assets/colab-badge.svg\" alt=\"Open In Colab\"/></a>"
      ]
    },
    {
      "cell_type": "code",
      "source": [
        "import cv2\n",
        "import numpy as np\n",
        "import matplotlib.pyplot as plt\n",
        "import xmltodict\n",
        "\n",
        "x = r\"/content/drive/MyDrive/Untitled_folder/ima/BikesHelmets5.png\"\n",
        "image = cv2.cvtColor(cv2.imread(x, 1), cv2.COLOR_BGR2RGB)\n",
        "heads = []\n",
        "with open ('/content/drive/MyDrive/Untitled_folder/anot/BikesHelmets5.xml', 'rb') as my_xml:\n",
        "    # print(my_xml)\n",
        "    xmld = xmltodict.parse(my_xml)\n",
        "    tags = xmld['annotation']\n",
        "\n",
        "    if 'object' in tags:\n",
        "        object = tags['object']\n",
        "        xmin = int(object['bndbox']['xmin'])\n",
        "        ymin = int(object['bndbox']['ymin'])\n",
        "        xmax = int(object['bndbox']['xmax'])\n",
        "        ymax = int(object['bndbox']['ymax'])\n",
        "        print(type(xmin))\n",
        "\n",
        "        mask = np.zeros(image.shape, dtype = 'int32')\n",
        "        \n",
        "        cv2.rectangle(mask, (xmin,ymin), (xmax,ymax), (0,255,0), -1)\n",
        "        result = cv2.addWeighted(image, 1, mask, 0.9, 0.7, dtype = cv2.CV_8UC3)\n",
        "    \n",
        "        plt.imshow(result)\n",
        "        plt.show()\n",
        "\n",
        "\n",
        "print(heads[0].shape)"
      ],
      "metadata": {
        "id": "QdVIzCGJQCbu"
      },
      "execution_count": null,
      "outputs": []
    }
  ]
}