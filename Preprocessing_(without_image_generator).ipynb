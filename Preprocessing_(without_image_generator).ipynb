{
  "nbformat": 4,
  "nbformat_minor": 0,
  "metadata": {
    "colab": {
      "name": "Preprocessing (without image_generator).ipynb",
      "provenance": [],
      "collapsed_sections": [],
      "mount_file_id": "1OoCfRJLR8_tMeHWL5xY7ezWvCr4mxkl3",
      "authorship_tag": "ABX9TyMG9GeaPpEHfiICh9Gb55SJ",
      "include_colab_link": true
    },
    "kernelspec": {
      "name": "python3",
      "display_name": "Python 3"
    },
    "language_info": {
      "name": "python"
    }
  },
  "cells": [
    {
      "cell_type": "markdown",
      "metadata": {
        "id": "view-in-github",
        "colab_type": "text"
      },
      "source": [
        "<a href=\"https://colab.research.google.com/github/konstantinos-al/ml_project_quebec/blob/main/Preprocessing_(without_image_generator).ipynb\" target=\"_parent\"><img src=\"https://colab.research.google.com/assets/colab-badge.svg\" alt=\"Open In Colab\"/></a>"
      ]
    },
    {
      "cell_type": "code",
      "source": [
        "pip install xmltodict"
      ],
      "metadata": {
        "colab": {
          "base_uri": "https://localhost:8080/"
        },
        "id": "hh7uBhT_nF-h",
        "outputId": "cbb8229f-2285-4db3-e01d-2f10b2ca9826"
      },
      "execution_count": null,
      "outputs": [
        {
          "output_type": "stream",
          "name": "stdout",
          "text": [
            "Looking in indexes: https://pypi.org/simple, https://us-python.pkg.dev/colab-wheels/public/simple/\n",
            "Requirement already satisfied: xmltodict in /usr/local/lib/python3.7/dist-packages (0.13.0)\n"
          ]
        }
      ]
    },
    {
      "cell_type": "code",
      "execution_count": null,
      "metadata": {
        "id": "m3Qj5bJMm0bs"
      },
      "outputs": [],
      "source": [
        "from sklearn.preprocessing import LabelBinarizer\n",
        "from sklearn.model_selection import train_test_split\n",
        "from sklearn.metrics import classification_report\n",
        "from imutils import paths\n",
        "import matplotlib.pyplot as plt\n",
        "import numpy as np\n",
        "import argparse\n",
        "import os\n",
        "import glob\n",
        "import xmltodict\n",
        "from tensorflow.keras.utils import to_categorical\n",
        "import cv2\n",
        "import matplotlib.pyplot as plt\n",
        "from sklearn.model_selection import train_test_split\n",
        "from tensorflow.keras.preprocessing.image import ImageDataGenerator\n",
        "from tensorflow.keras.applications import MobileNetV2\n",
        "from tensorflow.keras.layers import AveragePooling2D\n",
        "from tensorflow.keras.layers import Dropout\n",
        "from tensorflow.keras.layers import Flatten\n",
        "from tensorflow.keras.layers import Dense\n",
        "from tensorflow.keras.layers import Input\n",
        "from tensorflow.keras.models import Model\n",
        "from tensorflow.keras.optimizers import Adam\n",
        "from tensorflow.keras.applications.mobilenet_v2 import preprocess_input\n",
        "from tensorflow.keras.preprocessing.image import img_to_array\n",
        "from tensorflow.keras.preprocessing.image import load_img\n",
        "\n",
        "xmls_dir = os.path.join(\"/content/drive/MyDrive/Untitled_folder/anot\")\n",
        "\n",
        "imgs_dir = r\"/content/drive/MyDrive/Untitled_folder/ima\"\n",
        "\n",
        "heads = os.makedirs('heads', exist_ok=True)"
      ]
    },
    {
      "cell_type": "code",
      "source": [
        "# def visualize(**images):\n",
        "#     \"\"\"PLot images in one row.\"\"\"\n",
        "#     n = len(images)\n",
        "#     plt.figure(figsize=(16, 5))\n",
        "#     for i, (name, image) in enumerate(images.items()):\n",
        "#         plt.subplot(1, n, i + 1)\n",
        "#         plt.xticks([])\n",
        "#         plt.yticks([])\n",
        "#         plt.title(' '.join(name.split('_')).title())\n",
        "#         plt.imshow(image)\n",
        "#     plt.show()"
      ],
      "metadata": {
        "id": "18l3TZxunHkO"
      },
      "execution_count": null,
      "outputs": []
    },
    {
      "cell_type": "code",
      "source": [
        "# Δημιουργούμε τα labels και κρατάμε κεφάλια\n",
        "\n",
        "\n",
        "imgs_labels = []\n",
        "\n",
        "for dir_path in glob.glob(xmls_dir):\n",
        "    for xml_path in glob.glob(os.path.join(dir_path, '*.xml')):\n",
        "        with open (xml_path, 'rb') as my_xml:\n",
        "            xmld = xmltodict.parse(my_xml)\n",
        "            tags = xmld['annotation']\n",
        "\n",
        "            image = cv2.cvtColor(cv2.imread(os.path.join(imgs_dir, tags['filename']), 1), cv2.COLOR_BGR2RGB)\n",
        "            mask = np.zeros(image.shape, dtype = 'int32')\n",
        "\n",
        "            if 'object' in tags:\n",
        "\n",
        "                if isinstance(tags['object'], list):\n",
        "                    for i in tags['object']:\n",
        "                        xmin = int(i['bndbox']['xmin'])\n",
        "                        ymin = int(i['bndbox']['ymin'])\n",
        "                        xmax = int(i['bndbox']['xmax'])\n",
        "                        ymax = int(i['bndbox']['ymax'])\n",
        "                        if i['name'] == 'With Helmet':\n",
        "                            mask = cv2.rectangle(mask, (xmin,ymin), (xmax,ymax), (0,255,0), -1)\n",
        "                            result = cv2.addWeighted(image, 1, mask, 0.9, 0.7, dtype = cv2.CV_8UC3)\n",
        "                            imgs_labels.append([0, image[ymin:ymax, xmin:xmax]])\n",
        "                            #visualize(image=image, result = result, head = image[ymin:ymax, xmin:xmax])\n",
        "                           \n",
        "                        else:\n",
        "                            cv2.rectangle(mask, (xmin,ymin), (xmax,ymax), (255,0,0), -1)\n",
        "                            result = cv2.addWeighted(image, 1, mask, 0.9, 0.7, dtype = cv2.CV_8UC3)\n",
        "                            imgs_labels.append([1, image[ymin:ymax, xmin:xmax]])\n",
        "                          \n",
        "                            #plt.imsave(os.path.join('results', tags['filename']), result)\n",
        "                    #visualize(image=image, result = result, head = image[ymin:ymax, xmin:xmax])\n",
        "                if isinstance(tags['object'], dict):\n",
        "                    xmin = int(tags['object']['bndbox']['xmin'])\n",
        "                    ymin = int(tags['object']['bndbox']['ymin'])\n",
        "                    xmax = int(tags['object']['bndbox']['xmax'])\n",
        "                    ymax = int(tags['object']['bndbox']['ymax'])\n",
        "                    if tags['object']['name'] == 'With Helmet':\n",
        "                        cv2.rectangle(mask, (xmin,ymin), (xmax,ymax), (0,255,0), -1)\n",
        "                        result = cv2.addWeighted(image, 1, mask, 0.9, 0.7, dtype = cv2.CV_8UC3)\n",
        "                        imgs_labels.append([0, image[ymin:ymax, xmin:xmax]])\n",
        "                        #visualize(image=image, result = result, head = image[ymin:ymax, xmin:xmax])\n",
        "                    else:\n",
        "                        cv2.rectangle(mask, (xmin,ymin), (xmax,ymax), (255,0,0), -1)\n",
        "                        result = cv2.addWeighted(image, 1, mask, 0.9, 0.7, dtype = cv2.CV_8UC3)\n",
        "                        imgs_labels.append([1, image[ymin:ymax, xmin:xmax]])\n",
        "                    # plt.imsave(os.path.join('results', tags['filename']), result)\n",
        "                    #visualize(image=image, result = result, head = image[ymin:ymax, xmin:xmax])\n",
        "            else:\n",
        "                pass\n",
        "\n"
      ],
      "metadata": {
        "id": "w5uU9A8In1gp"
      },
      "execution_count": null,
      "outputs": []
    },
    {
      "cell_type": "code",
      "source": [
        "# Υπάρχουν κάποιες φωτογρασφίες με λάθος τα annotations και για να μην σκάει προς το παρόν\n",
        "\n",
        "def checking_for_zero_shapes(list):\n",
        "    for i, label_image in enumerate(list):\n",
        "        image = np.array(label_image[1]).astype(np.int32)\n",
        "        if image.shape[0]==0 or image.shape[1]==0:\n",
        "            list.pop(i)\n",
        "\n",
        "    return list"
      ],
      "metadata": {
        "id": "K-i8h8dNsDUx"
      },
      "execution_count": null,
      "outputs": []
    },
    {
      "cell_type": "code",
      "source": [
        "# Κάνουμε visualize μία φωτό + reshape, flatten και 0-1\n",
        "\n",
        "imgs_labels = checking_for_zero_shapes(imgs_labels)\n",
        "#imgs_labels.pop(1342) #H prohgoumenh sunarthsh de mporei na bgalei authn thn eikona, de kserw giati\n",
        "imgs_labels = np.array(imgs_labels, dtype='object').reshape(-1,2,1)\n",
        "#imgs_labels = np.array(imgs_labels).reshape(-1,2,1)\n",
        "labels = imgs_labels[:,0].reshape(-1,1).astype(np.int32)\n",
        "data = imgs_labels[:,1].flatten()\n",
        "imgs = data/255\n",
        "imgs = np.array(imgs)\n",
        "#print(imgs)\n",
        "\n",
        "visualize(MALAKAS_AL = imgs[0])"
      ],
      "metadata": {
        "id": "85Jf1b_lsQOr"
      },
      "execution_count": null,
      "outputs": []
    },
    {
      "cell_type": "code",
      "source": [
        "# Εδώ απλά δημιουργούμε ένα csv με τα labels για να τσεκάρουμε μια γρήγορα τι παίζει με τις φωτό που φτιάξαμε (κομμένα κεφάλια)\n",
        "\n",
        "with open('imgs_labels.csv', 'w') as file:\n",
        "    for i, image_label in enumerate(zip(images, labels)):\n",
        "        plt.imsave(os.path.join('heads', str(i)+'.png'), image_label[0])\n",
        "        file.write('Label: {0} | Image: {1}.png\\n'.format(image_label[1],i))\n",
        "       \n",
        "    file.close()"
      ],
      "metadata": {
        "id": "cRvkMoiSoEpn"
      },
      "execution_count": null,
      "outputs": []
    }
  ]
}