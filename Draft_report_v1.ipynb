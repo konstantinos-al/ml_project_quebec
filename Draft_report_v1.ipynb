{
 "cells": [
  {
   "cell_type": "markdown",
   "metadata": {},
   "source": [
    "#### Libraries"
   ]
  },
  {
   "cell_type": "code",
   "execution_count": 2,
   "metadata": {},
   "outputs": [],
   "source": [
    "from sklearn.model_selection import train_test_split\n",
    "from sklearn.metrics import classification_report\n",
    "from imutils import paths\n",
    "from matplotlib import pyplot as plt\n",
    "from matplotlib.colors import LogNorm\n",
    "import matplotlib.image as mpimg\n",
    "import numpy as np\n",
    "from numpy import expand_dims\n",
    "import argparse\n",
    "import os\n",
    "import glob\n",
    "import xmltodict\n",
    "import xml.etree.ElementTree as ET\n",
    "import xml.etree.ElementTree as ET # copy of xml\n",
    "from xml.etree.ElementTree import parse\n",
    "import cv2\n",
    "from skimage import io\n",
    "from scipy.signal import convolve2d\n",
    "from PIL import Image  \n",
    "import PIL \n",
    "import urllib\n",
    "from urllib.request import urlopen\n",
    "from typing import Tuple, List, Dict\n",
    "from bs4 import BeautifulSoup\n",
    "import requests\n",
    "from io import BytesIO\n",
    "from keras.applications import MobileNetV2\n",
    "from keras import layers\n",
    "from keras.layers import AveragePooling2D\n",
    "from keras.layers import Dropout\n",
    "from keras.layers import Flatten\n",
    "from keras.layers import Dense\n",
    "from keras.layers import Input\n",
    "from keras import models\n",
    "from keras.models import Model\n",
    "from keras.optimizers import Adam\n",
    "from keras.applications.mobilenet_v2 import preprocess_input\n",
    "# from tensorflow.keras.preprocessing.image import img_to_array\n",
    "# from tensorflow.keras.preprocessing.image import array_to_img\n",
    "# from tensorflow.keras.preprocessing.image import load_img\n",
    "from keras.preprocessing.image import ImageDataGenerator # load the image\n",
    "from keras.utils.image_utils import load_img\n",
    "from keras.utils.image_utils import img_to_array\n",
    "from keras.utils import to_categorical\n",
    "from keras import backend as K\n",
    "import pandas as pd\n",
    "from sklearn.metrics import confusion_matrix, classification_report\n",
    "from sklearn.metrics import precision_score, recall_score, accuracy_score,f1_score, classification_report\n",
    "import seaborn as sns "
   ]
  },
  {
   "cell_type": "markdown",
   "metadata": {},
   "source": [
    "##### Warnings #####"
   ]
  },
  {
   "cell_type": "code",
   "execution_count": 3,
   "metadata": {},
   "outputs": [],
   "source": [
    "import warnings\n",
    "\n",
    "def fxn():\n",
    "    warnings.warn(\"deprecated\", DeprecationWarning)\n",
    "\n",
    "with warnings.catch_warnings():\n",
    "    warnings.simplefilter(\"ignore\")\n",
    "    fxn()"
   ]
  },
  {
   "cell_type": "markdown",
   "metadata": {},
   "source": [
    "## Data preprocessing"
   ]
  },
  {
   "cell_type": "markdown",
   "metadata": {},
   "source": [
    "#### URLs for images and annotations"
   ]
  },
  {
   "cell_type": "code",
   "execution_count": 4,
   "metadata": {},
   "outputs": [],
   "source": [
    "prefix_url_imgs = \"https://raw.githubusercontent.com/konstantinos-al/ml_project_quebec/main/Kaggle_helmets/images/\"\n",
    "number_of_imgs = 766 # +1 to include last one (765)\n",
    "\n",
    "list_imgs = []\n",
    "\n",
    "for i in range(0, number_of_imgs):\n",
    "    i = str(i)\n",
    "    var_imgs = \"BikesHelmets\" + i + \".png\"\n",
    "    var_imgs_url = prefix_url_imgs + var_imgs\n",
    "    list_imgs.append(var_imgs_url)"
   ]
  },
  {
   "cell_type": "code",
   "execution_count": 5,
   "metadata": {},
   "outputs": [],
   "source": [
    "prefix_url_xml = \"https://raw.githubusercontent.com/konstantinos-al/ml_project_quebec/main/Kaggle_helmets/annotations/\"\n",
    "number_of_annt = 766 # +1 to include last one (765)\n",
    "\n",
    "list_annotations= []\n",
    "\n",
    "for i in range(0, number_of_annt):\n",
    "    i = str(i)\n",
    "    var_annt = \"BikesHelmets\" + i + \".xml\"\n",
    "    var_annt_url = prefix_url_xml + var_annt\n",
    "    list_annotations.append(var_annt_url)"
   ]
  },
  {
   "cell_type": "markdown",
   "metadata": {},
   "source": [
    "### Augmentantion functions"
   ]
  },
  {
   "cell_type": "code",
   "execution_count": 6,
   "metadata": {},
   "outputs": [],
   "source": [
    "def picture_zoom(image):\n",
    "   # to array\n",
    "   array = expand_dims(image[1], 0)\n",
    "   # create image data augmentation generator\n",
    "   datagen_zoom= ImageDataGenerator(zoom_range=[0.8,1.5])\n",
    "   # prepare iterator\n",
    "   it_zoom = datagen_zoom.flow(array, batch_size=1)\n",
    "   # generate batch of images\n",
    "   batch_zoom = it_zoom.next()\n",
    "   # convert to unsigned integers for viewing\n",
    "   image_zoom = batch_zoom[0].astype('uint64')\n",
    "   # returning list\n",
    "   list = [image[0], image_zoom, image[2], image[3]]\n",
    "   return list"
   ]
  },
  {
   "cell_type": "code",
   "execution_count": 7,
   "metadata": {},
   "outputs": [],
   "source": [
    "def picture_rotation(image):\n",
    "    # to array\n",
    "    array = expand_dims(image[1], 0)\n",
    "    # ImageDataGenerator rotation\n",
    "    datagen_rotation=ImageDataGenerator(rotation_range=45, fill_mode='nearest')\n",
    "    # prepare iterator\n",
    "    it_rotation = datagen_rotation.flow(array, batch_size=1)\n",
    "    # generate batch of images\n",
    "    batch_rotation = it_rotation.next()\n",
    "    # convert to unsigned integers for viewing\n",
    "    image_rotation = batch_rotation[0].astype('uint64')\n",
    "    # plot raw pixel \n",
    "    img_rotation=plt.imshow(image_rotation, interpolation ='None', filternorm=True) #spline36, antialiased\n",
    "    # returning list\n",
    "    list = [image[0], image_rotation, image[2], image[3]]\n",
    "    return list"
   ]
  },
  {
   "cell_type": "code",
   "execution_count": 8,
   "metadata": {},
   "outputs": [],
   "source": [
    "def picture_brightness(image):\n",
    "    # to array\n",
    "    array = expand_dims(image[1], 0)\n",
    "    # create image data augmentation generator\n",
    "    datagen_brightness = ImageDataGenerator(brightness_range=[0.2,1.0])\n",
    "    # prepare iterator\n",
    "    it_brightness = datagen_brightness.flow(array, batch_size=1)\n",
    "    # generate batch of images\n",
    "    batch_zoom = it_brightness.next()\n",
    "    # convert to unsigned integers for viewing\n",
    "    image_brightness = batch_zoom[0].astype('uint64')\n",
    "    # plot raw pixel \n",
    "    img_brightness=plt.imshow(image_brightness, interpolation ='None')\n",
    "    # returning list\n",
    "    list = [image[0], image_brightness, image[2], image[3]]\n",
    "    return list"
   ]
  },
  {
   "cell_type": "markdown",
   "metadata": {},
   "source": [
    "### Images load\n",
    "* Retrieving and labelling images from XML annotations\n",
    "* No bounding box, multiple faces per image\n",
    "* For images with multiple people, if and only if all people wear helmet the label would be 1, otherwise label would be 0."
   ]
  },
  {
   "cell_type": "code",
   "execution_count": 9,
   "metadata": {},
   "outputs": [],
   "source": [
    "full_imgs = []\n",
    "\n",
    "for xml_path in list_annotations:\n",
    "    try:    \n",
    "        with urlopen(xml_path) as my_xml:\n",
    "        \n",
    "            xmld = xmltodict.parse(my_xml)\n",
    "            tags = xmld['annotation']\n",
    "\n",
    "            a = 0\n",
    "            img_path = prefix_url_imgs + tags['filename']\n",
    "            img_url = requests.get(img_path)\n",
    "            img_temp = Image.open(BytesIO(img_url.content))\n",
    "            resized = img_temp.resize((224,224)) # resize all images to 224x224\n",
    "            image = cv2.cvtColor(np.array(resized), cv2.INPAINT_TELEA)\n",
    "            \n",
    "            if 'object' in tags:\n",
    "\n",
    "                if isinstance(tags['object'], list):\n",
    "                    for i in tags['object']:\n",
    "                        if i['name'] == 'With Helmet':\n",
    "                            a =+1\n",
    "                        else:\n",
    "                            a =+0\n",
    "                    if a > 0 :\n",
    "                        full_imgs.append([tags['filename'], image, 1, img_path])\n",
    "                    else :\n",
    "                        full_imgs.append([tags['filename'], image, 0, img_path])\n",
    "                \n",
    "                if isinstance(tags['object'], dict):\n",
    "                    if tags['object']['name'] == 'With Helmet':\n",
    "                        full_imgs.append([tags['filename'], image, 1, img_path])\n",
    "                    else:\n",
    "                        full_imgs.append([tags['filename'], image, 0, img_path])\n",
    "            else:\n",
    "                pass\n",
    "    except:\n",
    "        pass"
   ]
  },
  {
   "cell_type": "markdown",
   "metadata": {},
   "source": [
    "* Augment full images"
   ]
  },
  {
   "cell_type": "code",
   "execution_count": 10,
   "metadata": {},
   "outputs": [
    {
     "data": {
      "image/png": "[encoded data removed]",
      "text/plain": [
       "<Figure size 432x288 with 1 Axes>"
      ]
     },
     "metadata": {
      "needs_background": "light"
     },
     "output_type": "display_data"
    }
   ],
   "source": [
    "# Augmentantion of full images\n",
    "augm_full_imgs = []\n",
    "for i in range(0, len(full_imgs)):\n",
    "    augm_full_imgs.append(picture_zoom(full_imgs[i]))\n",
    "    augm_full_imgs.append(picture_rotation(full_imgs[i]))\n",
    "    augm_full_imgs.append(picture_brightness(full_imgs[i]))"
   ]
  },
  {
   "cell_type": "code",
   "execution_count": 11,
   "metadata": {},
   "outputs": [
    {
     "name": "stdout",
     "output_type": "stream",
     "text": [
      "Total full images: 3044\n",
      "of which initial images: 761\n",
      "of which augmented images: 2283\n"
     ]
    }
   ],
   "source": [
    "# consolidate initial with augmented images in one list\n",
    "final_full_imgs = full_imgs + augm_full_imgs\n",
    "\n",
    "print(\"Total full images:\", len(final_full_imgs))\n",
    "print(\"of which initial images:\", len(full_imgs))\n",
    "print(\"of which augmented images:\", len(augm_full_imgs))"
   ]
  },
  {
   "cell_type": "code",
   "execution_count": 12,
   "metadata": {},
   "outputs": [
    {
     "data": {
      "text/plain": [
       "Text(0, 0.5, 'Labels')"
      ]
     },
     "execution_count": 12,
     "metadata": {},
     "output_type": "execute_result"
    },
    {
     "data": {
      "image/png": "[encoded data removed]",
      "text/plain": [
       "<Figure size 432x288 with 1 Axes>"
      ]
     },
     "metadata": {
      "needs_background": "light"
     },
     "output_type": "display_data"
    }
   ],
   "source": [
    "# Converts lists for images names and for the corresponding label names\n",
    "list1=[]\n",
    "list2=[]\n",
    "\n",
    "for i in range(0,len(full_imgs)):\n",
    "    list1.append(full_imgs[i][0])\n",
    "    list2.append(full_imgs[i][2])\n",
    "    \n",
    "df=pd.DataFrame()\n",
    "df=df.assign(Images=list1)\n",
    "df=df.assign(Labels=list2)\n",
    "\n",
    "df[\"Labels\"].value_counts().plot(kind='barh')\n",
    "plt.xlabel('Count', fontsize = 10, fontweight = 'bold')\n",
    "plt.ylabel('Labels', fontsize = 10, fontweight = 'bold')"
   ]
  },
  {
   "cell_type": "markdown",
   "metadata": {},
   "source": [
    "* Transform full images to model inputs"
   ]
  },
  {
   "cell_type": "code",
   "execution_count": 13,
   "metadata": {},
   "outputs": [],
   "source": [
    "# Transforming images in a proper array for model input\n",
    "full_imgs_array = []\n",
    "for i in range(0, len(final_full_imgs)):\n",
    "    full_imgs_array.append(np.array(final_full_imgs[i][1]))\n",
    "full_imgs_array = np.array(full_imgs_array, dtype='int')"
   ]
  },
  {
   "cell_type": "code",
   "execution_count": 14,
   "metadata": {},
   "outputs": [
    {
     "data": {
      "text/plain": [
       "(3044, 224, 224, 3)"
      ]
     },
     "execution_count": 14,
     "metadata": {},
     "output_type": "execute_result"
    }
   ],
   "source": [
    "# shape of new array\n",
    "full_imgs_array.shape"
   ]
  },
  {
   "cell_type": "code",
   "execution_count": 15,
   "metadata": {},
   "outputs": [
    {
     "data": {
      "text/plain": [
       "<matplotlib.image.AxesImage at 0x1e7fd33b220>"
      ]
     },
     "execution_count": 15,
     "metadata": {},
     "output_type": "execute_result"
    },
    {
     "data": {
      "image/png": "[encoded data removed]",
      "text/plain": [
       "<Figure size 432x288 with 1 Axes>"
      ]
     },
     "metadata": {
      "needs_background": "light"
     },
     "output_type": "display_data"
    }
   ],
   "source": [
    "# testing that images appear correctly\n",
    "plt.imshow(full_imgs_array[714])"
   ]
  },
  {
   "cell_type": "code",
   "execution_count": 16,
   "metadata": {},
   "outputs": [],
   "source": [
    "# Creating an array with labels\n",
    "labels_array = []\n",
    "for i in range(0, len(final_full_imgs)):\n",
    "    labels_array.append(np.array(final_full_imgs[i][2]))\n",
    "labels_array = np.array(labels_array, dtype='int')"
   ]
  },
  {
   "cell_type": "code",
   "execution_count": 17,
   "metadata": {},
   "outputs": [],
   "source": [
    "# Categorically encode the labels\n",
    "full_imgs_labels = to_categorical(labels_array)"
   ]
  },
  {
   "cell_type": "markdown",
   "metadata": {},
   "source": [
    "### Data reshaping"
   ]
  },
  {
   "cell_type": "code",
   "execution_count": 18,
   "metadata": {},
   "outputs": [],
   "source": [
    "def reshape_img_input(x: np.ndarray,\n",
    "                      img_rows: int = 224,\n",
    "                      img_cols: int = 224,\n",
    "                      normalize: bool = True) -> Tuple:\n",
    "        \n",
    "    print(f'Original shape of nd-array: {x.shape}')\n",
    "    \n",
    "    if K.image_data_format() == 'channels_first':\n",
    "        \n",
    "        # the channel dimension goes to the front\n",
    "        x1 = x.reshape(x.shape[0], 3, img_rows, img_cols)\n",
    "\n",
    "        input_shape = (3, img_rows, img_cols)\n",
    "\n",
    "    else:\n",
    "        # the channel dimension goes to the end. So we end up with the following 4-D tensor\n",
    "        # (N-samples, Height, Width, N-channels)\n",
    "        x1 = x.reshape(x.shape[0], img_rows, img_cols, 3)\n",
    "\n",
    "        input_shape = (img_rows, img_cols, 3)\n",
    "\n",
    "    x1 = x1.astype('float32')\n",
    "\n",
    "    if normalize:\n",
    "        x1 /= 255.\n",
    "        \n",
    "    return x1, input_shape"
   ]
  },
  {
   "cell_type": "code",
   "execution_count": 19,
   "metadata": {},
   "outputs": [
    {
     "name": "stdout",
     "output_type": "stream",
     "text": [
      "Original shape of nd-array: (3044, 224, 224, 3)\n"
     ]
    }
   ],
   "source": [
    "data, input_shape = reshape_img_input(x=full_imgs_array,\n",
    "                                         img_rows=224, \n",
    "                                         img_cols=224,\n",
    "                                         normalize=True)"
   ]
  },
  {
   "cell_type": "markdown",
   "metadata": {},
   "source": [
    "### Train, Test & Validation split\n",
    "* We now split the full dataset into train (75%) and test (25%) sets. \n",
    "* The test set is splitted again to test (25%) and validation (75%) sets.\n",
    "* Random sampling is a very bad option for splitting. So, we tried stratified sampling. \n",
    "* This method splits your class proportionally between training and test set. Run oversampling, undersampling or hybrid techniques on training set."
   ]
  },
  {
   "cell_type": "code",
   "execution_count": 110,
   "metadata": {},
   "outputs": [],
   "source": [
    "#https://machinelearningmastery.com/train-test-split-for-evaluating-machine-learning-algorithms/\n",
    "from collections import Counter\n",
    "from sklearn.datasets import make_classification\n",
    "from sklearn.model_selection import train_test_split\n",
    "\n",
    "# split into train test sets\n",
    "from sklearn.model_selection import train_test_split\n",
    "X_train, X_test_1, y_train, y_test_1 = train_test_split(data, full_imgs_labels,\n",
    "                                                    stratify=full_imgs_labels, \n",
    "                                                    test_size=0.25, random_state=5)\n",
    "\n",
    "X_test, X_val, y_test, y_val = train_test_split(X_test_1, y_test_1,\n",
    "                                                    stratify=y_test_1, \n",
    "                                                    test_size=0.25, random_state=5)"
   ]
  },
  {
   "cell_type": "markdown",
   "metadata": {},
   "source": [
    "## Models hyperparameters"
   ]
  },
  {
   "cell_type": "markdown",
   "metadata": {},
   "source": [
    "#### Universal parameters\n",
    "* Setting parameters to be used across models."
   ]
  },
  {
   "cell_type": "code",
   "execution_count": 21,
   "metadata": {},
   "outputs": [],
   "source": [
    "learning_Rate = 1e-3\n",
    "num_Epochs = 50\n",
    "batch_Size = 32\n",
    "steps_per_Epoch = int(len(X_train) / batch_Size)"
   ]
  },
  {
   "cell_type": "markdown",
   "metadata": {},
   "source": [
    "### Callbacks"
   ]
  },
  {
   "cell_type": "markdown",
   "metadata": {},
   "source": [
    "#### Early Stopping\n",
    "* Before training the network, we define an early stopping criterion, to avoid redundent epochs once the model has already converged."
   ]
  },
  {
   "cell_type": "code",
   "execution_count": 22,
   "metadata": {},
   "outputs": [],
   "source": [
    "from tensorflow.keras.callbacks import EarlyStopping\n",
    "early_stopping = EarlyStopping(monitor = 'val_loss', patience = 8, verbose = 1, restore_best_weights = True)"
   ]
  },
  {
   "cell_type": "markdown",
   "metadata": {},
   "source": [
    "#### Reduce Learning Rate On Plateau\n",
    "* We define a ReduceLROnPlateau callback to reduce the learning rate when the metric we chose (val_loss) has stopped improving."
   ]
  },
  {
   "cell_type": "code",
   "execution_count": 23,
   "metadata": {},
   "outputs": [],
   "source": [
    "from tensorflow.keras.callbacks import ReduceLROnPlateau\n",
    "lrr = ReduceLROnPlateau(monitor = 'val_loss', patience = 5, verbose = 1, factor = 0.1, min_lr = 1e-6)"
   ]
  },
  {
   "cell_type": "markdown",
   "metadata": {},
   "source": [
    "## Models"
   ]
  },
  {
   "cell_type": "markdown",
   "metadata": {},
   "source": [
    "### Model 1 - Simple CNN\n",
    "* https://github.com/mohandandamudi/FaceMaskDetection/blob/master/Face%20Mask%20Detection.ipynb"
   ]
  },
  {
   "cell_type": "code",
   "execution_count": 24,
   "metadata": {},
   "outputs": [],
   "source": [
    "from tensorflow.keras.layers import Conv2D, Input, ZeroPadding2D, BatchNormalization, Activation, MaxPooling2D, Flatten, Dense\n",
    "from tensorflow.keras import optimizers\n",
    "import tensorflow as tf\n",
    "from keras.models import Sequential\n",
    "from collections import Counter\n",
    "from sklearn.datasets import make_classification\n",
    "from sklearn.model_selection import train_test_split"
   ]
  },
  {
   "cell_type": "markdown",
   "metadata": {},
   "source": [
    "* Buliding Model "
   ]
  },
  {
   "cell_type": "code",
   "execution_count": 25,
   "metadata": {},
   "outputs": [
    {
     "name": "stdout",
     "output_type": "stream",
     "text": [
      "Model: \"sequential\"\n",
      "_________________________________________________________________\n",
      " Layer (type)                Output Shape              Param #   \n",
      "=================================================================\n",
      " conv2d (Conv2D)             (None, 222, 222, 32)      896       \n",
      "                                                                 \n",
      " max_pooling2d (MaxPooling2D  (None, 111, 111, 32)     0         \n",
      " )                                                               \n",
      "                                                                 \n",
      " flatten (Flatten)           (None, 394272)            0         \n",
      "                                                                 \n",
      " dense (Dense)               (None, 2)                 788546    \n",
      "                                                                 \n",
      "=================================================================\n",
      "Total params: 789,442\n",
      "Trainable params: 789,442\n",
      "Non-trainable params: 0\n",
      "_________________________________________________________________\n"
     ]
    }
   ],
   "source": [
    "# Adding model layers\n",
    "CNN_few_Layers = tf.keras.models.Sequential([\n",
    "    tf.keras.layers.Conv2D(32, (3,3), activation='relu', input_shape=(224, 224, 3)),\n",
    "    tf.keras.layers.MaxPooling2D(2,2),\n",
    "    tf.keras.layers.Flatten(),  \n",
    "    tf.keras.layers.Dense(2, activation='softmax')\n",
    "])\n",
    "CNN_few_Layers.summary()"
   ]
  },
  {
   "cell_type": "markdown",
   "metadata": {},
   "source": [
    "* Compiling Model"
   ]
  },
  {
   "cell_type": "code",
   "execution_count": 26,
   "metadata": {},
   "outputs": [],
   "source": [
    "opt = optimizers.Adam(learning_rate=learning_Rate) \n",
    "CNN_few_Layers.compile(optimizer=opt, \n",
    "                         loss='categorical_crossentropy', \n",
    "                         metrics=['accuracy', 'Recall', 'Precision', 'AUC']) #categorical_crossentropy or binary_crossentropy"
   ]
  },
  {
   "cell_type": "markdown",
   "metadata": {},
   "source": [
    "* Fitting Model"
   ]
  },
  {
   "cell_type": "code",
   "execution_count": 29,
   "metadata": {},
   "outputs": [
    {
     "name": "stdout",
     "output_type": "stream",
     "text": [
      "Epoch 1/5\n",
      "71/71 [==============================] - 56s 706ms/step - loss: 2.3765 - accuracy: 0.6215 - recall: 0.6215 - precision: 0.6215 - auc: 0.6358 - val_loss: 0.6176 - val_accuracy: 0.6440 - val_recall: 0.6440 - val_precision: 0.6440 - val_auc: 0.7155 - lr: 0.0010\n",
      "Epoch 2/5\n",
      "71/71 [==============================] - 78s 1s/step - loss: 0.3906 - accuracy: 0.8410 - recall: 0.8410 - precision: 0.8410 - auc: 0.9173 - val_loss: 0.4429 - val_accuracy: 0.8220 - val_recall: 0.8220 - val_precision: 0.8220 - val_auc: 0.8908 - lr: 0.0010\n",
      "Epoch 3/5\n",
      "71/71 [==============================] - 51s 710ms/step - loss: 0.1890 - accuracy: 0.9449 - recall: 0.9449 - precision: 0.9449 - auc: 0.9842 - val_loss: 0.4974 - val_accuracy: 0.8063 - val_recall: 0.8063 - val_precision: 0.8063 - val_auc: 0.8610 - lr: 0.0010\n",
      "Epoch 4/5\n",
      "71/71 [==============================] - 72s 1s/step - loss: 0.0976 - accuracy: 0.9769 - recall: 0.9769 - precision: 0.9769 - auc: 0.9946 - val_loss: 0.5058 - val_accuracy: 0.8325 - val_recall: 0.8325 - val_precision: 0.8325 - val_auc: 0.8774 - lr: 0.0010\n",
      "Epoch 5/5\n",
      "71/71 [==============================] - 59s 832ms/step - loss: 0.0733 - accuracy: 0.9862 - recall: 0.9862 - precision: 0.9862 - auc: 0.9943 - val_loss: 0.4650 - val_accuracy: 0.8377 - val_recall: 0.8377 - val_precision: 0.8377 - val_auc: 0.8989 - lr: 0.0010\n"
     ]
    }
   ],
   "source": [
    "model_1 = CNN_few_Layers.fit(\n",
    "                    x = X_train,\n",
    "                    y = y_train,\n",
    "                    epochs = num_Epochs, # early stopping epoch: 10\n",
    "                    steps_per_epoch = steps_per_Epoch, \n",
    "                    batch_size = batch_Size, \n",
    "                    verbose = 1,\n",
    "                    validation_data = (X_val,y_val),\n",
    "                    callbacks = [early_stopping, lrr]\n",
    "                    )"
   ]
  },
  {
   "cell_type": "code",
   "execution_count": 30,
   "metadata": {},
   "outputs": [
    {
     "data": {
      "image/png": "[encoded data removed]",
      "text/plain": [
       "<Figure size 432x288 with 1 Axes>"
      ]
     },
     "metadata": {
      "needs_background": "light"
     },
     "output_type": "display_data"
    },
    {
     "data": {
      "image/png": "[encoded data removed]",
      "text/plain": [
       "<Figure size 432x288 with 1 Axes>"
      ]
     },
     "metadata": {
      "needs_background": "light"
     },
     "output_type": "display_data"
    }
   ],
   "source": [
    "loss = model_1.history['loss']\n",
    "val_loss = model_1.history['val_loss']\n",
    "acc = model_1.history['accuracy']\n",
    "val_acc = model_1.history['val_accuracy']\n",
    "epochs = range(1, len(loss) + 1)\n",
    "\n",
    "# plotting accuracy \n",
    "plt.plot(epochs, acc, color='blue', label='Training')\n",
    "plt.plot(epochs, val_acc, color='green', label='Validation')\n",
    "plt.title('Training and Validation accuracy')\n",
    "plt.xlabel('Epochs')\n",
    "plt.ylabel('Accuracy')\n",
    "plt.legend()\n",
    "plt.show()\n",
    "\n",
    "# plotting loss\n",
    "plt.plot(epochs, loss, color='orange', label='Training')\n",
    "plt.plot(epochs, val_loss, color='red', label='Validation')\n",
    "plt.title('Training and Validation loss')\n",
    "plt.xlabel('Epochs')\n",
    "plt.ylabel('Loss')\n",
    "plt.legend()\n",
    "plt.show()"
   ]
  },
  {
   "cell_type": "markdown",
   "metadata": {},
   "source": [
    "### Model 2 - Custom CNN"
   ]
  },
  {
   "cell_type": "markdown",
   "metadata": {},
   "source": [
    "* Building Model"
   ]
  },
  {
   "cell_type": "code",
   "execution_count": null,
   "metadata": {},
   "outputs": [],
   "source": [
    "from keras.models import Sequential\n",
    "from keras.layers import Conv2D, MaxPooling2D, Flatten, Dense, Dropout"
   ]
  },
  {
   "cell_type": "code",
   "execution_count": null,
   "metadata": {},
   "outputs": [],
   "source": [
    "CNN_adjusted_v1 = Sequential()\n",
    "CNN_adjusted_v1.add(Conv2D(filters = 16, kernel_size = 3,  padding='same', activation = 'relu', input_shape = (224, 224, 3)))\n",
    "CNN_adjusted_v1.add(MaxPooling2D(pool_size = 2))\n",
    "CNN_adjusted_v1.add(Conv2D(filters = 32, kernel_size = 3,  padding='same', activation = 'relu'))\n",
    "CNN_adjusted_v1.add(MaxPooling2D(pool_size = 2))\n",
    "CNN_adjusted_v1.add(Conv2D(filters = 64, kernel_size = 3,  padding='same', activation = 'relu'))\n",
    "CNN_adjusted_v1.add(MaxPooling2D(pool_size = 2))\n",
    "CNN_adjusted_v1.add(Dropout(0.3))\n",
    "CNN_adjusted_v1.add(Flatten())\n",
    "CNN_adjusted_v1.add(Dense(units = 500, activation = 'relu'))\n",
    "CNN_adjusted_v1.add(Dropout(0.4))\n",
    "CNN_adjusted_v1.add(Dense(units = 2, activation = 'softmax'))\n",
    "CNN_adjusted_v1.summary()"
   ]
  },
  {
   "cell_type": "markdown",
   "metadata": {},
   "source": [
    "* Compiling Model"
   ]
  },
  {
   "cell_type": "code",
   "execution_count": null,
   "metadata": {},
   "outputs": [],
   "source": [
    "opt = optimizers.Adam(learning_rate=learning_Rate) \n",
    "CNN_adjusted_v1.compile(optimizer=opt,\n",
    "                    loss=\"categorical_crossentropy\",\n",
    "                    metrics=['accuracy', 'Recall', 'Precision', 'AUC']\n",
    ")"
   ]
  },
  {
   "cell_type": "markdown",
   "metadata": {},
   "source": [
    "* Fitting Model"
   ]
  },
  {
   "cell_type": "code",
   "execution_count": null,
   "metadata": {},
   "outputs": [],
   "source": [
    "model_2 = CNN_adjusted_v1.fit(\n",
    "                    x = X_train,\n",
    "                    y = y_train,\n",
    "                    epochs = num_Epochs, #>=30 / Early stopping: 15 epochs\n",
    "                    steps_per_epoch = steps_per_Epoch, \n",
    "                    batch_size = batch_Size,\n",
    "                    verbose = 1,\n",
    "                    validation_data = (X_val, y_val),\n",
    "                    callbacks = [early_stopping, lrr]\n",
    "                    )"
   ]
  },
  {
   "cell_type": "code",
   "execution_count": null,
   "metadata": {},
   "outputs": [],
   "source": [
    "loss = model_2.history['loss']\n",
    "val_loss = model_2.history['val_loss']\n",
    "acc = model_2.history['accuracy']\n",
    "val_acc = model_2.history['val_accuracy']\n",
    "epochs = range(1, len(loss) + 1)\n",
    "\n",
    "# plotting accuracy \n",
    "plt.plot(epochs, acc, color='blue', label='Training')\n",
    "plt.plot(epochs, val_acc, color='green', label='Validation')\n",
    "plt.title('Training and Validation accuracy')\n",
    "plt.xlabel('Epochs')\n",
    "plt.ylabel('Accuracy')\n",
    "plt.legend()\n",
    "plt.show()\n",
    "\n",
    "# plotting loss\n",
    "plt.plot(epochs, loss, color='orange', label='Training')\n",
    "plt.plot(epochs, val_loss, color='red', label='Validation')\n",
    "plt.title('Training and Validation loss')\n",
    "plt.xlabel('Epochs')\n",
    "plt.ylabel('Loss')\n",
    "plt.legend()\n",
    "plt.show()"
   ]
  },
  {
   "cell_type": "markdown",
   "metadata": {},
   "source": [
    "### Model 3 - Adjusted Custom CNN"
   ]
  },
  {
   "cell_type": "code",
   "execution_count": null,
   "metadata": {},
   "outputs": [],
   "source": [
    "# placeholder for comments regarding differences with model 2"
   ]
  },
  {
   "cell_type": "code",
   "execution_count": null,
   "metadata": {},
   "outputs": [],
   "source": [
    "#Model CNN with RmsProp Optimizer\n",
    "from keras.models import Sequential\n",
    "from keras.layers import Conv2D, MaxPooling2D, Flatten,Dense,Dropout"
   ]
  },
  {
   "cell_type": "markdown",
   "metadata": {},
   "source": [
    "* Building Model"
   ]
  },
  {
   "cell_type": "code",
   "execution_count": null,
   "metadata": {},
   "outputs": [],
   "source": [
    "CNN_adjusted_v2=Sequential()\n",
    "CNN_adjusted_v2.add(Conv2D(filters = 16, kernel_size = 3, padding='same', activation = 'relu', input_shape = (224, 224, 3)))\n",
    "CNN_adjusted_v2.add(MaxPooling2D(pool_size = 2))\n",
    "CNN_adjusted_v2.add(Conv2D(filters = 32, kernel_size=3,padding='same', activation='relu'))\n",
    "CNN_adjusted_v2.add(MaxPooling2D(pool_size = 2))\n",
    "CNN_adjusted_v2.add(Conv2D(filters = 64, kernel_size = 3, padding='same', activation = 'relu'))\n",
    "CNN_adjusted_v2.add(MaxPooling2D(pool_size = 2))\n",
    "CNN_adjusted_v2.add(Conv2D(filters = 128, kernel_size = 3, padding='same', activation = 'relu'))\n",
    "CNN_adjusted_v2.add(MaxPooling2D(pool_size = 2))\n",
    "CNN_adjusted_v2.add(Flatten())\n",
    "CNN_adjusted_v2.add(Dense(units = 500, activation = 'relu'))\n",
    "CNN_adjusted_v2.add(Dropout(0.3))\n",
    "CNN_adjusted_v2.add(Dense(units = 50, activation = 'relu'))\n",
    "CNN_adjusted_v2.add(Dense(units = 2, activation ='softmax'))\n",
    "CNN_adjusted_v2.summary()"
   ]
  },
  {
   "cell_type": "markdown",
   "metadata": {},
   "source": [
    "* Compiling Model"
   ]
  },
  {
   "cell_type": "code",
   "execution_count": null,
   "metadata": {},
   "outputs": [],
   "source": [
    "CNN_adjusted_v2.compile(\n",
    "    optimizer = \"rmsprop\",\n",
    "    loss = \"categorical_crossentropy\",\n",
    "    metrics = ['accuracy', 'Recall', 'Precision', 'AUC']\n",
    ")"
   ]
  },
  {
   "cell_type": "markdown",
   "metadata": {},
   "source": [
    "* Fitting Model"
   ]
  },
  {
   "cell_type": "code",
   "execution_count": null,
   "metadata": {},
   "outputs": [],
   "source": [
    "model_3 = CNN_adjusted_v2.fit(\n",
    "                    x = X_train,\n",
    "                    y = y_train,\n",
    "                    steps_per_epoch = steps_per_Epoch,\n",
    "                    epochs = num_Epochs,\n",
    "                    batch_size = batch_Size,\n",
    "                    verbose = 1, \n",
    "                    shuffle = True,\n",
    "                    validation_data = (X_val, y_val),\n",
    "                    callbacks = [early_stopping, lrr]\n",
    "                )"
   ]
  },
  {
   "cell_type": "code",
   "execution_count": null,
   "metadata": {},
   "outputs": [],
   "source": [
    "loss = model_3.history['loss']\n",
    "val_loss = model_3.history['val_loss']\n",
    "acc = model_3.history['accuracy']\n",
    "val_acc = model_3.history['val_accuracy']\n",
    "epochs = range(1, len(loss) + 1)\n",
    "\n",
    "# plotting accuracy \n",
    "plt.plot(epochs, acc, color='blue', label='Training')\n",
    "plt.plot(epochs, val_acc, color='green', label='Validation')\n",
    "plt.title('Training and Validation accuracy')\n",
    "plt.xlabel('Epochs')\n",
    "plt.ylabel('Accuracy')\n",
    "plt.legend()\n",
    "plt.show()\n",
    "\n",
    "# plotting loss\n",
    "plt.plot(epochs, loss, color='orange', label='Training')\n",
    "plt.plot(epochs, val_loss, color='red', label='Validation')\n",
    "plt.title('Training and Validation loss')\n",
    "plt.xlabel('Epochs')\n",
    "plt.ylabel('Loss')\n",
    "plt.legend()\n",
    "plt.show()"
   ]
  },
  {
   "cell_type": "markdown",
   "metadata": {},
   "source": [
    "### Model 4 - InceptionV3"
   ]
  },
  {
   "cell_type": "code",
   "execution_count": 197,
   "metadata": {},
   "outputs": [],
   "source": [
    "from keras.layers import Conv2D, MaxPool2D, Flatten, Dense, GlobalAveragePooling2D, Dropout, BatchNormalization, Input\n",
    "import tensorflow as tf\n",
    "from keras.models import Sequential\n",
    "from keras.applications.inception_v3 import InceptionV3\n",
    "from keras.models import Model"
   ]
  },
  {
   "cell_type": "markdown",
   "metadata": {},
   "source": [
    "* Bulding Model"
   ]
  },
  {
   "cell_type": "code",
   "execution_count": 198,
   "metadata": {},
   "outputs": [
    {
     "name": "stdout",
     "output_type": "stream",
     "text": [
      "Downloading data from https://storage.googleapis.com/tensorflow/keras-applications/inception_v3/inception_v3_weights_tf_dim_ordering_tf_kernels_notop.h5\n",
      "87910968/87910968 [==============================] - 46s 1us/step\n",
      "Model: \"model\"\n",
      "_________________________________________________________________\n",
      " Layer (type)                Output Shape              Param #   \n",
      "=================================================================\n",
      " input_2 (InputLayer)        [(None, 224, 224, 3)]     0         \n",
      "                                                                 \n",
      " inception_v3 (Functional)   (None, 5, 5, 2048)        21802784  \n",
      "                                                                 \n",
      " global_average_pooling2d (G  (None, 2048)             0         \n",
      " lobalAveragePooling2D)                                          \n",
      "                                                                 \n",
      " dense_1 (Dense)             (None, 2)                 4098      \n",
      "                                                                 \n",
      "=================================================================\n",
      "Total params: 21,806,882\n",
      "Trainable params: 4,098\n",
      "Non-trainable params: 21,802,784\n",
      "_________________________________________________________________\n"
     ]
    }
   ],
   "source": [
    "inceptv3 = InceptionV3(\n",
    "    weights = \"imagenet\",\n",
    "    input_shape = (224, 224, 3),\n",
    "    include_top = False \n",
    ")\n",
    "\n",
    "for layer in inceptv3.layers:\n",
    "    layer.trainable = False\n",
    "\n",
    "inputs = Input(shape=(224, 224, 3))\n",
    "x = inceptv3(inputs, training=False)\n",
    "x = layers.GlobalAveragePooling2D()(x)\n",
    "outputs = layers.Dense(2, activation='softmax')(x)\n",
    "inception_v3 = Model(inputs, outputs)\n",
    "\n",
    "inception_v3.summary()"
   ]
  },
  {
   "cell_type": "markdown",
   "metadata": {},
   "source": [
    "* Compiling Model"
   ]
  },
  {
   "cell_type": "code",
   "execution_count": null,
   "metadata": {},
   "outputs": [],
   "source": [
    "opt = optimizers.Adam(learning_rate=learning_Rate*10) \n",
    "inception_v3.compile(optimizer = opt,\n",
    "                        loss = \"categorical_crossentropy\",\n",
    "                        metrics = ['accuracy', 'Recall', 'Precision', 'AUC'])"
   ]
  },
  {
   "cell_type": "markdown",
   "metadata": {},
   "source": [
    "* Fitting Model"
   ]
  },
  {
   "cell_type": "code",
   "execution_count": null,
   "metadata": {},
   "outputs": [],
   "source": [
    "model_4 = inception_v3.fit(\n",
    "                    x = X_train,\n",
    "                    y = y_train,\n",
    "                    epochs = num_Epochs,\n",
    "                    steps_per_epoch = steps_per_Epoch,\n",
    "                    batch_size = batch_Size,\n",
    "                    verbose = 1,\n",
    "                    validation_data = (X_val,y_val),\n",
    "                    callbacks = [early_stopping, lrr]\n",
    "                    )"
   ]
  },
  {
   "cell_type": "code",
   "execution_count": null,
   "metadata": {},
   "outputs": [],
   "source": [
    "loss = model_4.history['loss']\n",
    "val_loss = model_4.history['val_loss']\n",
    "acc = model_4.history['accuracy']\n",
    "val_acc = model_4.history['val_accuracy']\n",
    "epochs = range(1, len(loss) + 1)\n",
    "\n",
    "# plotting accuracy \n",
    "plt.plot(epochs, acc, color='blue', label='Training')\n",
    "plt.plot(epochs, val_acc, color='green', label='Validation')\n",
    "plt.title('Training and Validation accuracy')\n",
    "plt.xlabel('Epochs')\n",
    "plt.ylabel('Accuracy')\n",
    "plt.legend()\n",
    "plt.show()\n",
    "\n",
    "# plotting loss\n",
    "plt.plot(epochs, loss, color='orange', label='Training')\n",
    "plt.plot(epochs, val_loss, color='red', label='Validation')\n",
    "plt.title('Training and Validation loss')\n",
    "plt.xlabel('Epochs')\n",
    "plt.ylabel('Loss')\n",
    "plt.legend()\n",
    "plt.show()"
   ]
  },
  {
   "cell_type": "markdown",
   "metadata": {},
   "source": [
    "#### Fine-tuning of the entire model\n",
    "* Now that InceptionV3 model has converged on the new data, we unfreeze all the layers and retrain the whole model end-to-end with a very low learning rate.\n",
    "* We use a very low learning rate at this stage, because we are training a much larger model than in the first round of training, on a dataset that is very small. So we are at risk of overfitting very quickly if we apply large weight updates. <br>\n",
    "Source: https://www.tensorflow.org/guide/keras/transfer_learning#do_a_round_of_fine-tuning_of_the_entire_model"
   ]
  },
  {
   "cell_type": "code",
   "execution_count": null,
   "metadata": {},
   "outputs": [],
   "source": [
    "inceptv3.trainable = True\n",
    "inception_v3.summary()\n",
    "\n",
    "opt = optimizers.Adam(learning_rate=learning_Rate/100) #very low learning rate: 1e-5\n",
    "inception_v3.compile(optimizer = opt,\n",
    "                        loss = \"categorical_crossentropy\",\n",
    "                        metrics = ['accuracy', 'Recall', 'Precision', 'AUC'])"
   ]
  },
  {
   "cell_type": "code",
   "execution_count": null,
   "metadata": {},
   "outputs": [],
   "source": [
    "model_4_v2 = inception_v3.fit(\n",
    "                    x = X_train,\n",
    "                    y = y_train,\n",
    "                    epochs = int(num_Epochs/5), #for 10 epochs only\n",
    "                    steps_per_epoch = steps_per_Epoch,\n",
    "                    batch_size = batch_Size,\n",
    "                    verbose = 1,\n",
    "                    validation_data = (X_val,y_val),\n",
    "                    )"
   ]
  },
  {
   "cell_type": "markdown",
   "metadata": {},
   "source": [
    "### Model 5 - MobileNet2"
   ]
  },
  {
   "cell_type": "markdown",
   "metadata": {},
   "source": [
    "* Building Model"
   ]
  },
  {
   "cell_type": "code",
   "execution_count": null,
   "metadata": {},
   "outputs": [],
   "source": [
    "# transform to appropriate MobileNet2 input / normalize to (-1, 1)\n",
    "data_mn2 = tf.keras.applications.mobilenet_v2.preprocess_input(full_imgs_array)"
   ]
  },
  {
   "cell_type": "code",
   "execution_count": null,
   "metadata": {},
   "outputs": [],
   "source": [
    "# split into train test sets\n",
    "X_train_mn, X_test_1_mn, y_train_mn, y_test_1_mn = train_test_split(data_mn2, full_imgs_labels,\n",
    "                                                    stratify = full_imgs_labels, \n",
    "                                                    test_size = 0.25, random_state = 5)\n",
    "\n",
    "X_test_mn, X_val_mn, y_test_mn, y_val_mn = train_test_split(X_test_1_mn, y_test_1_mn,\n",
    "                                                    stratify = y_test_1_mn, \n",
    "                                                    test_size = 0.25, random_state = 5)"
   ]
  },
  {
   "cell_type": "code",
   "execution_count": null,
   "metadata": {},
   "outputs": [],
   "source": [
    "mob_net = tf.keras.applications.MobileNetV2(input_shape=(224, 224, 3),\n",
    "                                               include_top=False,\n",
    "                                               weights='imagenet')\n",
    "\n",
    "for layer in mob_net.layers:\n",
    "    layer.trainable = False\n",
    "\n",
    "inputs = Input(shape=(224, 224, 3))\n",
    "x = mob_net(inputs, training=False) # added\n",
    "x = GlobalAveragePooling2D()(x)\n",
    "#x = Dense(1024, activation='relu')(x) #dense layer 2\n",
    "#x = Dense(512, activation='relu')(x) #dense layer 3\n",
    "preds = Dense(2, activation='softmax')(x) #final layer with softmax activation\n",
    "mob_net2 = Model(inputs, preds)\n",
    "\n",
    "mob_net2.summary()"
   ]
  },
  {
   "cell_type": "code",
   "execution_count": null,
   "metadata": {},
   "outputs": [],
   "source": [
    "# for i,layer in enumerate(mob_net2.layers):\n",
    "#   print(i,layer.name)"
   ]
  },
  {
   "cell_type": "markdown",
   "metadata": {},
   "source": [
    "* Compiling Model"
   ]
  },
  {
   "cell_type": "code",
   "execution_count": null,
   "metadata": {},
   "outputs": [],
   "source": [
    "opt = optimizers.Adam(learning_rate=learning_Rate*10) \n",
    "mob_net2.compile(optimizer = opt,\n",
    "              loss='categorical_crossentropy',\n",
    "              metrics = ['accuracy', 'Recall', 'Precision', 'AUC'])"
   ]
  },
  {
   "cell_type": "markdown",
   "metadata": {},
   "source": [
    "* Fitting Model"
   ]
  },
  {
   "cell_type": "code",
   "execution_count": null,
   "metadata": {},
   "outputs": [],
   "source": [
    "model_5 = mob_net2.fit(\n",
    "                    x = X_train_mn,\n",
    "                    y = y_train_mn,\n",
    "                    epochs = num_Epochs,\n",
    "                    steps_per_epoch = steps_per_Epoch,\n",
    "                    batch_size = batch_Size, \n",
    "                    verbose = 1,\n",
    "                    validation_data = (X_val_mn, y_val_mn),\n",
    "                    callbacks = [early_stopping, lrr]\n",
    "                    )"
   ]
  },
  {
   "cell_type": "code",
   "execution_count": null,
   "metadata": {},
   "outputs": [],
   "source": [
    "loss = model_5.history['loss']\n",
    "val_loss = model_5.history['val_loss']\n",
    "acc = model_5.history['accuracy']\n",
    "val_acc = model_5.history['val_accuracy']\n",
    "epochs = range(1, len(loss) + 1)\n",
    "\n",
    "# plotting accuracy \n",
    "plt.plot(epochs, acc, color='blue', label='Training')\n",
    "plt.plot(epochs, val_acc, color='green', label='Validation')\n",
    "plt.title('Training and Validation accuracy')\n",
    "plt.xlabel('Epochs')\n",
    "plt.ylabel('Accuracy')\n",
    "plt.legend()\n",
    "plt.show()\n",
    "\n",
    "# plotting loss\n",
    "plt.plot(epochs, loss, color='orange', label='Training')\n",
    "plt.plot(epochs, val_loss, color='red', label='Validation')\n",
    "plt.title('Training and Validation loss')\n",
    "plt.xlabel('Epochs')\n",
    "plt.ylabel('Loss')\n",
    "plt.legend()\n",
    "plt.show()"
   ]
  },
  {
   "cell_type": "markdown",
   "metadata": {},
   "source": [
    "#### Fine-tuning of the entire model"
   ]
  },
  {
   "cell_type": "code",
   "execution_count": null,
   "metadata": {},
   "outputs": [],
   "source": [
    "mob_net.trainable = True\n",
    "mob_net2.summary()\n",
    "\n",
    "opt = optimizers.Adam(learning_rate=learning_Rate/100) #very low learning rate: 1e-5\n",
    "mob_net2.compile(optimizer = opt,\n",
    "                        loss = \"categorical_crossentropy\",\n",
    "                        metrics = ['accuracy', 'Recall', 'Precision', 'AUC'])"
   ]
  },
  {
   "cell_type": "code",
   "execution_count": null,
   "metadata": {},
   "outputs": [],
   "source": [
    "model_5_v2 = mob_net2.fit(\n",
    "                    x = X_train_mn,\n",
    "                    y = y_train_mn,\n",
    "                    epochs = int(num_Epochs/5), #for 10 epochs only\n",
    "                    steps_per_epoch = steps_per_Epoch,\n",
    "                    batch_size = batch_Size,\n",
    "                    verbose = 1,\n",
    "                    validation_data = (X_val_mn, y_val_mn),\n",
    "                    )"
   ]
  },
  {
   "cell_type": "markdown",
   "metadata": {},
   "source": [
    "### Saving best model's weights"
   ]
  },
  {
   "cell_type": "code",
   "execution_count": null,
   "metadata": {},
   "outputs": [],
   "source": [
    "best_model = inception_v3\n",
    "best_model.save_weights(r'.\\team_quebec_results\\best_model_weights')"
   ]
  },
  {
   "cell_type": "markdown",
   "metadata": {},
   "source": [
    "## Models Comparison \n"
   ]
  },
  {
   "cell_type": "markdown",
   "metadata": {},
   "source": [
    "### Functions for plots"
   ]
  },
  {
   "cell_type": "code",
   "execution_count": null,
   "metadata": {},
   "outputs": [],
   "source": [
    "def evaluation(y, y_hat, title = 'Confusion Matrix'):\n",
    "    \n",
    "    \"\"\"Evaluation function\n",
    "    Prints Classification reports and confusion matrix\n",
    "    \"\"\"\n",
    "    cm = confusion_matrix(y, y_hat)\n",
    "#     precision = precision_score(y, y_hat)\n",
    "#     recall = recall_score(y, y_hat)\n",
    "#     accuracy = accuracy_score(y,y_hat)\n",
    "#     f1 = f1_score(y,y_hat)\n",
    "#     report = classification_report(y,y_hat)\n",
    "#     print(report)\n",
    "#     print('Recall: ', recall)\n",
    "#     print('Accuracy: ', accuracy)\n",
    "#     print('Precision: ', precision)\n",
    "#     print('F1: ', f1)\n",
    "    sns.heatmap(cm,  cmap= 'PuBu', annot=True, fmt='g', annot_kws={'size':20})\n",
    "    plt.xlabel('predicted', fontsize=18)\n",
    "    plt.ylabel('actual', fontsize=18)\n",
    "    plt.title(title, fontsize=18)\n",
    "    \n",
    "    plt.show()"
   ]
  },
  {
   "cell_type": "code",
   "execution_count": null,
   "metadata": {},
   "outputs": [],
   "source": [
    "def plot_loss_and_accuracy(history):\n",
    "    history_df = pd.DataFrame(history)\n",
    "    fig, ax = plt.subplots(1,2, figsize=(12, 6))\n",
    "    \n",
    "    history_df.loc[0:, ['loss', 'val_loss']].plot(ax=ax[0])\n",
    "    ax[0].set(xlabel = 'epoch number', ylabel = 'loss')\n",
    "\n",
    "    history_df.loc[0:, ['accuracy', 'val_accuracy']].plot(ax=ax[1])\n",
    "    ax[1].set(xlabel = 'epoch number', ylabel = 'accuracy')"
   ]
  },
  {
   "cell_type": "markdown",
   "metadata": {},
   "source": [
    "### Compare classifiers"
   ]
  },
  {
   "cell_type": "code",
   "execution_count": null,
   "metadata": {},
   "outputs": [],
   "source": [
    "import pandas\n",
    "import matplotlib.pyplot as plt\n",
    "from sklearn.metrics import roc_curve\n",
    "from sklearn.metrics import roc_auc_score\n",
    "from sklearn.metrics import precision_score, recall_score, f1_score, accuracy_score, log_loss\n",
    "from sklearn.datasets import make_classification\n",
    "from sklearn import model_selection"
   ]
  },
  {
   "cell_type": "code",
   "execution_count": null,
   "metadata": {},
   "outputs": [],
   "source": [
    "# * Precision: The model precision score measures the proportion of positively predicted labels that are actually correct. Precision is also known as the positive predictive value. Precision Score = TP / (FP + TP)\n",
    "# * Accuracy: Tells us how often we can expect our machine learning model will correctly predict an outcome out of the total number of times it made predictions.  Accuracy Score = (TP + TN)/ (TP + FN + TN + FP)\n",
    "# * Recall score is used to measure the model performance in terms of measuring the count of true positives in a correct manner out of all the actual positive values.\n",
    "# * F1-score is harmonic mean of precision and recall score and is used as a metrics in the scenarios where choosing either of precision or recall score can result in compromise in terms of model giving high false positives and false negatives respectively. \n",
    "#   F1 Score = 2* Precision Score * Recall Score/ (Precision Score + Recall Score/)"
   ]
  },
  {
   "cell_type": "code",
   "execution_count": null,
   "metadata": {},
   "outputs": [],
   "source": [
    "classifiers = [CNN_few_Layers,\n",
    "    CNN_adjusted_v1,\n",
    "    CNN_adjusted_v2,\n",
    "    inception_v3,\n",
    "    mob_net2\n",
    "    ]\n",
    "name_of_model = [\"CNN_few_Layers\",\n",
    "    \"CNN_adjusted_v1\",\n",
    "    \"CNN_adjusted_v2\",\n",
    "    \"inception_v3\",\n",
    "    \"mob_net2\"\n",
    "    ]"
   ]
  },
  {
   "cell_type": "code",
   "execution_count": null,
   "metadata": {},
   "outputs": [],
   "source": [
    "# Logging for Visual Comparison\n",
    "log_cols = [\"Classifier\", \"Accuracy\", \"Precision\", \"Recall\", \"F1\", \"AUC\"]\n",
    "\n",
    "log = pd.DataFrame(columns=log_cols)\n",
    "i = 0\n",
    "\n",
    "for clf in classifiers:\n",
    "\n",
    "    name=name_of_model[i]\n",
    "    i+=1    \n",
    "\n",
    "    # if statamenet to use rescaled (-1, 1) test dataset for MobileNet2\n",
    "    if name == name_of_model[-1]:\n",
    "        y_true = np.argmax(y_test_mn, axis = 1)[:]\n",
    "        pred = clf.predict(X_test_mn, verbose = 0) # Predict prob and get Class Indices\n",
    "        y_pred= np.argmax(pred, axis = 1)[:]\n",
    "    else:\n",
    "        # calculate y_pred\n",
    "        y_true = np.argmax(y_test, axis = 1)[:]\n",
    "        pred = clf.predict(X_test, verbose = 0) # Predict prob and get Class Indices\n",
    "        y_pred= np.argmax(pred, axis = 1)[:]\n",
    "\n",
    "    # calculate accuracy\n",
    "    acc = accuracy_score(y_pred[:], y_true[:])\n",
    "    \n",
    "    # calculate precision\t\n",
    "    pre = precision_score(y_pred[:], y_true[:])\n",
    "\n",
    "    # calculate Recall\t\n",
    "    rec = recall_score(y_pred[:], y_true[:])\n",
    "\n",
    "    # calculate F1-score\n",
    "    f1 = f1_score(y_pred[:], y_true[:])\n",
    "\n",
    "    # calculate AUC\n",
    "    auc = roc_auc_score(y_true, y_pred)\n",
    "    \n",
    "    # pass them in a dataframe for visualization\n",
    "    log_entry = pd.DataFrame([[name, acc*100, pre*100, rec*100, f1*100, auc*100]], columns=log_cols)\n",
    "    log = pd.concat([log, log_entry], axis = 0)\n",
    "    \n",
    "    # Print the results\n",
    "    # print(\"=\"*30)   \n",
    "    # print('**** Results ' + name + '****')\n",
    "    # print(\"Accuracy: {:.4%}\".format(acc))\n",
    "    # print(\"Precision: {:.4%}\".format(pre) )\n",
    "    # print(\"Recall: {:.4%}\".format(rec) )\n",
    "    # print(\"F1-score: {:.4%}\".format(f1) )\n",
    "    # print( name + \": ROC AUC: {:.4%}\".format(auc))\n",
    "\n",
    "# print(\"=\"*15 + \" End \" + \"=\"*15)"
   ]
  },
  {
   "cell_type": "code",
   "execution_count": null,
   "metadata": {},
   "outputs": [],
   "source": [
    "round(log.set_index('Classifier').sort_values(by='Accuracy', ascending = False), 1)"
   ]
  },
  {
   "cell_type": "markdown",
   "metadata": {},
   "source": [
    "### Evaluation Plots"
   ]
  },
  {
   "cell_type": "code",
   "execution_count": null,
   "metadata": {},
   "outputs": [],
   "source": [
    "# plt.rcParams['figure.dpi'] = 300\n",
    "# plt.rcParams['savefig.dpi'] = 300"
   ]
  },
  {
   "cell_type": "code",
   "execution_count": null,
   "metadata": {},
   "outputs": [],
   "source": [
    "## Accuracy\n",
    "# Figure Size\n",
    "fig, ax = plt.subplots(figsize =(10, 5))\n",
    "\n",
    "# Add x, y gridlines\n",
    "ax.grid(visible = True, color ='dimgrey',\n",
    "        linestyle = '--', linewidth = 1,\n",
    "        alpha = 0.2)\n",
    "\n",
    "sns.set_color_codes(\"muted\")\n",
    "sns.barplot(x='Accuracy', y='Classifier', data=log, color=\"b\")\n",
    "\n",
    "# Add annotation to bars\n",
    "for i in ax.patches:\n",
    "    plt.text(i.get_width(), i.get_y()+0.4,\n",
    "             str(round((i.get_width()), 2)),\n",
    "             fontsize = 10, fontweight ='bold',\n",
    "             color ='dimgrey')\n",
    "\n",
    "plt.xlabel('Accuracy %')\n",
    "plt.ylabel('')\n",
    "plt.title('Accuracy')\n",
    "plt.show()\n",
    "\n",
    "## Precision\n",
    "\n",
    "# Figure Size\n",
    "fig, ax = plt.subplots(figsize =(10, 5))\n",
    "\n",
    "# Add x, y gridlines\n",
    "ax.grid(visible = True, color ='dimgrey',\n",
    "        linestyle = '--', linewidth = 1,\n",
    "        alpha = 0.2)\n",
    "\n",
    "sns.set_color_codes(\"muted\")\n",
    "sns.barplot(x='Precision', y='Classifier', data=log, color=\"g\")\n",
    "\n",
    "# Add annotation to bars\n",
    "for i in ax.patches:\n",
    "    plt.text(i.get_width(), i.get_y()+0.4,\n",
    "             str(round((i.get_width()), 2)),\n",
    "             fontsize = 10, fontweight ='bold',\n",
    "             color ='dimgrey')\n",
    "\n",
    "plt.xlabel('Precision %')\n",
    "plt.ylabel('')\n",
    "plt.title('Precision')\n",
    "plt.show()\n",
    "\n",
    "## Recall\n",
    "\n",
    "# Figure Size\n",
    "fig, ax = plt.subplots(figsize =(10, 5))\n",
    "\n",
    "# Add x, y gridlines\n",
    "ax.grid(visible = True, color ='dimgrey',\n",
    "        linestyle = '--', linewidth = 1,\n",
    "        alpha = 0.2)\n",
    "\n",
    "sns.set_color_codes(\"muted\")\n",
    "sns.barplot(x='Recall', y='Classifier', data=log, color='c')\n",
    "\n",
    "# Add annotation to bars\n",
    "for i in ax.patches:\n",
    "    plt.text(i.get_width(), i.get_y()+0.4,\n",
    "             str(round((i.get_width()), 2)),\n",
    "             fontsize = 10, fontweight ='bold',\n",
    "             color ='dimgrey')\n",
    "\n",
    "plt.xlabel('Recall %')\n",
    "plt.ylabel('')\n",
    "plt.title('Recall')\n",
    "plt.show()\n",
    "\n",
    "## F1\n",
    "\n",
    "# Figure Size\n",
    "fig, ax = plt.subplots(figsize =(10, 5))\n",
    "\n",
    "# Add x, y gridlines\n",
    "ax.grid(visible = True, color ='dimgrey',\n",
    "        linestyle = '--', linewidth = 1,\n",
    "        alpha = 0.2)\n",
    "\n",
    "sns.set_color_codes(\"muted\")\n",
    "sns.barplot(x='F1', y='Classifier', data=log, color=\"y\")\n",
    "\n",
    "# Add annotation to bars\n",
    "for i in ax.patches:\n",
    "    plt.text(i.get_width(), i.get_y()+0.4,\n",
    "             str(round((i.get_width()), 2)),\n",
    "             fontsize = 10, fontweight ='bold',\n",
    "             color ='dimgrey')\n",
    "\n",
    "plt.xlabel('F1-score %')\n",
    "plt.ylabel('')\n",
    "plt.title('F1-score')\n",
    "plt.show()\n",
    "\n",
    "## AUC\n",
    "# Figure Size\n",
    "fig, ax = plt.subplots(figsize =(10, 5))\n",
    "\n",
    "# Add x, y gridlines\n",
    "ax.grid(visible = True, color ='dimgrey',\n",
    "        linestyle = '--', linewidth = 1,\n",
    "        alpha = 0.2)\n",
    "\n",
    "sns.set_color_codes(\"muted\")\n",
    "sns.barplot(x='AUC', y='Classifier', data=log, color=\"r\")\n",
    "\n",
    "# Add annotation to bars\n",
    "for i in ax.patches:\n",
    "    plt.text(i.get_width(), i.get_y()+0.4,\n",
    "             str(round((i.get_width()), 2)),\n",
    "             fontsize = 10, fontweight ='bold',\n",
    "             color ='dimgrey')\n",
    "\n",
    "plt.xlabel('Area Under Curve')\n",
    "plt.ylabel('')\n",
    "plt.title('AUC')\n",
    "plt.show()"
   ]
  },
  {
   "cell_type": "code",
   "execution_count": null,
   "metadata": {},
   "outputs": [],
   "source": [
    "sns.set(rc={\"figure.dpi\":300, 'savefig.dpi':300})\n",
    "sns.set_context('notebook')\n",
    "sns.set_style(\"ticks\")\n",
    "\n",
    "df2 = pd.melt(log, value_vars=[ \"Accuracy\", \"Precision\", \"Recall\", \"F1\", \"AUC\"], id_vars=\"Classifier\")\n",
    "\n",
    "#sns.set(style=\"ticks\")\n",
    "\n",
    "g = sns.catplot(data=df2,\n",
    "                   kind=\"bar\",\n",
    "                   col=\"variable\", # we have 1 plot per variable, forming 1 line and 5 columns (5 different variables)\n",
    "                   x=\"Classifier\", # in each plot the x-axis will be the name\n",
    "                   y=\"value\", # the height of the bar\n",
    "                   col_wrap=3,# we actually want your line of plots to contain 3 plots maximum \n",
    "                   palette=\"mako\", #Set2,Paired\n",
    "                  )\n",
    "\n",
    "# adding labels to bars\n",
    "for ax in g.axes.ravel():\n",
    "    for c in ax.containers:\n",
    "        labels = [f'{(v.get_height()):.1f}' for v in c]\n",
    "        ax.bar_label(c, labels=labels, label_type='edge')\n",
    "    ax.margins(y=0.2)\n",
    "\n",
    "plt.ylabel('')\n",
    "g.set_xticklabels(fontsize=10, rotation=25) # rotate the labels so they don't overlap\n",
    "plt.tight_layout() # fit everything into the figure\n"
   ]
  },
  {
   "cell_type": "markdown",
   "metadata": {},
   "source": [
    "### Plot Area Under Curve"
   ]
  },
  {
   "cell_type": "code",
   "execution_count": null,
   "metadata": {},
   "outputs": [],
   "source": [
    "from sklearn import metrics\n",
    "\n",
    "i=0\n",
    "labels=[]\n",
    "\n",
    "# Figure Size\n",
    "plt.subplots(figsize =(10, 5))\n",
    "# Add x, y gridlines\n",
    "plt.grid(visible = True, color ='dimgrey',\n",
    "        linestyle = '--', linewidth = 0.5,\n",
    "        alpha = 0.2)\n",
    "\n",
    "# Plot models' ROC curves\n",
    "for clf in classifiers:\n",
    "  name = name_of_model[i]\n",
    "  i+=1\n",
    "  \n",
    "  # if statement to select scaled data(-1, 1) for MobileNet2\n",
    "  if name == name_of_model[-1]:\n",
    "    pred = clf.predict(X_test_mn, verbose = 0).ravel() # Predict prob and get Class Indices\n",
    "    ns_fpr, ns_tpr, _ = metrics.roc_curve(y_test_mn.ravel(), pred) # Calculate ROC curves\n",
    "  else:\n",
    "    pred = clf.predict(X_test, verbose = 0).ravel()\n",
    "    ns_fpr, ns_tpr, _ = metrics.roc_curve(y_test.ravel(), pred)\n",
    "  \n",
    "  # plot the roc curve of the model\n",
    "  plt.plot(ns_fpr, ns_tpr, linestyle='-', label=name)\n",
    "  labels.append(name)\n",
    "\n",
    "# axis labels\n",
    "plt.xlabel('False Positive Rate')\n",
    "plt.ylabel('True Positive Rate')\n",
    "plt.legend(labels, \n",
    "          columnspacing=1.0, \n",
    "          labelspacing=0.0,\n",
    "          handletextpad=0.0, \n",
    "          handlelength=1.5,\n",
    "          fancybox=True,\n",
    "          shadow=True)\n",
    "   \n",
    "# show the plot\n",
    "plt.show()"
   ]
  },
  {
   "cell_type": "markdown",
   "metadata": {},
   "source": [
    "### Accuracy vs False Negative Rate"
   ]
  },
  {
   "cell_type": "code",
   "execution_count": null,
   "metadata": {},
   "outputs": [],
   "source": [
    "i=0\n",
    "labels=[]\n",
    "\n",
    "# Figure Size\n",
    "plt.subplots(figsize =(10, 5))\n",
    "\n",
    "# Add x, y gridlines\n",
    "plt.grid(visible = True, color ='dimgrey',\n",
    "        linestyle = '--', linewidth = 0.5,\n",
    "        alpha = 0.2)\n",
    "\n",
    "# Plot several different AUC\n",
    "for clf in classifiers:\n",
    "  name = name_of_model[i]\n",
    "  i+=1    \n",
    "  \n",
    "  # if statement to select scaled data(-1, 1) for MobileNet2\n",
    "  if name == name_of_model[-1]:\n",
    "    y_true = np.argmax(y_test_mn, axis = 1)[:]\n",
    "    pred = clf.predict(X_test_mn, verbose = 0) # Predict prob and get Class Indices\n",
    "    y_pred= np.argmax(pred, axis = 1)[:]\n",
    "  else:\n",
    "    y_true = np.argmax(y_test, axis = 1)[:]\n",
    "    pred = clf.predict(X_test, verbose = 0)\n",
    "    y_pred= np.argmax(pred, axis = 1)[:]\n",
    "  \n",
    "  cf = confusion_matrix(y_true, y_pred)\n",
    "  fpr = (cf[1][0] / ( cf[1][0] + cf[0][1] ))*100\n",
    "  acc = log.loc[log['Classifier']==name,'Accuracy']\n",
    "  \n",
    "  plt.scatter(fpr, acc)#, label=name)\n",
    "  #labels.append(name)\n",
    "\n",
    "  plt.annotate(name, (fpr-0.6, acc+0.2))\n",
    "  \n",
    "# axis labels\n",
    "plt.xlabel('False Positive Rate%')\n",
    "plt.ylabel('Accuracy%')\n",
    "#plt.legend(labels, \n",
    "          # columnspacing=1.0, \n",
    "          # labelspacing=0.0,\n",
    "          # handletextpad=0.0, \n",
    "          # handlelength=1.5,\n",
    "          # fancybox=True,\n",
    "          # shadow=True)\n",
    "   \n",
    "# show the plot\n",
    "plt.show()"
   ]
  },
  {
   "cell_type": "markdown",
   "metadata": {},
   "source": [
    "### Showcase"
   ]
  },
  {
   "cell_type": "code",
   "execution_count": null,
   "metadata": {},
   "outputs": [],
   "source": [
    "# placeholder to display images and relevant predictions"
   ]
  },
  {
   "cell_type": "markdown",
   "metadata": {},
   "source": [
    "## Appendix"
   ]
  },
  {
   "cell_type": "markdown",
   "metadata": {},
   "source": [
    "### Images with bounding box on head"
   ]
  },
  {
   "cell_type": "code",
   "execution_count": 189,
   "metadata": {},
   "outputs": [],
   "source": [
    "cropped_imgs = []\n",
    "\n",
    "for xml_path in list_annotations:\n",
    "    try:    \n",
    "        with urlopen(xml_path) as my_xml:\n",
    "        \n",
    "            xmld = xmltodict.parse(my_xml)\n",
    "            tags = xmld['annotation']\n",
    "\n",
    "            img_path = prefix_url_imgs + tags['filename']\n",
    "            img_url = requests.get(img_path)\n",
    "            img_temp = Image.open(BytesIO(img_url.content))\n",
    "            image = cv2.cvtColor(np.array(img_temp), cv2.INPAINT_TELEA)\n",
    "            helmet = np.zeros(image.shape, dtype = 'int32')\n",
    "\n",
    "            if 'object' in tags:\n",
    "\n",
    "                if isinstance(tags['object'], list):\n",
    "                    for i in tags['object']:\n",
    "                        xmin = int(i['bndbox']['xmin'])\n",
    "                        ymin = int(i['bndbox']['ymin'])\n",
    "                        xmax = int(i['bndbox']['xmax'])\n",
    "                        ymax = int(i['bndbox']['ymax'])\n",
    "                        if i['name'] == 'With Helmet':\n",
    "                            helmet = cv2.rectangle(helmet, (xmin,ymin), (xmax,ymax), (0,255,0), -1)\n",
    "                            result = cv2.addWeighted(image, 1, helmet, 0.9, 0.7, dtype = cv2.CV_8UC3) #with helmet -> 1\n",
    "                            cropped_imgs.append([tags['filename'], image[ymin:ymax, xmin:xmax], 1, img_path])\n",
    "                            #visualize(image=image, result = result, head = image[ymin:ymax, xmin:xmax])\n",
    "                            \n",
    "                        else:\n",
    "                            cv2.rectangle(helmet, (xmin,ymin), (xmax,ymax), (255,0,0), -1)\n",
    "                            result = cv2.addWeighted(image, 1, helmet, 0.9, 0.7, dtype = cv2.CV_8UC3)\n",
    "                            cropped_imgs.append([tags['filename'], image[ymin:ymax, xmin:xmax], 0, img_path]) #without helmet -> 0\n",
    "                            \n",
    "                            #plt.imsave(os.path.join('results', tags['filename']), result)\n",
    "                    #visualize(image=image, result = result, head = image[ymin:ymax, xmin:xmax])\n",
    "                if isinstance(tags['object'], dict):\n",
    "                    xmin = int(tags['object']['bndbox']['xmin'])\n",
    "                    ymin = int(tags['object']['bndbox']['ymin'])\n",
    "                    xmax = int(tags['object']['bndbox']['xmax'])\n",
    "                    ymax = int(tags['object']['bndbox']['ymax'])\n",
    "                    if tags['object']['name'] == 'With Helmet':\n",
    "                        cv2.rectangle(helmet, (xmin,ymin), (xmax,ymax), (0,255,0), -1)\n",
    "                        result = cv2.addWeighted(image, 1, helmet, 0.9, 0.7, dtype = cv2.CV_8UC3)\n",
    "                        cropped_imgs.append([tags['filename'], image[ymin:ymax, xmin:xmax], 1, img_path]) #with helmet -> 1\n",
    "                        #visualize(image=image, result = result, head = image[ymin:ymax, xmin:xmax])\n",
    "                    else:\n",
    "                        cv2.rectangle(helmet, (xmin,ymin), (xmax,ymax), (255,0,0), -1)\n",
    "                        result = cv2.addWeighted(image, 1, helmet, 0.9, 0.7, dtype = cv2.CV_8UC3)\n",
    "                        cropped_imgs.append([tags['filename'], image[ymin:ymax, xmin:xmax], 0, img_path]) #without helmet -> 0\n",
    "                    # plt.imsave(os.path.join('results', tags['filename']), result)\n",
    "                    #visualize(image=image, result = result, head = image[ymin:ymax, xmin:xmax])\n",
    "            else:\n",
    "                pass\n",
    "    except:\n",
    "        pass"
   ]
  },
  {
   "cell_type": "markdown",
   "metadata": {},
   "source": [
    "### Data preprocessing"
   ]
  },
  {
   "cell_type": "markdown",
   "metadata": {},
   "source": [
    "#### Data reshaping"
   ]
  },
  {
   "cell_type": "code",
   "execution_count": 190,
   "metadata": {},
   "outputs": [],
   "source": [
    "from tensorflow.keras.preprocessing.image import array_to_img\n",
    "all_cropped_imgs_v2 = []\n",
    "for i in range(1, len(cropped_imgs)):\n",
    "    try:\n",
    "        img_temp = array_to_img(cropped_imgs[i][1])\n",
    "        resized = img_temp.resize((120,120)) # resize all images to 40x40\n",
    "        image = cv2.cvtColor(np.array(resized), cv2.INPAINT_TELEA)\n",
    "        all_cropped_imgs_v2.append([cropped_imgs[i][0], image, cropped_imgs[i][2], cropped_imgs[i][3]])\n",
    "    except:\n",
    "        pass"
   ]
  },
  {
   "cell_type": "code",
   "execution_count": 191,
   "metadata": {},
   "outputs": [
    {
     "data": {
      "text/plain": [
       "<matplotlib.image.AxesImage at 0x1e8a44a92a0>"
      ]
     },
     "execution_count": 191,
     "metadata": {},
     "output_type": "execute_result"
    },
    {
     "data": {
      "image/png": "[encoded data removed]",
      "text/plain": [
       "<Figure size 432x288 with 1 Axes>"
      ]
     },
     "metadata": {
      "needs_background": "light"
     },
     "output_type": "display_data"
    }
   ],
   "source": [
    "plt.imshow(all_cropped_imgs_v2[1110][1], interpolation='nearest')"
   ]
  },
  {
   "cell_type": "code",
   "execution_count": 192,
   "metadata": {},
   "outputs": [],
   "source": [
    "# Transforming images in a proper array for model input\n",
    "cropped_imgs_array = []\n",
    "for i in range(0, len(all_cropped_imgs_v2)):\n",
    "    cropped_imgs_array.append(np.array(all_cropped_imgs_v2[i][1]))\n",
    "    \n",
    "cropped_imgs_array = np.array(cropped_imgs_array, dtype='int')\n",
    "\n",
    "# Creating an array with labels\n",
    "labels_array_cropped = []\n",
    "for i in range(0, len(all_cropped_imgs_v2)):\n",
    "    labels_array_cropped.append(np.array(all_cropped_imgs_v2[i][2]))\n",
    "  \n",
    "labels_array_cropped = np.array(labels_array_cropped, dtype='int')\n",
    "\n",
    "# Categorically encode the labels\n",
    "cropped_imgs_labels = to_categorical(labels_array_cropped)"
   ]
  },
  {
   "cell_type": "code",
   "execution_count": 193,
   "metadata": {},
   "outputs": [
    {
     "name": "stdout",
     "output_type": "stream",
     "text": [
      "Original shape of nd-array: (1433, 120, 120, 3)\n"
     ]
    }
   ],
   "source": [
    "data_cropped, input_shape_cr = reshape_img_input(x=cropped_imgs_array,\n",
    "                                         img_rows=120, \n",
    "                                         img_cols=120,\n",
    "                                         normalize=True)"
   ]
  },
  {
   "cell_type": "markdown",
   "metadata": {},
   "source": [
    "#### Train, Test & Validation split"
   ]
  },
  {
   "cell_type": "code",
   "execution_count": 194,
   "metadata": {},
   "outputs": [],
   "source": [
    "from sklearn.model_selection import train_test_split\n",
    "X_train_cr, X_test_1_cr, y_train_cr, y_test_1_cr = train_test_split(data_cropped, cropped_imgs_labels,\n",
    "                                                    stratify=cropped_imgs_labels, \n",
    "                                                    test_size=0.25, random_state=5)\n",
    "\n",
    "X_test_cr, X_val_cr, y_test_cr, y_val_cr = train_test_split(X_test_1_cr, y_test_1_cr,\n",
    "                                                    stratify=y_test_1_cr, \n",
    "                                                    test_size=0.25, random_state=5)"
   ]
  },
  {
   "cell_type": "code",
   "execution_count": 219,
   "metadata": {},
   "outputs": [
    {
     "data": {
      "text/plain": [
       "(120, 120, 3)"
      ]
     },
     "execution_count": 219,
     "metadata": {},
     "output_type": "execute_result"
    }
   ],
   "source": [
    "\n",
    "X_test_cr[1].shape"
   ]
  },
  {
   "cell_type": "markdown",
   "metadata": {},
   "source": [
    "### Fitting InceptionV3 on cropped images"
   ]
  },
  {
   "cell_type": "code",
   "execution_count": 199,
   "metadata": {},
   "outputs": [
    {
     "name": "stdout",
     "output_type": "stream",
     "text": [
      "Model: \"model_1\"\n",
      "_________________________________________________________________\n",
      " Layer (type)                Output Shape              Param #   \n",
      "=================================================================\n",
      " input_4 (InputLayer)        [(None, 120, 120, 3)]     0         \n",
      "                                                                 \n",
      " inception_v3 (Functional)   (None, 2, 2, 2048)        21802784  \n",
      "                                                                 \n",
      " global_average_pooling2d_1   (None, 2048)             0         \n",
      " (GlobalAveragePooling2D)                                        \n",
      "                                                                 \n",
      " dense_2 (Dense)             (None, 2)                 4098      \n",
      "                                                                 \n",
      "=================================================================\n",
      "Total params: 21,806,882\n",
      "Trainable params: 4,098\n",
      "Non-trainable params: 21,802,784\n",
      "_________________________________________________________________\n"
     ]
    }
   ],
   "source": [
    "inceptv3_cropped = InceptionV3(\n",
    "    weights = \"imagenet\",\n",
    "    input_shape = (120, 120, 3),\n",
    "    include_top = False \n",
    ")\n",
    "\n",
    "for layer in inceptv3_cropped.layers:\n",
    "    layer.trainable = False\n",
    "\n",
    "inputs = Input(shape=(120, 120, 3))\n",
    "x = inceptv3_cropped(inputs, training=False)\n",
    "x = layers.GlobalAveragePooling2D()(x)\n",
    "outputs = layers.Dense(2, activation='softmax')(x)\n",
    "inception_v3_cropped = Model(inputs, outputs)\n",
    "\n",
    "inception_v3_cropped.summary()"
   ]
  },
  {
   "cell_type": "code",
   "execution_count": 200,
   "metadata": {},
   "outputs": [],
   "source": [
    "opt = optimizers.Adam(learning_rate=learning_Rate*10) \n",
    "inception_v3_cropped.compile(optimizer = opt,\n",
    "                        loss = \"categorical_crossentropy\",\n",
    "                        metrics = ['accuracy', 'Recall', 'Precision', 'AUC'])"
   ]
  },
  {
   "cell_type": "code",
   "execution_count": 307,
   "metadata": {},
   "outputs": [
    {
     "name": "stdout",
     "output_type": "stream",
     "text": [
      "Epoch 1/50\n",
      "71/71 [==============================] - 33s 463ms/step - loss: 0.8638 - accuracy: 0.8904 - recall: 0.8904 - precision: 0.8904 - auc: 0.9365 - val_loss: 0.2005 - val_accuracy: 0.9222 - val_recall: 0.9222 - val_precision: 0.9222 - val_auc: 0.9790 - lr: 1.0000e-03\n",
      "Epoch 2/50\n",
      "71/71 [==============================] - 36s 501ms/step - loss: 0.3380 - accuracy: 0.9234 - recall: 0.9234 - precision: 0.9234 - auc: 0.9701 - val_loss: 0.1716 - val_accuracy: 0.9444 - val_recall: 0.9444 - val_precision: 0.9444 - val_auc: 0.9790 - lr: 1.0000e-03\n",
      "Epoch 3/50\n",
      "71/71 [==============================] - 65s 905ms/step - loss: 0.2006 - accuracy: 0.9505 - recall: 0.9505 - precision: 0.9505 - auc: 0.9831 - val_loss: 0.1290 - val_accuracy: 0.9444 - val_recall: 0.9444 - val_precision: 0.9444 - val_auc: 0.9893 - lr: 1.0000e-03\n",
      "Epoch 4/50\n",
      "71/71 [==============================] - 50s 715ms/step - loss: 0.1281 - accuracy: 0.9635 - recall: 0.9635 - precision: 0.9635 - auc: 0.9915 - val_loss: 0.0993 - val_accuracy: 0.9667 - val_recall: 0.9667 - val_precision: 0.9667 - val_auc: 0.9946 - lr: 1.0000e-03\n",
      "Epoch 5/50\n",
      "71/71 [==============================] - 51s 709ms/step - loss: 0.0979 - accuracy: 0.9746 - recall: 0.9746 - precision: 0.9746 - auc: 0.9945 - val_loss: 0.1039 - val_accuracy: 0.9556 - val_recall: 0.9556 - val_precision: 0.9556 - val_auc: 0.9936 - lr: 1.0000e-03\n",
      "Epoch 6/50\n",
      "71/71 [==============================] - 60s 847ms/step - loss: 0.0680 - accuracy: 0.9857 - recall: 0.9857 - precision: 0.9857 - auc: 0.9971 - val_loss: 0.0967 - val_accuracy: 0.9667 - val_recall: 0.9667 - val_precision: 0.9667 - val_auc: 0.9953 - lr: 1.0000e-03\n",
      "Epoch 7/50\n",
      "71/71 [==============================] - 43s 604ms/step - loss: 0.0573 - accuracy: 0.9880 - recall: 0.9880 - precision: 0.9880 - auc: 0.9981 - val_loss: 0.1260 - val_accuracy: 0.9444 - val_recall: 0.9444 - val_precision: 0.9444 - val_auc: 0.9900 - lr: 1.0000e-03\n",
      "Epoch 8/50\n",
      "71/71 [==============================] - 70s 993ms/step - loss: 0.0532 - accuracy: 0.9893 - recall: 0.9893 - precision: 0.9893 - auc: 0.9987 - val_loss: 0.0937 - val_accuracy: 0.9556 - val_recall: 0.9556 - val_precision: 0.9556 - val_auc: 0.9947 - lr: 1.0000e-03\n",
      "Epoch 9/50\n",
      "71/71 [==============================] - 35s 487ms/step - loss: 0.0432 - accuracy: 0.9929 - recall: 0.9929 - precision: 0.9929 - auc: 0.9995 - val_loss: 0.1252 - val_accuracy: 0.9444 - val_recall: 0.9444 - val_precision: 0.9444 - val_auc: 0.9904 - lr: 1.0000e-03\n",
      "Epoch 10/50\n",
      "71/71 [==============================] - 73s 1s/step - loss: 0.0321 - accuracy: 0.9951 - recall: 0.9951 - precision: 0.9951 - auc: 0.9999 - val_loss: 0.1311 - val_accuracy: 0.9333 - val_recall: 0.9333 - val_precision: 0.9333 - val_auc: 0.9900 - lr: 1.0000e-03\n",
      "Epoch 11/50\n",
      "71/71 [==============================] - 35s 493ms/step - loss: 0.0259 - accuracy: 0.9982 - recall: 0.9982 - precision: 0.9982 - auc: 0.9999 - val_loss: 0.1197 - val_accuracy: 0.9444 - val_recall: 0.9444 - val_precision: 0.9444 - val_auc: 0.9913 - lr: 1.0000e-03\n",
      "Epoch 12/50\n",
      "71/71 [==============================] - 66s 945ms/step - loss: 0.0295 - accuracy: 0.9960 - recall: 0.9960 - precision: 0.9960 - auc: 0.9994 - val_loss: 0.0889 - val_accuracy: 0.9667 - val_recall: 0.9667 - val_precision: 0.9667 - val_auc: 0.9954 - lr: 1.0000e-03\n",
      "Epoch 13/50\n",
      "71/71 [==============================] - 40s 559ms/step - loss: 0.0234 - accuracy: 0.9982 - recall: 0.9982 - precision: 0.9982 - auc: 0.9998 - val_loss: 0.1437 - val_accuracy: 0.9333 - val_recall: 0.9333 - val_precision: 0.9333 - val_auc: 0.9882 - lr: 1.0000e-03\n",
      "Epoch 14/50\n",
      "71/71 [==============================] - 81s 1s/step - loss: 0.0207 - accuracy: 0.9982 - recall: 0.9982 - precision: 0.9982 - auc: 0.9997 - val_loss: 0.1401 - val_accuracy: 0.9444 - val_recall: 0.9444 - val_precision: 0.9444 - val_auc: 0.9886 - lr: 1.0000e-03\n",
      "Epoch 15/50\n",
      "71/71 [==============================] - 50s 711ms/step - loss: 0.0211 - accuracy: 0.9982 - recall: 0.9982 - precision: 0.9982 - auc: 0.9998 - val_loss: 0.0944 - val_accuracy: 0.9667 - val_recall: 0.9667 - val_precision: 0.9667 - val_auc: 0.9943 - lr: 1.0000e-03\n",
      "Epoch 16/50\n",
      "71/71 [==============================] - 73s 1s/step - loss: 0.0177 - accuracy: 0.9991 - recall: 0.9991 - precision: 0.9991 - auc: 1.0000 - val_loss: 0.0969 - val_accuracy: 0.9556 - val_recall: 0.9556 - val_precision: 0.9556 - val_auc: 0.9944 - lr: 1.0000e-03\n",
      "Epoch 17/50\n",
      "71/71 [==============================] - ETA: 0s - loss: 0.0165 - accuracy: 0.9978 - recall: 0.9978 - precision: 0.9978 - auc: 0.9998\n",
      "Epoch 17: ReduceLROnPlateau reducing learning rate to 9.999999310821295e-05.\n",
      "71/71 [==============================] - 49s 700ms/step - loss: 0.0165 - accuracy: 0.9978 - recall: 0.9978 - precision: 0.9978 - auc: 0.9998 - val_loss: 0.1647 - val_accuracy: 0.9333 - val_recall: 0.9333 - val_precision: 0.9333 - val_auc: 0.9794 - lr: 1.0000e-03\n",
      "Epoch 18/50\n",
      "71/71 [==============================] - 62s 876ms/step - loss: 0.0133 - accuracy: 0.9991 - recall: 0.9991 - precision: 0.9991 - auc: 1.0000 - val_loss: 0.1210 - val_accuracy: 0.9667 - val_recall: 0.9667 - val_precision: 0.9667 - val_auc: 0.9910 - lr: 1.0000e-04\n",
      "Epoch 19/50\n",
      "71/71 [==============================] - 43s 607ms/step - loss: 0.0126 - accuracy: 0.9982 - recall: 0.9982 - precision: 0.9982 - auc: 1.0000 - val_loss: 0.1210 - val_accuracy: 0.9667 - val_recall: 0.9667 - val_precision: 0.9667 - val_auc: 0.9910 - lr: 1.0000e-04\n",
      "Epoch 20/50\n",
      "71/71 [==============================] - ETA: 0s - loss: 0.0122 - accuracy: 0.9982 - recall: 0.9982 - precision: 0.9982 - auc: 1.0000Restoring model weights from the end of the best epoch: 12.\n",
      "71/71 [==============================] - 69s 968ms/step - loss: 0.0122 - accuracy: 0.9982 - recall: 0.9982 - precision: 0.9982 - auc: 1.0000 - val_loss: 0.1185 - val_accuracy: 0.9667 - val_recall: 0.9667 - val_precision: 0.9667 - val_auc: 0.9912 - lr: 1.0000e-04\n",
      "Epoch 20: early stopping\n"
     ]
    }
   ],
   "source": [
    "model_cropped = inception_v3_cropped.fit(\n",
    "                    x = X_train_cr,\n",
    "                    y = y_train_cr,\n",
    "                    epochs = num_Epochs,\n",
    "                    steps_per_epoch = steps_per_Epoch,\n",
    "                    batch_size = batch_Size,\n",
    "                    verbose = 1,\n",
    "                    validation_data = (X_val_cr, y_val_cr),\n",
    "                    callbacks = [early_stopping, lrr]\n",
    "                    )"
   ]
  },
  {
   "cell_type": "code",
   "execution_count": null,
   "metadata": {},
   "outputs": [],
   "source": [
    "loss = model_cropped.history['loss']\n",
    "val_loss = model_cropped.history['val_loss']\n",
    "acc = model_cropped.history['accuracy']\n",
    "val_acc = model_cropped.history['val_accuracy']\n",
    "epochs = range(1, len(loss) + 1)\n",
    "\n",
    "# plotting accuracy \n",
    "plt.plot(epochs, acc, color='blue', label='Training')\n",
    "plt.plot(epochs, val_acc, color='green', label='Validation')\n",
    "plt.title('Training and Validation accuracy')\n",
    "plt.xlabel('Epochs')\n",
    "plt.ylabel('Accuracy')\n",
    "plt.legend()\n",
    "plt.show()\n",
    "\n",
    "# plotting loss\n",
    "plt.plot(epochs, loss, color='orange', label='Training')\n",
    "plt.plot(epochs, val_loss, color='red', label='Validation')\n",
    "plt.title('Training and Validation loss')\n",
    "plt.xlabel('Epochs')\n",
    "plt.ylabel('Loss')\n",
    "plt.legend()\n",
    "plt.show()"
   ]
  },
  {
   "cell_type": "code",
   "execution_count": null,
   "metadata": {},
   "outputs": [],
   "source": [
    "y_true = np.argmax(y_test_cr, axis = 1)[:]\n",
    "pred = inception_v3_cropped.predict(X_test_cr, verbose = 0) # Predict prob and get Class Indices\n",
    "y_pred= np.argmax(pred, axis = 1)[:]\n",
    "\n",
    "# calculate accuracy\n",
    "acc = accuracy_score(y_pred[:], y_true[:])\n",
    "\n",
    "print(\"InceptionV3 Accuracy on cropped images: {:.2%}\".format(acc))"
   ]
  },
  {
   "cell_type": "markdown",
   "metadata": {},
   "source": [
    "## Testing the Results"
   ]
  },
  {
   "cell_type": "markdown",
   "metadata": {},
   "source": [
    "### Testing the full images using the best model"
   ]
  },
  {
   "cell_type": "code",
   "execution_count": null,
   "metadata": {},
   "outputs": [],
   "source": [
    "#need only as an input a picture\n",
    "#extract from the test dataset\n",
    "\n",
    "def Detect_Helmet_From_Dataset(i):\n",
    "\t\n",
    "\timage=X_test[i]\n",
    "\t#The bounding box for the labels\n",
    "\tstartX=0\n",
    "\tstartY=0\n",
    "\tendX=224\n",
    "\tendY=224\n",
    "\n",
    "\t# Run the image through the model to see whether it has a helmet on it or not.\n",
    "\t(WithouthHelmet, Helmet) = CNN_few_Layers.predict(X_test, verbose = 0)[i]\n",
    "\n",
    "\t# Choose a class mark and a color to use for the bounding box and text.\n",
    "\tlabel = \"Helmet\" if Helmet > WithouthHelmet else \"No Helmet\"\n",
    "\tcolor =  (0,255,0) if label == \"Helmet\" else (255,0,0)\n",
    "\n",
    "\t# Show the confidence (probability) in the label.\n",
    "\tlabel = \"{}: {:.2f}%\".format(label, max(Helmet, WithouthHelmet) * 100)\n",
    "\n",
    "\t# On the output panel, show the mark and bounding box rectangle.\n",
    "\tcv2.putText(image, label, (10, 20),\n",
    "\t\t\t\tcv2.FONT_HERSHEY_SIMPLEX, 0.55, color, 1)\n",
    "\t\t\t\t\n",
    "\tcv2.rectangle(image, (startX+5, startY+5), (endX-5, endY-5), color, 2)\n",
    "\n",
    "\t# # Display the final picture\n",
    "\tplt.figure(figsize=(5, 5))  \n",
    "\tplt.axis('off')\n",
    "\tplt.imshow(image)\n",
    "\n",
    "Detect_Helmet_From_Dataset(98)"
   ]
  },
  {
   "cell_type": "code",
   "execution_count": null,
   "metadata": {},
   "outputs": [],
   "source": [
    "\n",
    "# url=\"https://raw.githubusercontent.com/konstantinos-al/ml_project_quebec/main/Kaggle_helmets/images/BikesHelmets78.png\"\n",
    "url=\"https://149361200.v2.pressablecdn.com/wp-content/uploads/2013/05/Motorcycle-couple-resized-600.png\"\n",
    "\n",
    "def Detect_helmet(image_url):\n",
    "\n",
    "    response = requests.get(image_url)\n",
    "    bytes_im = BytesIO(response.content)\n",
    "    cv_im = cv2.cvtColor(np.array(Image.open(bytes_im)), cv2.INPAINT_TELEA)\n",
    "\n",
    "    (startX, startY, endX, endY) = [0,244,0,244]\n",
    "\n",
    "    cv_im = cv2.cvtColor(np.array(Image.open(bytes_im)), cv2.INPAINT_TELEA)\n",
    "    face = cv_im[startY:endY, startX:endX]\n",
    "    face = cv2.cvtColor(cv_im, cv2.INPAINT_TELEA)\n",
    "    face = cv2.resize(face, (224, 224)) #inception_v3_cropped model for cropped has as input 120x120 shape\n",
    "    face = img_to_array(face)\n",
    "    face = preprocess_input(face)\n",
    "    face = np.expand_dims(face, axis=0)\n",
    "\n",
    "    #make the prediction\n",
    "    inception_v3_cropped.predict(face, verbose = 0)[0]\n",
    "\n",
    "    # Run the image through the model to see whether it has a helmet on it or not.\n",
    "    (WithouthHelmet, Helmet) = inception_v3_cropped.predict(face, verbose = 0)[0]\n",
    "\n",
    "    # Choose a class mark and a color to use for the bounding box and text.\n",
    "    label = \"Helmet\" if Helmet > WithouthHelmet else \"No Helmet\"\n",
    "    color =  (0,255,0) if label == \"Helmet\" else (255,0,0)\n",
    "\n",
    "    # Show the confidence (probability) in the label.\n",
    "    label = \"{}: {:.2f}%\".format(label, max(Helmet, WithouthHelmet) * 100)\n",
    "\n",
    "    cv_im = cv2.resize(cv_im, (500, 500))\n",
    "\n",
    "    # On the output panel, show the mark and bounding box rectangle.\n",
    "    cv2.putText(cv_im, label, (20, 20),\n",
    "                cv2.FONT_HERSHEY_SIMPLEX, 0.55, color, 1)\n",
    "                \n",
    "    cv2.rectangle(cv_im, (5,5) , (495, 495), color, 2)\n",
    "\n",
    "    # Display the final picture\n",
    "    plt.figure(figsize=(5, 5))  \n",
    "    # plt.axis('off')\n",
    "    plt.imshow(cv_im)\n",
    "\n",
    "Detect_helmet(url)"
   ]
  },
  {
   "cell_type": "markdown",
   "metadata": {},
   "source": [
    "### Detect helmets using bounding box\n",
    "Once we know where in the image the face is using the boundig box, we can extract the face . And from there, we apply the model for helmet detection, allowing us to predict the"
   ]
  },
  {
   "cell_type": "code",
   "execution_count": null,
   "metadata": {},
   "outputs": [],
   "source": [
    "box=[[231,45,278,92],[306,64,331,95]]\n",
    "url=\"https://raw.githubusercontent.com/konstantinos-al/ml_project_quebec/main/Kaggle_helmets/images/BikesHelmets73.png\"\n",
    "\n",
    "def detect_face_and_helmet(image_url,box):\n",
    "\n",
    "\tresponse = requests.get(image_url)\n",
    "\tbytes_im = BytesIO(response.content)\n",
    "\tcv_im = cv2.cvtColor(np.array(Image.open(bytes_im)), cv2.INPAINT_TELEA)\n",
    "\n",
    "\t\n",
    "\tfor i in range(0,len(box)):\n",
    "\t# coordinates (x, y) of the object's bounding box.\n",
    "\t\t(startX, startY, endX, endY) = box[i]\n",
    "\n",
    "\t\t# Select the face ROI, adjust the channel ordering from BGR to RGB, and resize it to 120, 120 pixels., and preprocess it\n",
    "\t\tface = cv_im[startY:endY, startX:endX]\n",
    "\t\tface = cv2.cvtColor(face, cv2.INPAINT_TELEA)\n",
    "\t\tface = cv2.resize(face, (120, 120)) #inception_v3_cropped model for cropped has as input 120x120 shape\n",
    "\t\tface = img_to_array(face)\n",
    "\t\tface = preprocess_input(face)\n",
    "\t\tface = np.expand_dims(face, axis=0)\n",
    "\n",
    "\t\t#make the prediction\n",
    "\t\tinception_v3_cropped.predict(face, verbose = 0)[0]\n",
    "\t\n",
    "\t\t# Run the image through the model to see whether it has a helmet on it or not.\n",
    "\t\t(WithouthHelmet, Helmet) = inception_v3_cropped.predict(face, verbose = 0)[0]\n",
    "\n",
    "\t\t# Choose a class mark and a color to use for the bounding box and text.\n",
    "\t\tlabel = \"Helmet\" if Helmet > WithouthHelmet else \"No Helmet\"\n",
    "\t\tcolor =  (0,255,0) if label == \"Helmet\" else (255,0,0)\n",
    "\n",
    "\t\t# Show the confidence (probability) in the label.\n",
    "\t\tlabel = \"{}: {:.2f}%\".format(label, max(Helmet, WithouthHelmet) * 100)\n",
    "\n",
    "\t\t# On the output panel, show the mark and bounding box rectangle.\n",
    "\t\tcv2.putText(cv_im, label, (startX-80, startY - 20),\n",
    "\t\t\t\t\tcv2.FONT_HERSHEY_SIMPLEX, 0.55, color, 2)\n",
    "\t\tcv2.rectangle(cv_im, (startX+5, startY+5), (endX-5, endY-5), color, 2)\n",
    "\n",
    "\t# Display the final picture\n",
    "\tplt.figure(figsize=(5, 5))  \n",
    "\tplt.axis('off')\n",
    "\tplt.imshow(cv_im)\n",
    "\t# print(WithouthHelmet)\n",
    "\n",
    "detect_face_and_helmet(url,box)\n"
   ]
  }
 ],
 "metadata": {
  "kernelspec": {
   "display_name": "Python 3.10.6 64-bit",
   "language": "python",
   "name": "python3"
  },
  "language_info": {
   "codemirror_mode": {
    "name": "ipython",
    "version": 3
   },
   "file_extension": ".py",
   "mimetype": "text/x-python",
   "name": "python",
   "nbconvert_exporter": "python",
   "pygments_lexer": "ipython3",
   "version": "3.10.6"
  },
  "orig_nbformat": 4,
  "vscode": {
   "interpreter": {
    "hash": "2e58c5a8403c8da273cdea0cfc93dc63f2bf22fe40fbfcaebf6cf40fb9d89270"
   }
  }
 },
 "nbformat": 4,
 "nbformat_minor": 2
}
