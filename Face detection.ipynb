{
 "cells": [
  {
   "cell_type": "code",
   "execution_count": 157,
   "id": "4e339d61",
   "metadata": {},
   "outputs": [],
   "source": [
    "import xml.etree.ElementTree as ET\n",
    "import cv2\n",
    "import matplotlib.pyplot as plt\n",
    "import numpy as np\n",
    "from matplotlib.colors import LogNorm\n",
    "import glob\n",
    "from skimage import io\n",
    "import os\n",
    "from scipy.signal import convolve2d\n",
    "from PIL import Image  \n",
    "import PIL \n",
    "from matplotlib import pyplot as plt\n",
    "import matplotlib.pyplot as plt\n",
    "import matplotlib.image as mpimg\n",
    "import urllib\n"
   ]
  },
  {
   "cell_type": "code",
   "execution_count": 56,
   "id": "11402aa1",
   "metadata": {},
   "outputs": [],
   "source": [
    "def extract_boxes(filename):        \n",
    "    # load and parse the file\n",
    "    tree = ET.parse(filename)\n",
    "    # get the root of the document\n",
    "    root = tree.getroot()\n",
    "    # extract each bounding box\n",
    "    boxes = list()\n",
    "    for box in root.findall('.//bndbox'):\n",
    "        xmin = int(box.find('xmin').text)\n",
    "        ymin = int(box.find('ymin').text)\n",
    "        xmax = int(box.find('xmax').text)\n",
    "        ymax = int(box.find('ymax').text)\n",
    "        coors = [xmin, ymin, xmax, ymax]\n",
    "        boxes.append(coors)\n",
    "        \n",
    "    # extract image dimensions\n",
    "    # width = int(root.find('.//size/width').text)\n",
    "    # height = int(root.find('.//size/height').text)\n",
    "    \n",
    "    return boxes #, width, height"
   ]
  },
  {
   "cell_type": "code",
   "execution_count": 83,
   "id": "2e2924b4",
   "metadata": {},
   "outputs": [],
   "source": [
    " def bounding_box_img(img,bbox):\n",
    "          #  x_min, y_min, x_max, y_max = bbox\n",
    "            x_min=box[0]\n",
    "            y_min=box[1]\n",
    "            x_max=box[2]\n",
    "            y_max=box[3]\n",
    "            bbox_obj = img[y_min:y_max, x_min:x_max]\n",
    "            return bbox_obj"
   ]
  },
  {
   "cell_type": "code",
   "execution_count": null,
   "id": "8cc5ad59",
   "metadata": {
    "scrolled": true
   },
   "outputs": [],
   "source": [
    "for i in range(0,756) :\n",
    "    \n",
    "    filename=\"C://Users//Eftixia//Desktop//dataset//Final Helmet datasets//Helmet Kaggle//annotations//BikesHelmets\"+str(i)+'.xml'\n",
    "    image = cv2.imread(\"C://Users//Eftixia//Desktop//dataset//Final Helmet datasets//Helmet Kaggle//images//BikesHelmets\"+str(i)+\".png\")\n",
    "\n",
    "    for j in range(0, len(extract_boxes(filename)) ): \n",
    "        box=extract_boxes(filename)[j]\n",
    "        face = bounding_box_img(image,box)\n",
    "        img=plt.imshow(face, interpolation ='spline36', filternorm=True) #spline36, antialiased\n",
    "        img.figure.savefig(\"C://Users//Eftixia//Desktop//dataset//Final Helmet datasets//Helmet Kaggle//imagesface//FaceBikesHelmets88\"+str(i)+\".png\")\n",
    "        plt.show()\n"
   ]
  },
  {
   "cell_type": "code",
   "execution_count": 173,
   "id": "26baf518",
   "metadata": {},
   "outputs": [
    {
     "data": {
      "text/plain": [
       "[[29, 105, 82, 160],\n",
       " [122, 66, 193, 154],\n",
       " [201, 43, 246, 98],\n",
       " [307, 17, 371, 107]]"
      ]
     },
     "execution_count": 173,
     "metadata": {},
     "output_type": "execute_result"
    }
   ],
   "source": [
    "# filename=\"C://Users//Eftixia//Desktop//dataset//Final Helmet datasets//Helmet Kaggle//annotations//BikesHelmets0.xml\"\n",
    "# image = cv2.imread(\"C://Users//Eftixia//Desktop//dataset//Final Helmet datasets//Helmet Kaggle//images//BikesHelmets0.png\")\n",
    "# extract_boxes(filename)"
   ]
  }
 ],
 "metadata": {
  "kernelspec": {
   "display_name": "Python 3 (ipykernel)",
   "language": "python",
   "name": "python3"
  },
  "language_info": {
   "codemirror_mode": {
    "name": "ipython",
    "version": 3
   },
   "file_extension": ".py",
   "mimetype": "text/x-python",
   "name": "python",
   "nbconvert_exporter": "python",
   "pygments_lexer": "ipython3",
   "version": "3.9.7"
  }
 },
 "nbformat": 4,
 "nbformat_minor": 5
}
